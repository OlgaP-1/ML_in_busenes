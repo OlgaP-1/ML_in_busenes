{
 "cells": [
  {
   "cell_type": "code",
   "execution_count": 1,
   "id": "d70a65f0",
   "metadata": {},
   "outputs": [
    {
     "name": "stdout",
     "output_type": "stream",
     "text": [
      "Requirement already satisfied: razdel in e:\\program files\\anaconda\\lib\\site-packages (0.5.0)\n"
     ]
    }
   ],
   "source": [
    "!pip install razdel"
   ]
  },
  {
   "cell_type": "code",
   "execution_count": 2,
   "id": "442721cc",
   "metadata": {},
   "outputs": [
    {
     "name": "stdout",
     "output_type": "stream",
     "text": [
      "Requirement already satisfied: pymorphy2 in e:\\program files\\anaconda\\lib\\site-packages (0.9.1)\n",
      "Requirement already satisfied: pymorphy2-dicts-ru<3.0,>=2.4 in e:\\program files\\anaconda\\lib\\site-packages (from pymorphy2) (2.4.417127.4579844)\n",
      "Requirement already satisfied: dawg-python>=0.7.1 in e:\\program files\\anaconda\\lib\\site-packages (from pymorphy2) (0.7.2)\n",
      "Requirement already satisfied: docopt>=0.6 in e:\\program files\\anaconda\\lib\\site-packages (from pymorphy2) (0.6.2)\n"
     ]
    }
   ],
   "source": [
    "!pip install pymorphy2"
   ]
  },
  {
   "cell_type": "code",
   "execution_count": 3,
   "id": "84268be7",
   "metadata": {},
   "outputs": [
    {
     "name": "stdout",
     "output_type": "stream",
     "text": [
      "Requirement already satisfied: pyLDAvis in e:\\program files\\anaconda\\lib\\site-packages (3.3.1)\n",
      "Requirement already satisfied: jinja2 in e:\\program files\\anaconda\\lib\\site-packages (from pyLDAvis) (2.11.3)\n",
      "Requirement already satisfied: numexpr in e:\\program files\\anaconda\\lib\\site-packages (from pyLDAvis) (2.7.3)\n",
      "Requirement already satisfied: funcy in e:\\program files\\anaconda\\lib\\site-packages (from pyLDAvis) (1.16)\n",
      "Requirement already satisfied: sklearn in e:\\program files\\anaconda\\lib\\site-packages (from pyLDAvis) (0.0)\n",
      "Requirement already satisfied: future in e:\\program files\\anaconda\\lib\\site-packages (from pyLDAvis) (0.18.2)\n",
      "Requirement already satisfied: numpy>=1.20.0 in e:\\program files\\anaconda\\lib\\site-packages (from pyLDAvis) (1.20.1)\n",
      "Requirement already satisfied: joblib in e:\\program files\\anaconda\\lib\\site-packages (from pyLDAvis) (1.0.1)\n",
      "Requirement already satisfied: gensim in e:\\program files\\anaconda\\lib\\site-packages (from pyLDAvis) (4.1.2)\n",
      "Requirement already satisfied: setuptools in e:\\program files\\anaconda\\lib\\site-packages (from pyLDAvis) (52.0.0.post20210125)\n",
      "Requirement already satisfied: pandas>=1.2.0 in e:\\program files\\anaconda\\lib\\site-packages (from pyLDAvis) (1.2.4)\n",
      "Requirement already satisfied: scikit-learn in e:\\program files\\anaconda\\lib\\site-packages (from pyLDAvis) (0.24.1)\n",
      "Requirement already satisfied: scipy in e:\\program files\\anaconda\\lib\\site-packages (from pyLDAvis) (1.6.2)\n",
      "Requirement already satisfied: pytz>=2017.3 in e:\\program files\\anaconda\\lib\\site-packages (from pandas>=1.2.0->pyLDAvis) (2021.1)\n",
      "Requirement already satisfied: python-dateutil>=2.7.3 in e:\\program files\\anaconda\\lib\\site-packages (from pandas>=1.2.0->pyLDAvis) (2.8.1)\n",
      "Requirement already satisfied: six>=1.5 in e:\\program files\\anaconda\\lib\\site-packages (from python-dateutil>=2.7.3->pandas>=1.2.0->pyLDAvis) (1.15.0)\n",
      "Requirement already satisfied: smart-open>=1.8.1 in e:\\program files\\anaconda\\lib\\site-packages (from gensim->pyLDAvis) (5.2.1)\n",
      "Requirement already satisfied: Cython==0.29.23 in e:\\program files\\anaconda\\lib\\site-packages (from gensim->pyLDAvis) (0.29.23)\n",
      "Requirement already satisfied: MarkupSafe>=0.23 in e:\\program files\\anaconda\\lib\\site-packages (from jinja2->pyLDAvis) (1.1.1)\n",
      "Requirement already satisfied: threadpoolctl>=2.0.0 in e:\\program files\\anaconda\\lib\\site-packages (from scikit-learn->pyLDAvis) (2.1.0)\n"
     ]
    }
   ],
   "source": [
    "!pip install pyLDAvis"
   ]
  },
  {
   "cell_type": "code",
   "execution_count": 4,
   "id": "c43befb0",
   "metadata": {},
   "outputs": [],
   "source": [
    "import pandas as pd\n",
    "import numpy as np\n",
    "#предобработка текстов\n",
    "import re\n",
    "from nltk.corpus import stopwords\n",
    "#from nltk.tokenize import word_tokenize\n",
    "\n",
    "from razdel import tokenize # https://github.com/natasha/razdel\n",
    "#!pip install razdel\n",
    "from gensim.corpora.dictionary import Dictionary\n",
    "import pymorphy2 \n",
    "import matplotlib.pyplot as plt"
   ]
  },
  {
   "cell_type": "code",
   "execution_count": 5,
   "id": "731f9ba4",
   "metadata": {},
   "outputs": [
    {
     "name": "stderr",
     "output_type": "stream",
     "text": [
      "[nltk_data] Downloading package stopwords to\n",
      "[nltk_data]     C:\\Users\\Olyad\\AppData\\Roaming\\nltk_data...\n",
      "[nltk_data]   Package stopwords is already up-to-date!\n"
     ]
    },
    {
     "data": {
      "text/plain": [
       "True"
      ]
     },
     "execution_count": 5,
     "metadata": {},
     "output_type": "execute_result"
    }
   ],
   "source": [
    "import nltk\n",
    "nltk.download('stopwords')"
   ]
  },
  {
   "cell_type": "code",
   "execution_count": 6,
   "id": "d3a1916e",
   "metadata": {},
   "outputs": [],
   "source": [
    "path = './Data/'"
   ]
  },
  {
   "cell_type": "code",
   "execution_count": 7,
   "id": "e29792c6",
   "metadata": {},
   "outputs": [
    {
     "name": "stdout",
     "output_type": "stream",
     "text": [
      "(27000, 2)\n"
     ]
    },
    {
     "data": {
      "text/html": [
       "<div>\n",
       "<style scoped>\n",
       "    .dataframe tbody tr th:only-of-type {\n",
       "        vertical-align: middle;\n",
       "    }\n",
       "\n",
       "    .dataframe tbody tr th {\n",
       "        vertical-align: top;\n",
       "    }\n",
       "\n",
       "    .dataframe thead th {\n",
       "        text-align: right;\n",
       "    }\n",
       "</style>\n",
       "<table border=\"1\" class=\"dataframe\">\n",
       "  <thead>\n",
       "    <tr style=\"text-align: right;\">\n",
       "      <th></th>\n",
       "      <th>doc_id</th>\n",
       "      <th>title</th>\n",
       "    </tr>\n",
       "  </thead>\n",
       "  <tbody>\n",
       "    <tr>\n",
       "      <th>0</th>\n",
       "      <td>6</td>\n",
       "      <td>Заместитель председателяnправительства РФnСерг...</td>\n",
       "    </tr>\n",
       "    <tr>\n",
       "      <th>1</th>\n",
       "      <td>4896</td>\n",
       "      <td>Матч 1/16 финала Кубка России по футболу был п...</td>\n",
       "    </tr>\n",
       "    <tr>\n",
       "      <th>2</th>\n",
       "      <td>4897</td>\n",
       "      <td>Форвард «Авангарда» Томаш Заборский прокоммент...</td>\n",
       "    </tr>\n",
       "  </tbody>\n",
       "</table>\n",
       "</div>"
      ],
      "text/plain": [
       "   doc_id                                              title\n",
       "0       6  Заместитель председателяnправительства РФnСерг...\n",
       "1    4896  Матч 1/16 финала Кубка России по футболу был п...\n",
       "2    4897  Форвард «Авангарда» Томаш Заборский прокоммент..."
      ]
     },
     "execution_count": 7,
     "metadata": {},
     "output_type": "execute_result"
    }
   ],
   "source": [
    "news = pd.read_csv(path+\"articles.csv\")\n",
    "print(news.shape)\n",
    "news.head(3)"
   ]
  },
  {
   "cell_type": "markdown",
   "id": "1de8aa18",
   "metadata": {
    "id": "H-eNWlDnMIGl"
   },
   "source": [
    "Загрузим пользователей и списки последних прочитанных новостей"
   ]
  },
  {
   "cell_type": "code",
   "execution_count": 8,
   "id": "1e4bbcea",
   "metadata": {
    "colab": {
     "base_uri": "https://localhost:8080/",
     "height": 141
    },
    "id": "rIXeUk4iMIGl",
    "outputId": "471b22a9-c9f2-4f22-ff38-8c25d730baa8",
    "scrolled": true
   },
   "outputs": [
    {
     "data": {
      "text/html": [
       "<div>\n",
       "<style scoped>\n",
       "    .dataframe tbody tr th:only-of-type {\n",
       "        vertical-align: middle;\n",
       "    }\n",
       "\n",
       "    .dataframe tbody tr th {\n",
       "        vertical-align: top;\n",
       "    }\n",
       "\n",
       "    .dataframe thead th {\n",
       "        text-align: right;\n",
       "    }\n",
       "</style>\n",
       "<table border=\"1\" class=\"dataframe\">\n",
       "  <thead>\n",
       "    <tr style=\"text-align: right;\">\n",
       "      <th></th>\n",
       "      <th>uid</th>\n",
       "      <th>articles</th>\n",
       "    </tr>\n",
       "  </thead>\n",
       "  <tbody>\n",
       "    <tr>\n",
       "      <th>0</th>\n",
       "      <td>u105138</td>\n",
       "      <td>[293672, 293328, 293001, 293622, 293126, 1852]</td>\n",
       "    </tr>\n",
       "    <tr>\n",
       "      <th>1</th>\n",
       "      <td>u108690</td>\n",
       "      <td>[3405, 1739, 2972, 1158, 1599, 322665]</td>\n",
       "    </tr>\n",
       "    <tr>\n",
       "      <th>2</th>\n",
       "      <td>u108339</td>\n",
       "      <td>[1845, 2009, 2356, 1424, 2939, 323389]</td>\n",
       "    </tr>\n",
       "  </tbody>\n",
       "</table>\n",
       "</div>"
      ],
      "text/plain": [
       "       uid                                        articles\n",
       "0  u105138  [293672, 293328, 293001, 293622, 293126, 1852]\n",
       "1  u108690          [3405, 1739, 2972, 1158, 1599, 322665]\n",
       "2  u108339          [1845, 2009, 2356, 1424, 2939, 323389]"
      ]
     },
     "execution_count": 8,
     "metadata": {},
     "output_type": "execute_result"
    }
   ],
   "source": [
    "users = pd.read_csv(path+\"users_articles.csv\")\n",
    "users.head(3)"
   ]
  },
  {
   "cell_type": "markdown",
   "id": "1a9f5a06",
   "metadata": {
    "id": "ra5jYUNoMIGm"
   },
   "source": [
    "### 1. Получаем векторные представления новостей"
   ]
  },
  {
   "cell_type": "code",
   "execution_count": 9,
   "id": "54ce07ce",
   "metadata": {},
   "outputs": [
    {
     "data": {
      "text/plain": [
       "151"
      ]
     },
     "execution_count": 9,
     "metadata": {},
     "output_type": "execute_result"
    }
   ],
   "source": [
    "stopword_ru = stopwords.words('russian')\n",
    "len(stopword_ru)\n",
    "\n",
    "morph = pymorphy2.MorphAnalyzer(  )\n",
    "len(stopword_ru)"
   ]
  },
  {
   "cell_type": "code",
   "execution_count": 10,
   "id": "82f31466",
   "metadata": {},
   "outputs": [
    {
     "data": {
      "text/plain": [
       "776"
      ]
     },
     "execution_count": 10,
     "metadata": {},
     "output_type": "execute_result"
    }
   ],
   "source": [
    "with open(path+'stopwords.txt') as f:\n",
    "    additional_stopwords = [w.strip() for w in f.readlines() if w]\n",
    "stopword_ru += additional_stopwords\n",
    "len(stopword_ru)"
   ]
  },
  {
   "cell_type": "code",
   "execution_count": 11,
   "id": "b9206779",
   "metadata": {
    "id": "DiAt1i81MIGp"
   },
   "outputs": [],
   "source": [
    "def clean_text(text):\n",
    "    '''\n",
    "    очистка текста\n",
    "    \n",
    "    на выходе очищеный текст\n",
    "    \n",
    "    '''\n",
    "    if not isinstance(text, str):\n",
    "        text = str(text)\n",
    "    \n",
    "    text = text.lower()\n",
    "    text = text.strip('\\n').strip('\\r').strip('\\t')\n",
    "    text = re.sub(\"-\\s\\r\\n\\|-\\s\\r\\n|\\r\\n\", '', str(text))\n",
    "\n",
    "    text = re.sub(\"[0-9]|[-—.,:;_%©«»?*!@#№$^•·&()]|[+=]|[[]|[]]|[/]|\", '', text)\n",
    "    text = re.sub(r\"\\r\\n\\t|\\n|\\\\s|\\r\\t|\\\\n\", ' ', text)\n",
    "    text = re.sub(r'[\\xad]|[\\s+]', ' ', text.strip())\n",
    "    text = re.sub(\"n\", ' ', text)\n",
    "\n",
    "    \n",
    "    #tokens = list(tokenize(text))\n",
    "    #words = [_.text for _ in tokens]\n",
    "    #words = [w for w in words if w not in stopword_ru]\n",
    "    \n",
    "    #return \" \".join(words)\n",
    "    return text\n",
    "\n",
    "cache = {}\n",
    "\n",
    "def lemmatization(text):\n",
    "    '''\n",
    "    лемматизация\n",
    "        [0] если зашел тип не `str` делаем его `str`\n",
    "        [1] токенизация предложения через razdel\n",
    "        [2] проверка есть ли в начале слова '-'\n",
    "        [3] проверка токена с одного символа\n",
    "        [4] проверка есть ли данное слово в кэше\n",
    "        [5] лемматизация слова\n",
    "        [6] проверка на стоп-слова\n",
    "\n",
    "    на выходе лист отлемматизированых токенов\n",
    "    '''\n",
    "\n",
    "    # [0]\n",
    "    if not isinstance(text, str):\n",
    "        text = str(text)\n",
    "    \n",
    "    # [1]\n",
    "    tokens = list(tokenize(text))\n",
    "    #print(tokens)\n",
    "    words = [_.text for _ in tokens]\n",
    "\n",
    "    words_lem = []\n",
    "    for w in words:\n",
    "        if w[0] == '-': # [2]\n",
    "            w = w[1:]\n",
    "        if len(w)>1: # [3]\n",
    "            if w in cache: # [4]\n",
    "                words_lem.append(cache[w])\n",
    "                #print(temp_cach)\n",
    "            else: # [5]\n",
    "                temp_cach = cache[w] = morph.parse(w)[0].normal_form\n",
    "                words_lem.append(temp_cach)\n",
    "                #print(w,' : ',temp_cach)\n",
    "    \n",
    "    words_lem_without_stopwords=[i for i in words_lem if not i in stopword_ru] # [6]\n",
    "    #print(words_lem_without_stopwords)\n",
    "    return words_lem_without_stopwords"
   ]
  },
  {
   "cell_type": "code",
   "execution_count": 12,
   "id": "be28e003",
   "metadata": {
    "colab": {
     "base_uri": "https://localhost:8080/"
    },
    "id": "90aWsoUley3W",
    "outputId": "d17acc07-4941-4e7d-b88c-60e218e88843"
   },
   "outputs": [
    {
     "data": {
      "text/plain": [
       "[Substring(0, 11, 'Заместитель'),\n",
       " Substring(12, 24, 'председателя'),\n",
       " Substring(24, 25, 'n'),\n",
       " Substring(25, 38, 'правительства'),\n",
       " Substring(39, 41, 'РФ'),\n",
       " Substring(41, 42, 'n'),\n",
       " Substring(42, 48, 'Сергей'),\n",
       " Substring(48, 49, 'n'),\n",
       " Substring(49, 55, 'Иванов'),\n",
       " Substring(55, 56, 'n'),\n",
       " Substring(56, 62, 'избран'),\n",
       " Substring(63, 76, 'председателем'),\n",
       " Substring(77, 83, 'совета'),\n",
       " Substring(83, 84, 'n'),\n",
       " Substring(84, 87, 'ПБК'),\n",
       " Substring(88, 92, 'ЦСКА'),\n",
       " Substring(92, 93, 'n'),\n",
       " Substring(93, 94, '.'),\n",
       " Substring(95, 98, 'Как'),\n",
       " Substring(99, 100, 'с')]"
      ]
     },
     "execution_count": 12,
     "metadata": {},
     "output_type": "execute_result"
    }
   ],
   "source": [
    "list(tokenize(news.iloc[0,1][:100],   ))"
   ]
  },
  {
   "cell_type": "code",
   "execution_count": 13,
   "id": "ba31ee65",
   "metadata": {
    "colab": {
     "base_uri": "https://localhost:8080/"
    },
    "id": "nZHNY8lqeA6a",
    "outputId": "bf0b4145-eb0f-402f-9dd6-760071c30b5a"
   },
   "outputs": [
    {
     "name": "stderr",
     "output_type": "stream",
     "text": [
      "<ipython-input-11-8769e094367c>:15: FutureWarning: Possible nested set at position 39\n",
      "  text = re.sub(\"[0-9]|[-—.,:;_%©«»?*!@#№$^•·&()]|[+=]|[[]|[]]|[/]|\", '', text)\n"
     ]
    },
    {
     "data": {
      "text/plain": [
       "0    заместитель председателя правительства рф серг...\n",
       "1    матч  финала кубка россии по футболу был приос...\n",
       "Name: title, dtype: object"
      ]
     },
     "execution_count": 13,
     "metadata": {},
     "output_type": "execute_result"
    }
   ],
   "source": [
    "norm_text = news.iloc[:2,1].apply(lambda x: clean_text(x), 1)\n",
    "norm_text"
   ]
  },
  {
   "cell_type": "code",
   "execution_count": 14,
   "id": "7dd9b8bd",
   "metadata": {
    "colab": {
     "base_uri": "https://localhost:8080/"
    },
    "id": "VqgNGTEPGZnr",
    "outputId": "f551a204-0c1a-4f7a-e8ed-e36eb4e69bea"
   },
   "outputs": [
    {
     "data": {
      "text/plain": [
       "['заместитель',\n",
       " 'председатель',\n",
       " 'правительство',\n",
       " 'рф',\n",
       " 'сергей',\n",
       " 'иванов',\n",
       " 'избрать',\n",
       " 'председатель',\n",
       " 'совет',\n",
       " 'пбк',\n",
       " 'цска',\n",
       " 'сообщать',\n",
       " 'прессслужба',\n",
       " 'армеец',\n",
       " 'решение',\n",
       " 'единогласно',\n",
       " 'принять',\n",
       " 'первый',\n",
       " 'заседание',\n",
       " 'совет',\n",
       " 'клуб',\n",
       " 'основной',\n",
       " 'функция',\n",
       " 'это',\n",
       " 'орган',\n",
       " 'обсуждение',\n",
       " 'текущий',\n",
       " 'состояние',\n",
       " 'планирование',\n",
       " 'утверждение',\n",
       " 'стратегия',\n",
       " 'развитие',\n",
       " 'клуб',\n",
       " 'близкий',\n",
       " 'перспектива',\n",
       " 'состав',\n",
       " 'совет',\n",
       " 'войти',\n",
       " 'георгий',\n",
       " 'полтавченко',\n",
       " 'полномочный',\n",
       " 'представитель',\n",
       " 'президент',\n",
       " 'центральный',\n",
       " 'федеральный',\n",
       " 'округ',\n",
       " 'алексей',\n",
       " 'седов',\n",
       " 'генералполковник',\n",
       " 'начальник',\n",
       " 'служба',\n",
       " 'защита',\n",
       " 'конституционный',\n",
       " 'строй',\n",
       " 'борьба',\n",
       " 'терроризм',\n",
       " 'фсб',\n",
       " 'рф',\n",
       " 'александр',\n",
       " 'новак',\n",
       " 'заместитель',\n",
       " 'министр',\n",
       " 'финансы',\n",
       " 'рф',\n",
       " 'вячеслав',\n",
       " 'полтавец',\n",
       " 'заместитель',\n",
       " 'генеральный',\n",
       " 'директор',\n",
       " 'руководитель',\n",
       " 'блок',\n",
       " 'взаимодействие',\n",
       " 'орган',\n",
       " 'власть',\n",
       " 'социальный',\n",
       " 'корпоративный',\n",
       " 'политика',\n",
       " 'гмк',\n",
       " 'норильский',\n",
       " 'никель',\n",
       " 'леонид',\n",
       " 'исакович',\n",
       " 'генеральный',\n",
       " 'директор',\n",
       " 'ооо',\n",
       " 'ук',\n",
       " 'спортивный',\n",
       " 'проект',\n",
       " 'ольга',\n",
       " 'плешаков',\n",
       " 'генеральный',\n",
       " 'директор',\n",
       " 'трансаэро',\n",
       " 'александр',\n",
       " 'провоторов',\n",
       " 'генеральный',\n",
       " 'директор',\n",
       " 'оао',\n",
       " 'ростелеком',\n",
       " 'андрей',\n",
       " 'лопат',\n",
       " 'эксигрок',\n",
       " 'цска',\n",
       " 'чемпион',\n",
       " 'мир',\n",
       " 'трёхкратный',\n",
       " 'чемпион',\n",
       " 'европа',\n",
       " 'баскетбол',\n",
       " 'председатель',\n",
       " 'правление',\n",
       " 'банк',\n",
       " 'клиентский',\n",
       " 'андрей',\n",
       " 'ватутин',\n",
       " 'президент',\n",
       " 'пбк',\n",
       " 'цска']"
      ]
     },
     "execution_count": 14,
     "metadata": {},
     "output_type": "execute_result"
    }
   ],
   "source": [
    "lemmatization(norm_text[0])"
   ]
  },
  {
   "cell_type": "code",
   "execution_count": 15,
   "id": "7cf9d953",
   "metadata": {
    "colab": {
     "base_uri": "https://localhost:8080/"
    },
    "id": "KfixKuSMMIGq",
    "outputId": "b6ed10ff-111a-4465-db63-5c7997e3cf5b"
   },
   "outputs": [
    {
     "name": "stdout",
     "output_type": "stream",
     "text": [
      "Wall time: 21.6 s\n"
     ]
    }
   ],
   "source": [
    "%%time\n",
    "#Запускаем очистку текста. Будет долго...\n",
    "news['title'] = news['title'].apply(lambda x: clean_text(x), 1)"
   ]
  },
  {
   "cell_type": "code",
   "execution_count": 16,
   "id": "92ab4c6c",
   "metadata": {
    "colab": {
     "base_uri": "https://localhost:8080/"
    },
    "id": "A0m01zNlMIGs",
    "outputId": "900d7332-74b0-46de-c9be-541de932907e"
   },
   "outputs": [
    {
     "name": "stdout",
     "output_type": "stream",
     "text": [
      "Wall time: 2min 55s\n"
     ]
    }
   ],
   "source": [
    "%%time\n",
    "#Запускаем лемматизацию текста. Будет очень долго...\n",
    "news['title'] = news['title'].apply(lambda x: lemmatization(x), 1)"
   ]
  },
  {
   "cell_type": "markdown",
   "id": "4c7eadbb",
   "metadata": {
    "id": "OMqHynF9MIGu"
   },
   "source": [
    "А теперь в 3 строчки обучим нашу модель"
   ]
  },
  {
   "cell_type": "code",
   "execution_count": 17,
   "id": "292d11fe",
   "metadata": {
    "id": "Yd6EZ8RbMIGu"
   },
   "outputs": [],
   "source": [
    "#сформируем список наших текстов, разбив еще и на пробелы\n",
    "texts = [t for t in news['title'].values]\n",
    "\n",
    "# Create a corpus from a list of texts\n",
    "common_dictionary = Dictionary(texts)\n",
    "common_corpus = [common_dictionary.doc2bow(text) for text in texts]"
   ]
  },
  {
   "cell_type": "markdown",
   "id": "e70bb9a5",
   "metadata": {
    "id": "hQfhjyspMIGv"
   },
   "source": [
    "Что такое common_dictionary и как он выглядит"
   ]
  },
  {
   "cell_type": "code",
   "execution_count": 18,
   "id": "36aec43c",
   "metadata": {
    "colab": {
     "base_uri": "https://localhost:8080/",
     "height": 34
    },
    "id": "MBAN3PvWMIGv",
    "outputId": "f13ba160-e70f-4cbd-b391-a30c14ec4c24"
   },
   "outputs": [
    {
     "data": {
      "text/plain": [
       "'банк'"
      ]
     },
     "execution_count": 18,
     "metadata": {},
     "output_type": "execute_result"
    }
   ],
   "source": [
    "common_dictionary[4]"
   ]
  },
  {
   "cell_type": "code",
   "execution_count": 19,
   "id": "425cde27",
   "metadata": {
    "colab": {
     "base_uri": "https://localhost:8080/"
    },
    "id": "aJv_IlHdmUjt",
    "outputId": "1aed911d-86be-44f9-f321-eb987fde8f7b"
   },
   "outputs": [
    {
     "data": {
      "text/plain": [
       "{0: 'александр',\n",
       " 1: 'алексей',\n",
       " 2: 'андрей',\n",
       " 3: 'армеец',\n",
       " 4: 'банк',\n",
       " 5: 'баскетбол',\n",
       " 6: 'близкий',\n",
       " 7: 'блок',\n",
       " 8: 'борьба',\n",
       " 9: 'ватутин',\n",
       " 10: 'взаимодействие',\n",
       " 11: 'власть',\n",
       " 12: 'войти',\n",
       " 13: 'вячеслав',\n",
       " 14: 'генералполковник',\n",
       " 15: 'генеральный',\n",
       " 16: 'георгий',\n",
       " 17: 'гмк',\n",
       " 18: 'директор',\n",
       " 19: 'европа',\n",
       " 20: 'единогласно',\n",
       " 21: 'заместитель',\n",
       " 22: 'заседание',\n",
       " 23: 'защита',\n",
       " 24: 'иванов',\n",
       " 25: 'избрать',\n",
       " 26: 'исакович',\n",
       " 27: 'клиентский',\n",
       " 28: 'клуб',\n",
       " 29: 'конституционный',\n",
       " 30: 'корпоративный',\n",
       " 31: 'леонид',\n",
       " 32: 'лопат',\n",
       " 33: 'министр',\n",
       " 34: 'мир',\n",
       " 35: 'начальник',\n",
       " 36: 'никель',\n",
       " 37: 'новак',\n",
       " 38: 'норильский',\n",
       " 39: 'оао',\n",
       " 40: 'обсуждение',\n",
       " 41: 'округ',\n",
       " 42: 'ольга',\n",
       " 43: 'ооо',\n",
       " 44: 'орган',\n",
       " 45: 'основной',\n",
       " 46: 'пбк',\n",
       " 47: 'первый',\n",
       " 48: 'перспектива',\n",
       " 49: 'планирование',\n",
       " 50: 'плешаков',\n",
       " 51: 'политика',\n",
       " 52: 'полномочный',\n",
       " 53: 'полтавец',\n",
       " 54: 'полтавченко',\n",
       " 55: 'правительство',\n",
       " 56: 'правление',\n",
       " 57: 'председатель',\n",
       " 58: 'представитель',\n",
       " 59: 'президент',\n",
       " 60: 'прессслужба',\n",
       " 61: 'принять',\n",
       " 62: 'провоторов',\n",
       " 63: 'проект',\n",
       " 64: 'развитие',\n",
       " 65: 'решение',\n",
       " 66: 'ростелеком',\n",
       " 67: 'руководитель',\n",
       " 68: 'рф',\n",
       " 69: 'седов',\n",
       " 70: 'сергей',\n",
       " 71: 'служба',\n",
       " 72: 'совет',\n",
       " 73: 'сообщать',\n",
       " 74: 'состав',\n",
       " 75: 'состояние',\n",
       " 76: 'социальный',\n",
       " 77: 'спортивный',\n",
       " 78: 'стратегия',\n",
       " 79: 'строй',\n",
       " 80: 'текущий',\n",
       " 81: 'терроризм',\n",
       " 82: 'трансаэро',\n",
       " 83: 'трёхкратный',\n",
       " 84: 'ук',\n",
       " 85: 'утверждение',\n",
       " 86: 'федеральный',\n",
       " 87: 'финансы',\n",
       " 88: 'фсб',\n",
       " 89: 'функция',\n",
       " 90: 'центральный',\n",
       " 91: 'цска',\n",
       " 92: 'чемпион',\n",
       " 93: 'эксигрок',\n",
       " 94: 'это',\n",
       " 95: 'ru',\n",
       " 96: 'болельщик',\n",
       " 97: 'вести',\n",
       " 98: 'взрыв',\n",
       " 99: 'выбросить',\n",
       " 100: 'газета',\n",
       " 101: 'динамовец',\n",
       " 102: 'изз',\n",
       " 103: 'команда',\n",
       " 104: 'корреспондент',\n",
       " 105: 'кромка',\n",
       " 106: 'кубок',\n",
       " 107: 'матч',\n",
       " 108: 'минута',\n",
       " 109: 'онлайнтрансляция',\n",
       " 110: 'остановить',\n",
       " 111: 'остаться',\n",
       " 112: 'передавать',\n",
       " 113: 'петарда',\n",
       " 114: 'пиротехнический',\n",
       " 115: 'подтрибунный',\n",
       " 116: 'поле',\n",
       " 117: 'помещение',\n",
       " 118: 'приостановить',\n",
       " 119: 'пять',\n",
       " 120: 'россия',\n",
       " 121: 'снаряд',\n",
       " 122: 'сообщаться',\n",
       " 123: 'судья',\n",
       " 124: 'торпедовец',\n",
       " 125: 'увести',\n",
       " 126: 'уйти',\n",
       " 127: 'финал',\n",
       " 128: 'футбол',\n",
       " 129: 'авангард',\n",
       " 130: 'атланта',\n",
       " 131: 'быстрый',\n",
       " 132: 'включиться',\n",
       " 133: 'выезд',\n",
       " 134: 'гол',\n",
       " 135: 'девять',\n",
       " 136: 'ещё',\n",
       " 137: 'заборский',\n",
       " 138: 'забросить',\n",
       " 139: 'задать',\n",
       " 140: 'игра',\n",
       " 141: 'играть',\n",
       " 142: 'кхл',\n",
       " 143: 'мочь',\n",
       " 144: 'настраиваться',\n",
       " 145: 'нижний',\n",
       " 146: 'новгород',\n",
       " 147: 'очко',\n",
       " 148: 'плохой',\n",
       " 149: 'поединок',\n",
       " 150: 'получиться',\n",
       " 151: 'провести',\n",
       " 152: 'прокомментировать',\n",
       " 153: 'против',\n",
       " 154: 'работа',\n",
       " 155: 'свой',\n",
       " 156: 'сказать',\n",
       " 157: 'сторона',\n",
       " 158: 'темп',\n",
       " 159: 'томаш',\n",
       " 160: 'торпедо',\n",
       " 161: 'форвард',\n",
       " 162: 'хороший',\n",
       " 163: 'чемпионат',\n",
       " 164: 'афолаби',\n",
       " 165: 'бальда',\n",
       " 166: 'возможно',\n",
       " 167: 'всё',\n",
       " 168: 'второй',\n",
       " 169: 'выйти',\n",
       " 170: 'выпустить',\n",
       " 171: 'главный',\n",
       " 172: 'го',\n",
       " 173: 'дать',\n",
       " 174: 'действительно',\n",
       " 175: 'жизнь',\n",
       " 176: 'закончить',\n",
       " 177: 'замена',\n",
       " 178: 'заменить',\n",
       " 179: 'заработать',\n",
       " 180: 'заявка',\n",
       " 181: 'здорово',\n",
       " 182: 'игрок',\n",
       " 183: 'идти',\n",
       " 184: 'конец',\n",
       " 185: 'красножанин',\n",
       " 186: 'крыло',\n",
       " 187: 'кубань',\n",
       " 188: 'лидер',\n",
       " 189: 'менее',\n",
       " 190: 'момент',\n",
       " 191: 'наверное',\n",
       " 192: 'настроение',\n",
       " 193: 'немало',\n",
       " 194: 'неплохо',\n",
       " 195: 'овладевать',\n",
       " 196: 'осложнить',\n",
       " 197: 'отпускной',\n",
       " 198: 'отсюда',\n",
       " 199: 'отыграть',\n",
       " 200: 'победа',\n",
       " 201: 'подряд',\n",
       " 202: 'позиция',\n",
       " 203: 'пока',\n",
       " 204: 'понемногу',\n",
       " 205: 'попасть',\n",
       " 206: 'попов',\n",
       " 207: 'почему',\n",
       " 208: 'пребывать',\n",
       " 209: 'преимущество',\n",
       " 210: 'привыкать',\n",
       " 211: 'самоуспокоенность',\n",
       " 212: 'сегодня',\n",
       " 213: 'сезон',\n",
       " 214: 'слово',\n",
       " 215: 'смочь',\n",
       " 216: 'создать',\n",
       " 217: 'спокойствие',\n",
       " 218: 'статус',\n",
       " 219: 'счёт',\n",
       " 220: 'сэ',\n",
       " 221: 'требоваться',\n",
       " 222: 'тренер',\n",
       " 223: 'тур',\n",
       " 224: 'уверенно',\n",
       " 225: 'успокаиваться',\n",
       " 226: 'хотеть',\n",
       " 227: 'целое',\n",
       " 228: 'частично',\n",
       " 229: 'чувствовать',\n",
       " 230: 'юрий',\n",
       " 231: 'балан',\n",
       " 232: 'вицегубернатор',\n",
       " 233: 'вицепрезидент',\n",
       " 234: 'владивостокский',\n",
       " 235: 'владимир',\n",
       " 236: 'дальневосточный',\n",
       " 237: 'должность',\n",
       " 238: 'занимать',\n",
       " 239: 'информировать',\n",
       " 240: 'край',\n",
       " 241: 'менеджер',\n",
       " 242: 'насонов',\n",
       " 243: 'оставаться',\n",
       " 244: 'официальный',\n",
       " 245: 'попечительский',\n",
       " 246: 'попрежний',\n",
       " 247: 'пост',\n",
       " 248: 'приморский',\n",
       " 249: 'сайт',\n",
       " 250: 'сандлера',\n",
       " 251: 'спартак',\n",
       " 252: 'стать',\n",
       " 253: 'упразднить',\n",
       " 254: 'член',\n",
       " 255: 'эдуард',\n",
       " 256: 'буцай',\n",
       " 257: 'весь',\n",
       " 258: 'время',\n",
       " 259: 'входить',\n",
       " 260: 'гдеть',\n",
       " 261: 'главное',\n",
       " 262: 'дневный',\n",
       " 263: 'долго',\n",
       " 264: 'дотерпеть',\n",
       " 265: 'заслуженно',\n",
       " 266: 'ио',\n",
       " 267: 'начинаться',\n",
       " 268: 'непривычный',\n",
       " 269: 'очень',\n",
       " 270: 'период',\n",
       " 271: 'плюс',\n",
       " 272: 'победить',\n",
       " 273: 'поблагодарить',\n",
       " 274: 'показать',\n",
       " 275: 'появиться',\n",
       " 276: 'правильно',\n",
       " 277: 'прежде',\n",
       " 278: 'пропустить',\n",
       " 279: 'разбежаться',\n",
       " 280: 'ребята',\n",
       " 281: 'регулярный',\n",
       " 282: 'связать',\n",
       " 283: 'сибирь',\n",
       " 284: 'скажем',\n",
       " 285: 'смена',\n",
       " 286: 'сонный',\n",
       " 287: 'считать',\n",
       " 288: 'третий',\n",
       " 289: 'удачно',\n",
       " 290: 'югра',\n",
       " 291: 'будник',\n",
       " 292: 'ворскла',\n",
       " 293: 'встреча',\n",
       " 294: 'голый',\n",
       " 295: 'громов',\n",
       " 296: 'дом',\n",
       " 297: 'завершиться',\n",
       " 298: 'запорожский',\n",
       " 299: 'материал',\n",
       " 300: 'металлург',\n",
       " 301: 'новость',\n",
       " 302: 'поражение',\n",
       " 303: 'посмотреть',\n",
       " 304: 'потерпеть',\n",
       " 305: 'разгромный',\n",
       " 306: 'страница',\n",
       " 307: 'украина',\n",
       " 308: 'украинский',\n",
       " 309: 'чеснаковы',\n",
       " 310: 'австрия',\n",
       " 311: 'бол',\n",
       " 312: 'бьюгстадо',\n",
       " 313: 'вельзер',\n",
       " 314: 'день',\n",
       " 315: 'джонсон',\n",
       " 316: 'иберер',\n",
       " 317: 'игровой',\n",
       " 318: 'кристо',\n",
       " 319: 'латуз',\n",
       " 320: 'леблан',\n",
       " 321: 'лукас',\n",
       " 322: 'макбэйн',\n",
       " 323: 'мосс',\n",
       " 324: 'одержать',\n",
       " 325: 'пайнтнер',\n",
       " 326: 'палушать',\n",
       " 327: 'сборная',\n",
       " 328: 'стартовый',\n",
       " 329: 'стэплтон',\n",
       " 330: 'сша',\n",
       " 331: 'фолкнуть',\n",
       " 332: 'хоккей',\n",
       " 333: 'хундертпфунда',\n",
       " 334: 'штястный',\n",
       " 335: 'шуллера',\n",
       " 336: 'больший',\n",
       " 337: 'бывший',\n",
       " 338: 'взять',\n",
       " 339: 'внести',\n",
       " 340: 'вырасти',\n",
       " 341: 'выступление',\n",
       " 342: 'год',\n",
       " 343: 'дарюс',\n",
       " 344: 'должный',\n",
       " 345: 'защитник',\n",
       " 346: 'заявить',\n",
       " 347: 'илья',\n",
       " 348: 'илюха',\n",
       " 349: 'каспарайтис',\n",
       " 350: 'качество',\n",
       " 351: 'ковальчук',\n",
       " 352: 'латвия',\n",
       " 353: 'малкин',\n",
       " 354: 'национальный',\n",
       " 355: 'ожидание',\n",
       " 356: 'ознакомиться',\n",
       " 357: 'поделиться',\n",
       " 358: 'пойти',\n",
       " 359: 'последний',\n",
       " 360: 'потрясающе',\n",
       " 361: 'прошлый',\n",
       " 362: 'сильно',\n",
       " 363: 'статистика',\n",
       " 364: 'человек',\n",
       " 365: 'выиграть',\n",
       " 366: 'данил',\n",
       " 367: 'делать',\n",
       " 368: 'добиться',\n",
       " 369: 'думать',\n",
       " 370: 'жиляев',\n",
       " 371: 'завтра',\n",
       " 372: 'зоран',\n",
       " 373: 'известно',\n",
       " 374: 'исполниться',\n",
       " 375: 'капитан',\n",
       " 376: 'касаться',\n",
       " 377: 'который',\n",
       " 378: 'крупный',\n",
       " 379: 'май',\n",
       " 380: 'надеяться',\n",
       " 381: 'наш',\n",
       " 382: 'подарок',\n",
       " 383: 'пожелать',\n",
       " 384: 'полузащитник',\n",
       " 385: 'произнести',\n",
       " 386: 'просто',\n",
       " 387: 'речь',\n",
       " 388: 'самый',\n",
       " 389: 'сделать',\n",
       " 390: 'сербский',\n",
       " 391: 'серьёзный',\n",
       " 392: 'слуцкий',\n",
       " 393: 'терек',\n",
       " 394: 'тошич',\n",
       " 395: 'травма',\n",
       " 396: 'удачный',\n",
       " 397: 'ушибить',\n",
       " 398: 'характер',\n",
       " 399: 'хромать',\n",
       " 400: 'чемпионство',\n",
       " 401: 'шаг',\n",
       " 402: 'барселона',\n",
       " 403: 'бетис',\n",
       " 404: 'вальдес',\n",
       " 405: 'виктор',\n",
       " 406: 'воспаление',\n",
       " 407: 'вратарь',\n",
       " 408: 'испания',\n",
       " 409: 'каталонец',\n",
       " 410: 'кость',\n",
       " 411: 'левый',\n",
       " 412: 'нога',\n",
       " 413: 'подошвенный',\n",
       " 414: 'стопа',\n",
       " 415: 'фасциит',\n",
       " 416: 'анастасия',\n",
       " 417: 'испанка',\n",
       " 418: 'карл',\n",
       " 419: 'обыграть',\n",
       " 420: 'оэйраша',\n",
       " 421: 'павлюченков',\n",
       " 422: 'победительница',\n",
       " 423: 'призовой',\n",
       " 424: 'решающий',\n",
       " 425: 'россиянка',\n",
       " 426: 'суареснаварро',\n",
       " 427: 'теннис',\n",
       " 428: 'турнир',\n",
       " 429: 'тыс',\n",
       " 430: 'фонд',\n",
       " 431: 'анжи',\n",
       " 432: 'бедро',\n",
       " 433: 'вернуться',\n",
       " 434: 'волга',\n",
       " 435: 'группа',\n",
       " 436: 'задний',\n",
       " 437: 'ивуариец',\n",
       " 438: 'казанский',\n",
       " 439: 'лассина',\n",
       " 440: 'махачкала',\n",
       " 441: 'нападать',\n",
       " 442: 'общий',\n",
       " 443: 'поверхность',\n",
       " 444: 'получить',\n",
       " 445: 'премьерлига',\n",
       " 446: 'рамка',\n",
       " 447: 'российский',\n",
       " 448: 'рубин',\n",
       " 449: 'траор',\n",
       " 450: 'тренировка',\n",
       " 451: 'бохара',\n",
       " 452: 'железнодорожник',\n",
       " 453: 'завершить',\n",
       " 454: 'июль',\n",
       " 455: 'касейдо',\n",
       " 456: 'контрольный',\n",
       " 457: 'кучук',\n",
       " 458: 'локомотив',\n",
       " 459: 'марибора',\n",
       " 460: 'местный',\n",
       " 461: 'металлист',\n",
       " 462: 'московский',\n",
       " 463: 'подопечный',\n",
       " 464: 'предупреждеие',\n",
       " 465: 'проиграть',\n",
       " 466: 'сбор',\n",
       " 467: 'следующий',\n",
       " 468: 'словения',\n",
       " 469: 'соперник',\n",
       " 470: 'таварес',\n",
       " 471: 'торбинский',\n",
       " 472: 'учебнотренировочный',\n",
       " 473: 'харьковский',\n",
       " 474: 'хорватский',\n",
       " 475: 'atp',\n",
       " 476: 'важный',\n",
       " 477: 'возраст',\n",
       " 478: 'возрастной',\n",
       " 479: 'вокруг',\n",
       " 480: 'вообще',\n",
       " 481: 'врач',\n",
       " 482: 'далёкий',\n",
       " 483: 'действовать',\n",
       " 484: 'джокович',\n",
       " 485: 'достаточно',\n",
       " 486: 'желание',\n",
       " 487: 'круг',\n",
       " 488: 'мнение',\n",
       " 489: 'множество',\n",
       " 490: 'мудрость',\n",
       " 491: 'начинать',\n",
       " 492: 'немец',\n",
       " 493: 'нужно',\n",
       " 494: 'оно',\n",
       " 495: 'опыт',\n",
       " 496: 'оценивать',\n",
       " 497: 'питание',\n",
       " 498: 'позволять',\n",
       " 499: 'понимать',\n",
       " 500: 'правило',\n",
       " 501: 'правильный',\n",
       " 502: 'приводить',\n",
       " 503: 'ракетка',\n",
       " 504: 'сила',\n",
       " 505: 'собирать',\n",
       " 506: 'согласно',\n",
       " 507: 'специалист',\n",
       " 508: 'существовать',\n",
       " 509: 'сыграть',\n",
       " 510: 'теннисист',\n",
       " 511: 'ти',\n",
       " 512: 'томми',\n",
       " 513: 'трезво',\n",
       " 514: 'уимблдон',\n",
       " 515: 'успех',\n",
       " 516: 'фактор',\n",
       " 517: 'физиотерапевт',\n",
       " 518: 'форма',\n",
       " 519: 'хаас',\n",
       " 520: 'четвёртый',\n",
       " 521: 'являться',\n",
       " 522: 'гомис',\n",
       " 523: 'груда',\n",
       " 524: 'дюмерс',\n",
       " 525: 'женский',\n",
       " 526: 'литтл',\n",
       " 527: 'место',\n",
       " 528: 'одолеть',\n",
       " 529: 'орша',\n",
       " 530: 'сербия',\n",
       " 531: 'торренс',\n",
       " 532: 'турция',\n",
       " 533: 'франция',\n",
       " 534: 'французский',\n",
       " 535: 'шаргай',\n",
       " 536: 'cbs',\n",
       " 537: 'агент',\n",
       " 538: 'айлендерс',\n",
       " 539: 'взамен',\n",
       " 540: 'выбрать',\n",
       " 541: 'драфт',\n",
       " 542: 'клаттербак',\n",
       " 543: 'количество',\n",
       " 544: 'контракт',\n",
       " 545: 'кэла',\n",
       " 546: 'летний',\n",
       " 547: 'миннесота',\n",
       " 548: 'минувший',\n",
       " 549: 'молодой',\n",
       " 550: 'набрать',\n",
       " 551: 'нидеррайтер',\n",
       " 552: 'нино',\n",
       " 553: 'новый',\n",
       " 554: 'номер',\n",
       " 555: 'нхл',\n",
       " 556: 'обменять',\n",
       " 557: 'ограниченно',\n",
       " 558: 'островитянин',\n",
       " 559: 'переходить',\n",
       " 560: 'поэтому',\n",
       " 561: 'приём',\n",
       " 562: 'пятый',\n",
       " 563: 'свободный',\n",
       " 564: 'силовой',\n",
       " 565: 'также',\n",
       " 566: 'jcom',\n",
       " 567: 'активный',\n",
       " 568: 'бродый',\n",
       " 569: 'ванкувер',\n",
       " 570: 'выбор',\n",
       " 571: 'голкипер',\n",
       " 572: 'девятый',\n",
       " 573: 'дьявол',\n",
       " 574: 'завершение',\n",
       " 575: 'итоговый',\n",
       " 576: 'канадский',\n",
       " 577: 'карьера',\n",
       " 578: 'корь',\n",
       " 579: 'кэнакс',\n",
       " 580: 'луонго',\n",
       " 581: 'мартин',\n",
       " 582: 'многоопытный',\n",
       " 583: 'найти',\n",
       " 584: 'ньюджерси',\n",
       " 585: 'обмен',\n",
       " 586: 'однако',\n",
       " 587: 'покинуть',\n",
       " 588: 'призвать',\n",
       " 589: 'пристанище',\n",
       " 590: 'ранее',\n",
       " 591: 'раунд',\n",
       " 592: 'результат',\n",
       " 593: 'роберто',\n",
       " 594: 'солидный',\n",
       " 595: 'удаться',\n",
       " 596: 'шнайдер',\n",
       " 597: 'sportsru',\n",
       " 598: 'аккуратный',\n",
       " 599: 'беспокоить',\n",
       " 600: 'большой',\n",
       " 601: 'видеть',\n",
       " 602: 'десять',\n",
       " 603: 'динамо',\n",
       " 604: 'достойно',\n",
       " 605: 'заслуживать',\n",
       " 606: 'зенит',\n",
       " 607: 'киевлянин',\n",
       " 608: 'киевский',\n",
       " 609: 'кондиция',\n",
       " 610: 'лучано',\n",
       " 611: 'мешать',\n",
       " 612: 'назад',\n",
       " 613: 'например',\n",
       " 614: 'начать',\n",
       " 615: 'неприятно',\n",
       " 616: 'несколько',\n",
       " 617: 'объединить',\n",
       " 618: 'отличие',\n",
       " 619: 'подготовка',\n",
       " 620: 'проигрывать',\n",
       " 621: 'происходить',\n",
       " 622: 'ранний',\n",
       " 623: 'семь',\n",
       " 624: 'спаллетти',\n",
       " 625: 'сражаться',\n",
       " 626: 'травмироваться',\n",
       " 627: 'увидеть',\n",
       " 628: 'улучшение',\n",
       " 629: 'физический',\n",
       " 630: 'хотя',\n",
       " 631: 'широков',\n",
       " 632: 'алвес',\n",
       " 633: 'альба',\n",
       " 634: 'арбелоа',\n",
       " 635: 'бразилия',\n",
       " 636: 'бразильский',\n",
       " 637: 'бускетс',\n",
       " 638: 'давид',\n",
       " 639: 'дань',\n",
       " 640: 'жулио',\n",
       " 641: 'иньест',\n",
       " 642: 'касильяс',\n",
       " 643: 'конфедерация',\n",
       " 644: 'луис',\n",
       " 645: 'маракан',\n",
       " 646: 'марио',\n",
       " 647: 'марсесть',\n",
       " 648: 'мат',\n",
       " 649: 'мск',\n",
       " 650: 'неймара',\n",
       " 651: 'оскар',\n",
       " 652: 'паулиньо',\n",
       " 653: 'педро',\n",
       " 654: 'пик',\n",
       " 655: 'прямой',\n",
       " 656: 'рамос',\n",
       " 657: 'риодежанейро',\n",
       " 658: 'сезара',\n",
       " 659: 'силва',\n",
       " 660: 'состояться',\n",
       " 661: 'стадион',\n",
       " 662: 'текстовый',\n",
       " 663: 'торрес',\n",
       " 664: 'тьяго',\n",
       " 665: 'филья',\n",
       " 666: 'финальный',\n",
       " 667: 'фред',\n",
       " 668: 'хавить',\n",
       " 669: 'халк',\n",
       " 670: 'эрнанести',\n",
       " 671: 'абсолютный',\n",
       " 672: 'ажиотаж',\n",
       " 673: 'алла',\n",
       " 674: 'борисович',\n",
       " 675: 'вид',\n",
       " 676: 'владелец',\n",
       " 677: 'выразить',\n",
       " 678: 'высказывание',\n",
       " 679: 'газзаев',\n",
       " 680: 'говорить',\n",
       " 681: 'господин',\n",
       " 682: 'дабы',\n",
       " 683: 'деньга',\n",
       " 684: 'дорогой',\n",
       " 685: 'зато',\n",
       " 686: 'идея',\n",
       " 687: 'иностранец',\n",
       " 688: 'легионер',\n",
       " 689: 'лимит',\n",
       " 690: 'любимый',\n",
       " 691: 'намерить',\n",
       " 692: 'несерьёзно',\n",
       " 693: 'никто',\n",
       " 694: 'оба',\n",
       " 695: 'объединение',\n",
       " 696: 'организатор',\n",
       " 697: 'оргкомитет',\n",
       " 698: 'относительно',\n",
       " 699: 'перестать',\n",
       " 700: 'петь',\n",
       " 701: 'позитив',\n",
       " 702: 'построение',\n",
       " 703: 'потерять',\n",
       " 704: 'предлагать',\n",
       " 705: 'привести',\n",
       " 706: 'принцип',\n",
       " 707: 'приобрести',\n",
       " 708: 'приходить',\n",
       " 709: 'проводить',\n",
       " 710: 'произойти',\n",
       " 711: 'проституировать',\n",
       " 712: 'противоречить',\n",
       " 713: 'прямо',\n",
       " 714: 'пугачёв',\n",
       " 715: 'пусть',\n",
       " 716: 'разговор',\n",
       " 717: 'рфс',\n",
       " 718: 'свидетельствовать',\n",
       " 719: 'свобода',\n",
       " 720: 'скорее',\n",
       " 721: 'собираться',\n",
       " 722: 'советский',\n",
       " 723: 'спасение',\n",
       " 724: 'спорт',\n",
       " 725: 'сразу',\n",
       " 726: 'стороженко',\n",
       " 727: 'сторонник',\n",
       " 728: 'страна',\n",
       " 729: 'тонуть',\n",
       " 730: 'тысяча',\n",
       " 731: 'убийство',\n",
       " 732: 'уничтожение',\n",
       " 733: 'федерация',\n",
       " 734: 'ффу',\n",
       " 735: 'ходить',\n",
       " 736: 'черта',\n",
       " 737: 'число',\n",
       " 738: 'юношеский',\n",
       " 739: 'бегать',\n",
       " 740: 'блохин',\n",
       " 741: 'временами',\n",
       " 742: 'всетаки',\n",
       " 743: 'вчера',\n",
       " 744: 'выглядеть',\n",
       " 745: 'зритель',\n",
       " 746: 'километраж',\n",
       " 747: 'маленький',\n",
       " 748: 'меняться',\n",
       " 749: 'нагрузка',\n",
       " 750: 'нужный',\n",
       " 751: 'объём',\n",
       " 752: 'олег',\n",
       " 753: 'план',\n",
       " 754: 'поехать',\n",
       " 755: 'поздравлять',\n",
       " 756: 'показывать',\n",
       " 757: 'покупать',\n",
       " 758: 'проявлять',\n",
       " 759: 'работать',\n",
       " 760: 'роль',\n",
       " 761: 'сбрасывать',\n",
       " 762: 'ставить',\n",
       " 763: 'столько',\n",
       " 764: 'стремиться',\n",
       " 765: 'тактика',\n",
       " 766: 'тяжёлый',\n",
       " 767: 'украинец',\n",
       " 768: 'уровень',\n",
       " 769: 'усталость',\n",
       " 770: 'установка',\n",
       " 771: 'чемуть',\n",
       " 772: 'анатолий',\n",
       " 773: 'аршавин',\n",
       " 774: 'аршавино',\n",
       " 775: 'безнадёжно',\n",
       " 776: 'бойцовский',\n",
       " 777: 'видно',\n",
       " 778: 'возвращение',\n",
       " 779: 'впечатление',\n",
       " 780: 'вряд',\n",
       " 781: 'встретить',\n",
       " 782: 'довольный',\n",
       " 783: 'дух',\n",
       " 784: 'знакомство',\n",
       " 785: 'мастерство',\n",
       " 786: 'набирать',\n",
       " 787: 'начаться',\n",
       " 788: 'небольшой',\n",
       " 789: 'некоторый',\n",
       " 790: 'никуда',\n",
       " 791: 'опытный',\n",
       " 792: 'положительный',\n",
       " 793: 'понятно',\n",
       " 794: 'приятно',\n",
       " 795: 'проблема',\n",
       " 796: 'профессионализм',\n",
       " 797: 'реакция',\n",
       " 798: 'русский',\n",
       " 799: 'тимощука',\n",
       " 800: 'удача',\n",
       " 801: 'уста',\n",
       " 802: 'человеческий',\n",
       " 803: 'возвращаться',\n",
       " 804: 'впереди',\n",
       " 805: 'вывод',\n",
       " 806: 'жаль',\n",
       " 807: 'заметно',\n",
       " 808: 'ломбертс',\n",
       " 809: 'мяч',\n",
       " 810: 'неплохой',\n",
       " 811: 'непросто',\n",
       " 812: 'николас',\n",
       " 813: 'особенно',\n",
       " 814: 'отдавать',\n",
       " 815: 'отличный',\n",
       " 816: 'половина',\n",
       " 817: 'свежий',\n",
       " 818: 'старт',\n",
       " 819: 'стоить',\n",
       " 820: 'тайм',\n",
       " 821: 'тренироваться',\n",
       " 822: 'тренировочный',\n",
       " 823: 'устать',\n",
       " 824: 'футболист',\n",
       " 825: 'частый',\n",
       " 826: 'atio',\n",
       " 827: 'sb',\n",
       " 828: 'америка',\n",
       " 829: 'амрия',\n",
       " 830: 'баффало',\n",
       " 831: 'выступать',\n",
       " 832: 'задор',\n",
       " 833: 'затем',\n",
       " 834: 'красный',\n",
       " 835: 'лига',\n",
       " 836: 'лондон',\n",
       " 837: 'мхл',\n",
       " 838: 'найтс',\n",
       " 839: 'никита',\n",
       " 840: 'новичок',\n",
       " 841: 'онтарио',\n",
       " 842: 'северный',\n",
       " 843: 'уехать',\n",
       " 844: 'хоккеист',\n",
       " 845: 'хоккейный',\n",
       " 846: 'аплодировать',\n",
       " 847: 'армянский',\n",
       " 848: 'бавария',\n",
       " 849: 'биться',\n",
       " 850: 'бомбардир',\n",
       " 851: 'генрих',\n",
       " 852: 'горняк',\n",
       " 853: 'действие',\n",
       " 854: 'демонстрировать',\n",
       " 855: 'донецкий',\n",
       " 856: 'забивать',\n",
       " 857: 'заявление',\n",
       " 858: 'иной',\n",
       " 859: 'исчезнуть',\n",
       " 860: 'каждый',\n",
       " 861: 'какиеть',\n",
       " 862: 'комментировать',\n",
       " 863: 'ливерпуль',\n",
       " 864: 'лучёска',\n",
       " 865: 'мадридский',\n",
       " 866: 'менять',\n",
       " 867: 'мирча',\n",
       " 868: 'мхитарян',\n",
       " 869: 'опуститься',\n",
       " 870: 'организация',\n",
       " 871: 'остальной',\n",
       " 872: 'отпуск',\n",
       " 873: 'оценить',\n",
       " 874: 'ошибка',\n",
       " 875: 'переговоры',\n",
       " 876: 'переход',\n",
       " 877: 'подумать',\n",
       " 878: 'помогать',\n",
       " 879: 'понять',\n",
       " 880: 'появляться',\n",
       " 881: 'превосходить',\n",
       " 882: 'призывать',\n",
       " 883: 'продлить',\n",
       " 884: 'реал',\n",
       " 885: 'редко',\n",
       " 886: 'руководство',\n",
       " 887: 'самовольно',\n",
       " 888: 'сильный',\n",
       " 889: 'совершать',\n",
       " 890: 'спина',\n",
       " 891: 'травмировать',\n",
       " 892: 'хотеться',\n",
       " 893: 'шахтёр',\n",
       " 894: 'штрафной',\n",
       " 895: 'бельханда',\n",
       " 896: 'вживую',\n",
       " 897: 'впервые',\n",
       " 898: 'джермейн',\n",
       " 899: 'добавить',\n",
       " 900: 'дьемерси',\n",
       " 901: 'интересно',\n",
       " 902: 'интересный',\n",
       " 903: 'краска',\n",
       " 904: 'ленс',\n",
       " 905: 'мбокани',\n",
       " 906: 'официально',\n",
       " 907: 'перерыв',\n",
       " 908: 'представить',\n",
       " 909: 'юнести',\n",
       " 910: 'адам',\n",
       " 911: 'аз',\n",
       " 912: 'аякс',\n",
       " 913: 'вицечемпион',\n",
       " 914: 'голландия',\n",
       " 915: 'достигнуть',\n",
       " 916: 'забить',\n",
       " 917: 'заинтересованный',\n",
       " 918: 'махер',\n",
       " 919: 'молодёжный',\n",
       " 920: 'отдать',\n",
       " 921: 'передача',\n",
       " 922: 'подписать',\n",
       " 923: 'помимо',\n",
       " 924: 'принципиальный',\n",
       " 925: 'псв',\n",
       " 926: 'рассчитать',\n",
       " 927: 'результативный',\n",
       " 928: 'соглашение',\n",
       " 929: 'трансфер',\n",
       " 930: 'выкладываться',\n",
       " 931: 'выходить',\n",
       " 932: 'забывать',\n",
       " 933: 'качественный',\n",
       " 934: 'концентрация',\n",
       " 935: 'любой',\n",
       " 936: 'могилевец',\n",
       " 937: 'независимо',\n",
       " 938: 'неофициальный',\n",
       " 939: 'новинка',\n",
       " 940: 'обидно',\n",
       " 941: 'павел',\n",
       " 942: 'правда',\n",
       " 943: 'прийти',\n",
       " 944: 'процент',\n",
       " 945: 'реализация',\n",
       " 946: 'соревнование',\n",
       " 947: 'стараться',\n",
       " 948: 'сто',\n",
       " 949: 'хватить',\n",
       " 950: 'шанс',\n",
       " 951: 'эмоция',\n",
       " 952: 'значит',\n",
       " 953: 'полный',\n",
       " 954: 'преддрафтовый',\n",
       " 955: 'признаться',\n",
       " 956: 'равно',\n",
       " 957: 'страшный',\n",
       " 958: 'сюрприз',\n",
       " 959: 'тест',\n",
       " 960: 'торонто',\n",
       " 961: 'yahoosports',\n",
       " 962: 'будущее',\n",
       " 963: 'вариант',\n",
       " 964: 'возможный',\n",
       " 965: 'гиллис',\n",
       " 966: 'движение',\n",
       " 967: 'именно',\n",
       " 968: 'искать',\n",
       " 969: 'курс',\n",
       " 970: 'майк',\n",
       " 971: 'молодёжь',\n",
       " 972: 'необходимо',\n",
       " 973: 'перспективный',\n",
       " 974: 'постоянно',\n",
       " 975: 'постоянный',\n",
       " 976: 'предложение',\n",
       " 977: 'прекрасный',\n",
       " 978: 'приспосабливаться',\n",
       " 979: 'причина',\n",
       " 980: 'различный',\n",
       " 981: 'рассказать',\n",
       " 982: 'рассматривать',\n",
       " 983: 'рынок',\n",
       " 984: 'случиться',\n",
       " 985: 'слушать',\n",
       " 986: 'событие',\n",
       " 987: 'трансферный',\n",
       " 988: 'уверенный',\n",
       " 989: 'чтоть',\n",
       " 990: 'балл',\n",
       " 991: 'джей',\n",
       " 992: 'дженять',\n",
       " 993: 'заполучить',\n",
       " 994: 'использовать',\n",
       " 995: 'каролина',\n",
       " 996: 'клинок',\n",
       " 997: 'комфер',\n",
       " 998: 'направление',\n",
       " 999: 'обратный',\n",
       " ...}"
      ]
     },
     "execution_count": 19,
     "metadata": {},
     "output_type": "execute_result"
    }
   ],
   "source": [
    "common_dictionary.id2token"
   ]
  },
  {
   "cell_type": "markdown",
   "id": "bc15d9aa",
   "metadata": {
    "id": "YKkuzl96nZ4f"
   },
   "source": [
    "Делаем BoW по списку слов"
   ]
  },
  {
   "cell_type": "code",
   "execution_count": 20,
   "id": "b03d937e",
   "metadata": {
    "colab": {
     "base_uri": "https://localhost:8080/"
    },
    "id": "QAalxqanm95I",
    "outputId": "0f61af19-7f98-4d1a-a772-dc6471ef9963"
   },
   "outputs": [
    {
     "data": {
      "text/plain": [
       "[(5, 3), (135723, 1), (135724, 1)]"
      ]
     },
     "execution_count": 20,
     "metadata": {},
     "output_type": "execute_result"
    }
   ],
   "source": [
    "common_dictionary.doc2bow(['баскетбол' ,'баскетбол' ,'баскетбол' ,'наше', 'все'], allow_update=True)"
   ]
  },
  {
   "cell_type": "code",
   "execution_count": 21,
   "id": "e9a7d60f",
   "metadata": {
    "colab": {
     "base_uri": "https://localhost:8080/"
    },
    "id": "JSf5rfLjROW7",
    "outputId": "27816815-b721-49c4-af40-2b38671a3ad8"
   },
   "outputs": [
    {
     "data": {
      "text/plain": [
       "(0, 2)"
      ]
     },
     "execution_count": 21,
     "metadata": {},
     "output_type": "execute_result"
    }
   ],
   "source": [
    "common_corpus[0][0]"
   ]
  },
  {
   "cell_type": "code",
   "execution_count": 22,
   "id": "ab09e86f",
   "metadata": {
    "colab": {
     "base_uri": "https://localhost:8080/"
    },
    "id": "mcQAiY4kRlAW",
    "outputId": "3dee17d6-c997-4f03-b9c6-941e28691058"
   },
   "outputs": [
    {
     "data": {
      "text/plain": [
       "118"
      ]
     },
     "execution_count": 22,
     "metadata": {},
     "output_type": "execute_result"
    }
   ],
   "source": [
    "len(texts[0])"
   ]
  },
  {
   "cell_type": "markdown",
   "id": "5cf731ed",
   "metadata": {
    "id": "jrkMUNueMIGv"
   },
   "source": [
    "Все просто - это словарь наших слов"
   ]
  },
  {
   "cell_type": "markdown",
   "id": "c1681e9e",
   "metadata": {
    "id": "LksYgmAqMIGw"
   },
   "source": [
    "Запускаем обучение"
   ]
  },
  {
   "cell_type": "code",
   "execution_count": 23,
   "id": "895f22b6",
   "metadata": {
    "id": "vcBROvtBkGix"
   },
   "outputs": [],
   "source": [
    "N_topic = 20 # число тем - гиперпараметр"
   ]
  },
  {
   "cell_type": "code",
   "execution_count": 24,
   "id": "5b31a73d",
   "metadata": {
    "colab": {
     "base_uri": "https://localhost:8080/"
    },
    "id": "xtKgOLXzMIGw",
    "outputId": "339ff24c-359f-4277-fcb0-b2427779d07c"
   },
   "outputs": [
    {
     "name": "stdout",
     "output_type": "stream",
     "text": [
      "Wall time: 22.7 s\n"
     ]
    }
   ],
   "source": [
    "%%time\n",
    "from gensim.models import LdaModel\n",
    "# Train the model on the corpus.\n",
    "lda = LdaModel(common_corpus, num_topics=N_topic, id2word=common_dictionary)#, passes=10)"
   ]
  },
  {
   "cell_type": "code",
   "execution_count": 25,
   "id": "5aca884f",
   "metadata": {
    "id": "IyVZ-spdMIGx"
   },
   "outputs": [],
   "source": [
    "from gensim.test.utils import datapath\n",
    "# Save model to disk.\n",
    "temp_file = datapath(\"model.lda\")\n",
    "lda.save(temp_file)\n",
    "\n",
    "# Load a potentially pretrained model from disk.\n",
    "lda = LdaModel.load(temp_file)"
   ]
  },
  {
   "cell_type": "markdown",
   "id": "f1178e3d",
   "metadata": {
    "id": "ZshpqNKwMIGx"
   },
   "source": [
    "Обучили модель. Теперь 2 вопроса:\n",
    "\n",
    "1. как выглядят наши темы\n",
    "2. как получить для документа вектор значений (вероятности принадлежности каждой теме)"
   ]
  },
  {
   "cell_type": "code",
   "execution_count": 26,
   "id": "15c8fb5d",
   "metadata": {
    "colab": {
     "base_uri": "https://localhost:8080/"
    },
    "id": "-stkuTDxMIGy",
    "outputId": "1f42fcc1-92e9-4560-b01b-498bb7b625de"
   },
   "outputs": [
    {
     "name": "stdout",
     "output_type": "stream",
     "text": [
      "['форвард', 'авангард', 'томаш', 'заборский', 'прокомментировать', 'игра', 'свой', 'команда', 'матч', 'чемпионат', 'кхл', 'против', 'атланта', 'провести', 'плохой', 'матч', 'нижний', 'новгород', 'против', 'торпедо', 'настраиваться', 'первый', 'минута', 'включиться', 'работа', 'сказать', 'заборский', 'получиться', 'забросить', 'быстрый', 'гол', 'задать', 'хороший', 'темп', 'поединок', 'мочь', 'играть', 'ещё', 'хороший', 'сторона', 'пять', 'очко', 'выезд', 'девять', 'это', 'хороший']\n"
     ]
    },
    {
     "data": {
      "text/plain": [
       "[(0, 0.16895072), (5, 0.36413664), (10, 0.320451), (16, 0.12788753)]"
      ]
     },
     "execution_count": 26,
     "metadata": {},
     "output_type": "execute_result"
    }
   ],
   "source": [
    "# Create a new corpus, made of previously unseen documents.\n",
    "other_texts = [t for t in news['title'].iloc[:3]]\n",
    "other_corpus = [common_dictionary.doc2bow(text) for text in other_texts]\n",
    "\n",
    "unseen_doc = other_corpus[2]\n",
    "print(other_texts[2])\n",
    "lda[unseen_doc] "
   ]
  },
  {
   "cell_type": "code",
   "execution_count": 27,
   "id": "74446271",
   "metadata": {
    "colab": {
     "base_uri": "https://localhost:8080/"
    },
    "id": "Bbxd48b_MIGz",
    "outputId": "e51b48f3-f2f7-4f4e-ff8f-80c4d3a040f0"
   },
   "outputs": [
    {
     "name": "stdout",
     "output_type": "stream",
     "text": [
      "topic_0: украина гражданин украинский киев фронт народный законодательство это физика превысить украинец писать который юрист спасти\n",
      "topic_1: который суд год погибнуть дело человек также группа город земля это результат россия апрель время\n",
      "topic_2: рак восток отряд япония горный вес курение риск вода флот порт курить кг японец урожай\n",
      "topic_3: газ полиция задержать экипаж польша полицейский маршрут мвд ск движение польский внедрение сближение сотрудник палата\n",
      "topic_4: мозг белоруссия бизнесмен обращение еда грант берег минск медик казахстан горизонт нанести фонд отправляться русь\n",
      "topic_5: это год всё который весь мочь большой очень первый человек время день ещё наш свой\n",
      "topic_6: обнаружить препарат лечение фотография болезнь снизиться кровь след авария смерть кость медицинский инженер анализ год\n",
      "topic_7: млн тыс год исследование пациент доход составить остров писать пенсия около составлять компания рост стоимость\n",
      "topic_8: год россия ракета это эксперт российский который риск путин станция новый объём тыс поверхность система\n",
      "topic_9: год млрд рубль это военный россия который фонд также млн управление российский строительство наука данные\n",
      "topic_10: топливо место первый вода китай рейтинг экипаж год стать планета второй океан третий который мир\n",
      "topic_11: год который это президент глава россия свой также страна заявить день стать правительство весь человек\n",
      "topic_12: это который человек свой год мочь ребёнок статья время всё женщина помощь однако дом работа\n",
      "topic_13: объект солнце км террорист армия определение обнаружить выделить боевик пункт железный напомнить вуз писать воздух\n",
      "topic_14: треть ii миллиард областной римский экспериментальный километр репутация эндрю воспаление папа паркинсон пробыть оскар акула\n",
      "topic_15: сша американский лаборатория северный дональд иран мышь фильм знаменитый американец год агентство угроза корея германия\n",
      "topic_16: год который журнал стать тело снижение человек это время жизнь свой британский смерть весь самый\n",
      "topic_17: это который страна россия мочь российский компания исследование научный рынок система развитие банк рост год\n",
      "topic_18: озеро мэй гражданство чечня химия тереза вина прибывать круглый педагог парк дорого русло чеченский грозный\n",
      "topic_19: проверка высота метр градус ремонт погода этаж реконструкция аналог секунда студент дождь км таиланд стена\n"
     ]
    }
   ],
   "source": [
    "x=lda.show_topics(num_topics=N_topic, num_words=15,formatted=False)\n",
    "topics_words = [(tp[0], [wd[0] for wd in tp[1]]) for tp in x]\n",
    "\n",
    "#Below Code Prints Only Words \n",
    "for topic,words in topics_words:\n",
    "    print(\"topic_{}: \".format(topic)+\" \".join(words))"
   ]
  },
  {
   "cell_type": "markdown",
   "id": "e6b106ee",
   "metadata": {
    "id": "gBlxgTZoMIG0"
   },
   "source": [
    "Очень неплохо - большинство тем вполне можно описать о чем они\n",
    "\n",
    "\n",
    "построим темы "
   ]
  },
  {
   "cell_type": "code",
   "execution_count": 28,
   "id": "a273f77e",
   "metadata": {
    "colab": {
     "base_uri": "https://localhost:8080/"
    },
    "id": "1vbGV31OtHHx",
    "outputId": "f0b30190-e2f0-4799-da40-8b9e795d8445"
   },
   "outputs": [
    {
     "data": {
      "text/plain": [
       "['ио',\n",
       " 'главное',\n",
       " 'тренер',\n",
       " 'вячеслав',\n",
       " 'буцай',\n",
       " 'прокомментировать',\n",
       " 'победа',\n",
       " 'югра',\n",
       " 'матч',\n",
       " 'регулярный',\n",
       " 'чемпионат',\n",
       " 'кхл',\n",
       " 'прежде',\n",
       " 'весь',\n",
       " 'хотеть',\n",
       " 'поблагодарить',\n",
       " 'свой',\n",
       " 'ребята',\n",
       " 'весь',\n",
       " 'команда',\n",
       " 'передавать',\n",
       " 'слово',\n",
       " 'официальный',\n",
       " 'сайт',\n",
       " 'югра',\n",
       " 'игра',\n",
       " 'начинаться',\n",
       " 'очень',\n",
       " 'удачно',\n",
       " 'пропустить',\n",
       " 'гол',\n",
       " 'первый',\n",
       " 'смена',\n",
       " 'долго',\n",
       " 'входить',\n",
       " 'игра',\n",
       " 'мочь',\n",
       " 'это',\n",
       " 'связать',\n",
       " 'это',\n",
       " 'дневный',\n",
       " 'матч',\n",
       " 'непривычный',\n",
       " 'время',\n",
       " 'плюс',\n",
       " 'это',\n",
       " 'третий',\n",
       " 'матч',\n",
       " 'сибирь',\n",
       " 'гдеть',\n",
       " 'ребята',\n",
       " 'чувствовать',\n",
       " 'скажем',\n",
       " 'сонный',\n",
       " 'второй',\n",
       " 'третий',\n",
       " 'период',\n",
       " 'показать',\n",
       " 'разбежаться',\n",
       " 'стать',\n",
       " 'играть',\n",
       " 'правильно',\n",
       " 'появиться',\n",
       " 'момент',\n",
       " 'дотерпеть',\n",
       " 'считать',\n",
       " 'заслуженно',\n",
       " 'победить']"
      ]
     },
     "execution_count": 28,
     "metadata": {},
     "output_type": "execute_result"
    }
   ],
   "source": [
    "news['title'].iloc[5]"
   ]
  },
  {
   "cell_type": "code",
   "execution_count": 29,
   "id": "f45faf2d",
   "metadata": {
    "colab": {
     "base_uri": "https://localhost:8080/"
    },
    "id": "NzIVpjbQsK_8",
    "outputId": "804ebb71-e825-4cd8-b0dd-6ac37bf2394f"
   },
   "outputs": [
    {
     "data": {
      "text/plain": [
       "[(0, 0.4943012),\n",
       " (6, 0.16287419),\n",
       " (7, 0.16693816),\n",
       " (14, 0.11425223),\n",
       " (18, 0.03734596)]"
      ]
     },
     "execution_count": 29,
     "metadata": {},
     "output_type": "execute_result"
    }
   ],
   "source": [
    "lda[common_dictionary.doc2bow(news['title'].iloc[10])]"
   ]
  },
  {
   "cell_type": "markdown",
   "id": "35c2daa8",
   "metadata": {
    "id": "ZqB953kTMIG0"
   },
   "source": [
    "Давайте напишем функцию, которая будет нам возвращать векторное представление новости"
   ]
  },
  {
   "cell_type": "code",
   "execution_count": 30,
   "id": "74cf0e61",
   "metadata": {
    "id": "dKAc5hiVMIG1"
   },
   "outputs": [],
   "source": [
    "#text = news['title'].iloc[0]\n",
    "\n",
    "def get_lda_vector(text):\n",
    "    unseen_doc = common_dictionary.doc2bow(text)\n",
    "    lda_tuple = lda[unseen_doc]\n",
    "    not_null_topics = dict(zip([i[0] for i in lda_tuple], [i[1] for i in lda_tuple]))\n",
    "\n",
    "    output_vector = []\n",
    "    for i in range(N_topic):\n",
    "        if i not in not_null_topics:\n",
    "            output_vector.append(0)\n",
    "        else:\n",
    "            output_vector.append(not_null_topics[i])\n",
    "    return np.array(output_vector)"
   ]
  },
  {
   "cell_type": "code",
   "execution_count": 31,
   "id": "4116e4e3",
   "metadata": {
    "colab": {
     "base_uri": "https://localhost:8080/",
     "height": 222
    },
    "id": "QKc4AAI5MIG2",
    "outputId": "bc69d265-10a5-442b-95d5-07756337dfe5"
   },
   "outputs": [
    {
     "data": {
      "text/html": [
       "<div>\n",
       "<style scoped>\n",
       "    .dataframe tbody tr th:only-of-type {\n",
       "        vertical-align: middle;\n",
       "    }\n",
       "\n",
       "    .dataframe tbody tr th {\n",
       "        vertical-align: top;\n",
       "    }\n",
       "\n",
       "    .dataframe thead th {\n",
       "        text-align: right;\n",
       "    }\n",
       "</style>\n",
       "<table border=\"1\" class=\"dataframe\">\n",
       "  <thead>\n",
       "    <tr style=\"text-align: right;\">\n",
       "      <th></th>\n",
       "      <th>doc_id</th>\n",
       "      <th>topic_0</th>\n",
       "      <th>topic_1</th>\n",
       "      <th>topic_2</th>\n",
       "      <th>topic_3</th>\n",
       "      <th>topic_4</th>\n",
       "      <th>topic_5</th>\n",
       "      <th>topic_6</th>\n",
       "      <th>topic_7</th>\n",
       "      <th>topic_8</th>\n",
       "      <th>...</th>\n",
       "      <th>topic_10</th>\n",
       "      <th>topic_11</th>\n",
       "      <th>topic_12</th>\n",
       "      <th>topic_13</th>\n",
       "      <th>topic_14</th>\n",
       "      <th>topic_15</th>\n",
       "      <th>topic_16</th>\n",
       "      <th>topic_17</th>\n",
       "      <th>topic_18</th>\n",
       "      <th>topic_19</th>\n",
       "    </tr>\n",
       "  </thead>\n",
       "  <tbody>\n",
       "    <tr>\n",
       "      <th>0</th>\n",
       "      <td>6</td>\n",
       "      <td>0.058069</td>\n",
       "      <td>0.608432</td>\n",
       "      <td>0.000000</td>\n",
       "      <td>0.0</td>\n",
       "      <td>0.0</td>\n",
       "      <td>0.000000</td>\n",
       "      <td>0.0</td>\n",
       "      <td>0.0</td>\n",
       "      <td>0.0</td>\n",
       "      <td>...</td>\n",
       "      <td>0.011788</td>\n",
       "      <td>0.125840</td>\n",
       "      <td>0.000000</td>\n",
       "      <td>0.0</td>\n",
       "      <td>0.0</td>\n",
       "      <td>0.0</td>\n",
       "      <td>0.000000</td>\n",
       "      <td>0.173241</td>\n",
       "      <td>0.016094</td>\n",
       "      <td>0.0</td>\n",
       "    </tr>\n",
       "    <tr>\n",
       "      <th>1</th>\n",
       "      <td>4896</td>\n",
       "      <td>0.000000</td>\n",
       "      <td>0.000000</td>\n",
       "      <td>0.000000</td>\n",
       "      <td>0.0</td>\n",
       "      <td>0.0</td>\n",
       "      <td>0.000000</td>\n",
       "      <td>0.0</td>\n",
       "      <td>0.0</td>\n",
       "      <td>0.0</td>\n",
       "      <td>...</td>\n",
       "      <td>0.248430</td>\n",
       "      <td>0.729047</td>\n",
       "      <td>0.000000</td>\n",
       "      <td>0.0</td>\n",
       "      <td>0.0</td>\n",
       "      <td>0.0</td>\n",
       "      <td>0.000000</td>\n",
       "      <td>0.000000</td>\n",
       "      <td>0.000000</td>\n",
       "      <td>0.0</td>\n",
       "    </tr>\n",
       "    <tr>\n",
       "      <th>2</th>\n",
       "      <td>4897</td>\n",
       "      <td>0.169096</td>\n",
       "      <td>0.000000</td>\n",
       "      <td>0.000000</td>\n",
       "      <td>0.0</td>\n",
       "      <td>0.0</td>\n",
       "      <td>0.363836</td>\n",
       "      <td>0.0</td>\n",
       "      <td>0.0</td>\n",
       "      <td>0.0</td>\n",
       "      <td>...</td>\n",
       "      <td>0.320489</td>\n",
       "      <td>0.000000</td>\n",
       "      <td>0.000000</td>\n",
       "      <td>0.0</td>\n",
       "      <td>0.0</td>\n",
       "      <td>0.0</td>\n",
       "      <td>0.128005</td>\n",
       "      <td>0.000000</td>\n",
       "      <td>0.000000</td>\n",
       "      <td>0.0</td>\n",
       "    </tr>\n",
       "    <tr>\n",
       "      <th>3</th>\n",
       "      <td>4898</td>\n",
       "      <td>0.000000</td>\n",
       "      <td>0.000000</td>\n",
       "      <td>0.000000</td>\n",
       "      <td>0.0</td>\n",
       "      <td>0.0</td>\n",
       "      <td>0.593949</td>\n",
       "      <td>0.0</td>\n",
       "      <td>0.0</td>\n",
       "      <td>0.0</td>\n",
       "      <td>...</td>\n",
       "      <td>0.067830</td>\n",
       "      <td>0.000000</td>\n",
       "      <td>0.048518</td>\n",
       "      <td>0.0</td>\n",
       "      <td>0.0</td>\n",
       "      <td>0.0</td>\n",
       "      <td>0.000000</td>\n",
       "      <td>0.000000</td>\n",
       "      <td>0.000000</td>\n",
       "      <td>0.0</td>\n",
       "    </tr>\n",
       "    <tr>\n",
       "      <th>4</th>\n",
       "      <td>4899</td>\n",
       "      <td>0.000000</td>\n",
       "      <td>0.000000</td>\n",
       "      <td>0.029771</td>\n",
       "      <td>0.0</td>\n",
       "      <td>0.0</td>\n",
       "      <td>0.000000</td>\n",
       "      <td>0.0</td>\n",
       "      <td>0.0</td>\n",
       "      <td>0.0</td>\n",
       "      <td>...</td>\n",
       "      <td>0.000000</td>\n",
       "      <td>0.477096</td>\n",
       "      <td>0.000000</td>\n",
       "      <td>0.0</td>\n",
       "      <td>0.0</td>\n",
       "      <td>0.0</td>\n",
       "      <td>0.000000</td>\n",
       "      <td>0.469439</td>\n",
       "      <td>0.000000</td>\n",
       "      <td>0.0</td>\n",
       "    </tr>\n",
       "  </tbody>\n",
       "</table>\n",
       "<p>5 rows × 21 columns</p>\n",
       "</div>"
      ],
      "text/plain": [
       "   doc_id   topic_0   topic_1   topic_2  topic_3  topic_4   topic_5  topic_6  \\\n",
       "0       6  0.058069  0.608432  0.000000      0.0      0.0  0.000000      0.0   \n",
       "1    4896  0.000000  0.000000  0.000000      0.0      0.0  0.000000      0.0   \n",
       "2    4897  0.169096  0.000000  0.000000      0.0      0.0  0.363836      0.0   \n",
       "3    4898  0.000000  0.000000  0.000000      0.0      0.0  0.593949      0.0   \n",
       "4    4899  0.000000  0.000000  0.029771      0.0      0.0  0.000000      0.0   \n",
       "\n",
       "   topic_7  topic_8  ...  topic_10  topic_11  topic_12  topic_13  topic_14  \\\n",
       "0      0.0      0.0  ...  0.011788  0.125840  0.000000       0.0       0.0   \n",
       "1      0.0      0.0  ...  0.248430  0.729047  0.000000       0.0       0.0   \n",
       "2      0.0      0.0  ...  0.320489  0.000000  0.000000       0.0       0.0   \n",
       "3      0.0      0.0  ...  0.067830  0.000000  0.048518       0.0       0.0   \n",
       "4      0.0      0.0  ...  0.000000  0.477096  0.000000       0.0       0.0   \n",
       "\n",
       "   topic_15  topic_16  topic_17  topic_18  topic_19  \n",
       "0       0.0  0.000000  0.173241  0.016094       0.0  \n",
       "1       0.0  0.000000  0.000000  0.000000       0.0  \n",
       "2       0.0  0.128005  0.000000  0.000000       0.0  \n",
       "3       0.0  0.000000  0.000000  0.000000       0.0  \n",
       "4       0.0  0.000000  0.469439  0.000000       0.0  \n",
       "\n",
       "[5 rows x 21 columns]"
      ]
     },
     "execution_count": 31,
     "metadata": {},
     "output_type": "execute_result"
    }
   ],
   "source": [
    "topic_matrix = pd.DataFrame([get_lda_vector(text) for text in news['title'].values])\n",
    "topic_matrix.columns = ['topic_{}'.format(i) for i in range(N_topic)]\n",
    "topic_matrix['doc_id'] = news['doc_id'].values\n",
    "topic_matrix = topic_matrix[['doc_id']+['topic_{}'.format(i) for i in range(N_topic)]]\n",
    "topic_matrix.head(5)"
   ]
  },
  {
   "cell_type": "code",
   "execution_count": 32,
   "id": "4fce2c43",
   "metadata": {
    "colab": {
     "base_uri": "https://localhost:8080/",
     "height": 222
    },
    "id": "EHZFcqJKo0D8",
    "outputId": "cb2afe42-4782-47fd-960e-32f26f7338b3"
   },
   "outputs": [
    {
     "data": {
      "text/html": [
       "<div>\n",
       "<style scoped>\n",
       "    .dataframe tbody tr th:only-of-type {\n",
       "        vertical-align: middle;\n",
       "    }\n",
       "\n",
       "    .dataframe tbody tr th {\n",
       "        vertical-align: top;\n",
       "    }\n",
       "\n",
       "    .dataframe thead th {\n",
       "        text-align: right;\n",
       "    }\n",
       "</style>\n",
       "<table border=\"1\" class=\"dataframe\">\n",
       "  <thead>\n",
       "    <tr style=\"text-align: right;\">\n",
       "      <th></th>\n",
       "      <th>doc_id</th>\n",
       "      <th>topic_0</th>\n",
       "      <th>topic_1</th>\n",
       "      <th>topic_2</th>\n",
       "      <th>topic_3</th>\n",
       "      <th>topic_4</th>\n",
       "      <th>topic_5</th>\n",
       "      <th>topic_6</th>\n",
       "      <th>topic_7</th>\n",
       "      <th>topic_8</th>\n",
       "      <th>...</th>\n",
       "      <th>topic_10</th>\n",
       "      <th>topic_11</th>\n",
       "      <th>topic_12</th>\n",
       "      <th>topic_13</th>\n",
       "      <th>topic_14</th>\n",
       "      <th>topic_15</th>\n",
       "      <th>topic_16</th>\n",
       "      <th>topic_17</th>\n",
       "      <th>topic_18</th>\n",
       "      <th>topic_19</th>\n",
       "    </tr>\n",
       "  </thead>\n",
       "  <tbody>\n",
       "    <tr>\n",
       "      <th>0</th>\n",
       "      <td>6</td>\n",
       "      <td>0.058069</td>\n",
       "      <td>0.608432</td>\n",
       "      <td>0.000000</td>\n",
       "      <td>0.0</td>\n",
       "      <td>0.0</td>\n",
       "      <td>0.000000</td>\n",
       "      <td>0.0</td>\n",
       "      <td>0.0</td>\n",
       "      <td>0.0</td>\n",
       "      <td>...</td>\n",
       "      <td>0.011788</td>\n",
       "      <td>0.125840</td>\n",
       "      <td>0.000000</td>\n",
       "      <td>0.0</td>\n",
       "      <td>0.0</td>\n",
       "      <td>0.0</td>\n",
       "      <td>0.000000</td>\n",
       "      <td>0.173241</td>\n",
       "      <td>0.016094</td>\n",
       "      <td>0.0</td>\n",
       "    </tr>\n",
       "    <tr>\n",
       "      <th>1</th>\n",
       "      <td>4896</td>\n",
       "      <td>0.000000</td>\n",
       "      <td>0.000000</td>\n",
       "      <td>0.000000</td>\n",
       "      <td>0.0</td>\n",
       "      <td>0.0</td>\n",
       "      <td>0.000000</td>\n",
       "      <td>0.0</td>\n",
       "      <td>0.0</td>\n",
       "      <td>0.0</td>\n",
       "      <td>...</td>\n",
       "      <td>0.248430</td>\n",
       "      <td>0.729047</td>\n",
       "      <td>0.000000</td>\n",
       "      <td>0.0</td>\n",
       "      <td>0.0</td>\n",
       "      <td>0.0</td>\n",
       "      <td>0.000000</td>\n",
       "      <td>0.000000</td>\n",
       "      <td>0.000000</td>\n",
       "      <td>0.0</td>\n",
       "    </tr>\n",
       "    <tr>\n",
       "      <th>2</th>\n",
       "      <td>4897</td>\n",
       "      <td>0.169096</td>\n",
       "      <td>0.000000</td>\n",
       "      <td>0.000000</td>\n",
       "      <td>0.0</td>\n",
       "      <td>0.0</td>\n",
       "      <td>0.363836</td>\n",
       "      <td>0.0</td>\n",
       "      <td>0.0</td>\n",
       "      <td>0.0</td>\n",
       "      <td>...</td>\n",
       "      <td>0.320489</td>\n",
       "      <td>0.000000</td>\n",
       "      <td>0.000000</td>\n",
       "      <td>0.0</td>\n",
       "      <td>0.0</td>\n",
       "      <td>0.0</td>\n",
       "      <td>0.128005</td>\n",
       "      <td>0.000000</td>\n",
       "      <td>0.000000</td>\n",
       "      <td>0.0</td>\n",
       "    </tr>\n",
       "    <tr>\n",
       "      <th>3</th>\n",
       "      <td>4898</td>\n",
       "      <td>0.000000</td>\n",
       "      <td>0.000000</td>\n",
       "      <td>0.000000</td>\n",
       "      <td>0.0</td>\n",
       "      <td>0.0</td>\n",
       "      <td>0.593949</td>\n",
       "      <td>0.0</td>\n",
       "      <td>0.0</td>\n",
       "      <td>0.0</td>\n",
       "      <td>...</td>\n",
       "      <td>0.067830</td>\n",
       "      <td>0.000000</td>\n",
       "      <td>0.048518</td>\n",
       "      <td>0.0</td>\n",
       "      <td>0.0</td>\n",
       "      <td>0.0</td>\n",
       "      <td>0.000000</td>\n",
       "      <td>0.000000</td>\n",
       "      <td>0.000000</td>\n",
       "      <td>0.0</td>\n",
       "    </tr>\n",
       "    <tr>\n",
       "      <th>4</th>\n",
       "      <td>4899</td>\n",
       "      <td>0.000000</td>\n",
       "      <td>0.000000</td>\n",
       "      <td>0.029771</td>\n",
       "      <td>0.0</td>\n",
       "      <td>0.0</td>\n",
       "      <td>0.000000</td>\n",
       "      <td>0.0</td>\n",
       "      <td>0.0</td>\n",
       "      <td>0.0</td>\n",
       "      <td>...</td>\n",
       "      <td>0.000000</td>\n",
       "      <td>0.477096</td>\n",
       "      <td>0.000000</td>\n",
       "      <td>0.0</td>\n",
       "      <td>0.0</td>\n",
       "      <td>0.0</td>\n",
       "      <td>0.000000</td>\n",
       "      <td>0.469439</td>\n",
       "      <td>0.000000</td>\n",
       "      <td>0.0</td>\n",
       "    </tr>\n",
       "  </tbody>\n",
       "</table>\n",
       "<p>5 rows × 21 columns</p>\n",
       "</div>"
      ],
      "text/plain": [
       "   doc_id   topic_0   topic_1   topic_2  topic_3  topic_4   topic_5  topic_6  \\\n",
       "0       6  0.058069  0.608432  0.000000      0.0      0.0  0.000000      0.0   \n",
       "1    4896  0.000000  0.000000  0.000000      0.0      0.0  0.000000      0.0   \n",
       "2    4897  0.169096  0.000000  0.000000      0.0      0.0  0.363836      0.0   \n",
       "3    4898  0.000000  0.000000  0.000000      0.0      0.0  0.593949      0.0   \n",
       "4    4899  0.000000  0.000000  0.029771      0.0      0.0  0.000000      0.0   \n",
       "\n",
       "   topic_7  topic_8  ...  topic_10  topic_11  topic_12  topic_13  topic_14  \\\n",
       "0      0.0      0.0  ...  0.011788  0.125840  0.000000       0.0       0.0   \n",
       "1      0.0      0.0  ...  0.248430  0.729047  0.000000       0.0       0.0   \n",
       "2      0.0      0.0  ...  0.320489  0.000000  0.000000       0.0       0.0   \n",
       "3      0.0      0.0  ...  0.067830  0.000000  0.048518       0.0       0.0   \n",
       "4      0.0      0.0  ...  0.000000  0.477096  0.000000       0.0       0.0   \n",
       "\n",
       "   topic_15  topic_16  topic_17  topic_18  topic_19  \n",
       "0       0.0  0.000000  0.173241  0.016094       0.0  \n",
       "1       0.0  0.000000  0.000000  0.000000       0.0  \n",
       "2       0.0  0.128005  0.000000  0.000000       0.0  \n",
       "3       0.0  0.000000  0.000000  0.000000       0.0  \n",
       "4       0.0  0.000000  0.469439  0.000000       0.0  \n",
       "\n",
       "[5 rows x 21 columns]"
      ]
     },
     "execution_count": 32,
     "metadata": {},
     "output_type": "execute_result"
    }
   ],
   "source": [
    "topic_matrix.head()"
   ]
  },
  {
   "cell_type": "markdown",
   "id": "85a24377",
   "metadata": {
    "id": "MbQgZQ3MMIG2"
   },
   "source": [
    "Прекрасно, мы получили вектора наших новостей! И даже умеем интерпретировать получившиеся темы.\n",
    "\n",
    "Можно двигаться далее"
   ]
  },
  {
   "cell_type": "markdown",
   "id": "bb5e56ec",
   "metadata": {
    "id": "z0JACLjHMIG3"
   },
   "source": [
    "### Следующий шаг - векторные представления пользователей"
   ]
  },
  {
   "cell_type": "code",
   "execution_count": 33,
   "id": "dc829389",
   "metadata": {
    "colab": {
     "base_uri": "https://localhost:8080/",
     "height": 355
    },
    "id": "7IcoyDauMIG3",
    "outputId": "2bca5b68-013c-4a9d-9a21-776a549f7995",
    "scrolled": true
   },
   "outputs": [
    {
     "data": {
      "text/html": [
       "<div>\n",
       "<style scoped>\n",
       "    .dataframe tbody tr th:only-of-type {\n",
       "        vertical-align: middle;\n",
       "    }\n",
       "\n",
       "    .dataframe tbody tr th {\n",
       "        vertical-align: top;\n",
       "    }\n",
       "\n",
       "    .dataframe thead th {\n",
       "        text-align: right;\n",
       "    }\n",
       "</style>\n",
       "<table border=\"1\" class=\"dataframe\">\n",
       "  <thead>\n",
       "    <tr style=\"text-align: right;\">\n",
       "      <th></th>\n",
       "      <th>uid</th>\n",
       "      <th>articles</th>\n",
       "    </tr>\n",
       "  </thead>\n",
       "  <tbody>\n",
       "    <tr>\n",
       "      <th>0</th>\n",
       "      <td>u105138</td>\n",
       "      <td>[293672, 293328, 293001, 293622, 293126, 1852]</td>\n",
       "    </tr>\n",
       "    <tr>\n",
       "      <th>1</th>\n",
       "      <td>u108690</td>\n",
       "      <td>[3405, 1739, 2972, 1158, 1599, 322665]</td>\n",
       "    </tr>\n",
       "    <tr>\n",
       "      <th>2</th>\n",
       "      <td>u108339</td>\n",
       "      <td>[1845, 2009, 2356, 1424, 2939, 323389]</td>\n",
       "    </tr>\n",
       "    <tr>\n",
       "      <th>3</th>\n",
       "      <td>u101138</td>\n",
       "      <td>[5933, 6186, 5055, 6977, 5206, 488389]</td>\n",
       "    </tr>\n",
       "    <tr>\n",
       "      <th>4</th>\n",
       "      <td>u108248</td>\n",
       "      <td>[707, 1144, 2532, 2928, 3133, 324592]</td>\n",
       "    </tr>\n",
       "    <tr>\n",
       "      <th>5</th>\n",
       "      <td>u106662</td>\n",
       "      <td>[323868, 323426, 324267, 322426, 324104, 1550]</td>\n",
       "    </tr>\n",
       "    <tr>\n",
       "      <th>6</th>\n",
       "      <td>u105949</td>\n",
       "      <td>[293138, 294471, 295012, 294736, 293949, 3544]</td>\n",
       "    </tr>\n",
       "    <tr>\n",
       "      <th>7</th>\n",
       "      <td>u102457</td>\n",
       "      <td>[6928, 5009, 6940, 7629, 7644, 512736]</td>\n",
       "    </tr>\n",
       "    <tr>\n",
       "      <th>8</th>\n",
       "      <td>u104124</td>\n",
       "      <td>[322838, 324699, 322991, 322120, 324327, 472331]</td>\n",
       "    </tr>\n",
       "    <tr>\n",
       "      <th>9</th>\n",
       "      <td>u101386</td>\n",
       "      <td>[7827, 6427, 7394, 7151, 6335, 487254]</td>\n",
       "    </tr>\n",
       "  </tbody>\n",
       "</table>\n",
       "</div>"
      ],
      "text/plain": [
       "       uid                                          articles\n",
       "0  u105138    [293672, 293328, 293001, 293622, 293126, 1852]\n",
       "1  u108690            [3405, 1739, 2972, 1158, 1599, 322665]\n",
       "2  u108339            [1845, 2009, 2356, 1424, 2939, 323389]\n",
       "3  u101138            [5933, 6186, 5055, 6977, 5206, 488389]\n",
       "4  u108248             [707, 1144, 2532, 2928, 3133, 324592]\n",
       "5  u106662    [323868, 323426, 324267, 322426, 324104, 1550]\n",
       "6  u105949    [293138, 294471, 295012, 294736, 293949, 3544]\n",
       "7  u102457            [6928, 5009, 6940, 7629, 7644, 512736]\n",
       "8  u104124  [322838, 324699, 322991, 322120, 324327, 472331]\n",
       "9  u101386            [7827, 6427, 7394, 7151, 6335, 487254]"
      ]
     },
     "execution_count": 33,
     "metadata": {},
     "output_type": "execute_result"
    }
   ],
   "source": [
    "users.head(10)"
   ]
  },
  {
   "cell_type": "code",
   "execution_count": 34,
   "id": "e63323f3",
   "metadata": {
    "id": "U2pcSIBDMIG4"
   },
   "outputs": [],
   "source": [
    "doc_dict = dict(zip(topic_matrix['doc_id'].values, topic_matrix[['topic_{}'.format(i) for i in range(N_topic)]].values))"
   ]
  },
  {
   "cell_type": "code",
   "execution_count": 35,
   "id": "d22c989a",
   "metadata": {
    "colab": {
     "base_uri": "https://localhost:8080/"
    },
    "id": "wG7wI5TfMIG4",
    "outputId": "fdee63d6-e07a-4b0d-e7c4-a425d5afdaa0"
   },
   "outputs": [
    {
     "data": {
      "text/plain": [
       "array([0.        , 0.        , 0.        , 0.        , 0.01790134,\n",
       "       0.1670154 , 0.03445571, 0.02242166, 0.19338818, 0.        ,\n",
       "       0.        , 0.24112912, 0.10986524, 0.03702739, 0.01559599,\n",
       "       0.07029881, 0.08426338, 0.        , 0.        , 0.        ])"
      ]
     },
     "execution_count": 35,
     "metadata": {},
     "output_type": "execute_result"
    }
   ],
   "source": [
    "doc_dict[293622]"
   ]
  },
  {
   "cell_type": "code",
   "execution_count": 36,
   "id": "8cc270f9",
   "metadata": {
    "id": "6ssOp3RkMIG5"
   },
   "outputs": [],
   "source": [
    "user_articles_list = users['articles'].iloc[33]\n",
    "\n",
    "def get_user_embedding(user_articles_list):\n",
    "    user_articles_list = eval(user_articles_list)\n",
    "    user_vector = np.array([doc_dict[doc_id] for doc_id in user_articles_list])\n",
    "    #print(user_vector)\n",
    "    user_vector1 = np.max(user_vector, 0)  # можно не средний\n",
    "    return user_vector1 #,user_vector"
   ]
  },
  {
   "cell_type": "code",
   "execution_count": 37,
   "id": "e8e78db1",
   "metadata": {
    "id": "UKfTfcyKMDLq"
   },
   "outputs": [],
   "source": [
    "user_articles_list = users['articles'].iloc[33]"
   ]
  },
  {
   "cell_type": "code",
   "execution_count": 38,
   "id": "a2800593",
   "metadata": {
    "colab": {
     "base_uri": "https://localhost:8080/"
    },
    "id": "kn0IxR3vMIG5",
    "outputId": "45060d6f-ccb0-406a-c524-d2a844286415"
   },
   "outputs": [
    {
     "data": {
      "text/plain": [
       "array([0.03084925, 0.45598993, 0.07159683, 0.03983313, 0.        ,\n",
       "       0.17974101, 0.        , 0.08641332, 0.36032784, 0.35148355,\n",
       "       0.03181045, 0.35349959, 0.29394904, 0.07824773, 0.        ,\n",
       "       0.09630883, 0.10327084, 0.34162369, 0.01981124, 0.        ])"
      ]
     },
     "execution_count": 38,
     "metadata": {},
     "output_type": "execute_result"
    }
   ],
   "source": [
    "vv = get_user_embedding(user_articles_list)\n",
    "vv"
   ]
  },
  {
   "cell_type": "markdown",
   "id": "9cb4aa93",
   "metadata": {
    "id": "tk9q6qrVMIG7"
   },
   "source": [
    "Теперь получим эмбединги для всех пользователей и проверим их качество на конкретной downstream-задаче"
   ]
  },
  {
   "cell_type": "code",
   "execution_count": 39,
   "id": "945a4e0c",
   "metadata": {
    "colab": {
     "base_uri": "https://localhost:8080/",
     "height": 161
    },
    "id": "2gJ71BPbMIG8",
    "outputId": "8f24d27c-9af2-4c13-e366-bec6954b48eb"
   },
   "outputs": [
    {
     "data": {
      "text/html": [
       "<div>\n",
       "<style scoped>\n",
       "    .dataframe tbody tr th:only-of-type {\n",
       "        vertical-align: middle;\n",
       "    }\n",
       "\n",
       "    .dataframe tbody tr th {\n",
       "        vertical-align: top;\n",
       "    }\n",
       "\n",
       "    .dataframe thead th {\n",
       "        text-align: right;\n",
       "    }\n",
       "</style>\n",
       "<table border=\"1\" class=\"dataframe\">\n",
       "  <thead>\n",
       "    <tr style=\"text-align: right;\">\n",
       "      <th></th>\n",
       "      <th>uid</th>\n",
       "      <th>topic_0</th>\n",
       "      <th>topic_1</th>\n",
       "      <th>topic_2</th>\n",
       "      <th>topic_3</th>\n",
       "      <th>topic_4</th>\n",
       "      <th>topic_5</th>\n",
       "      <th>topic_6</th>\n",
       "      <th>topic_7</th>\n",
       "      <th>topic_8</th>\n",
       "      <th>...</th>\n",
       "      <th>topic_10</th>\n",
       "      <th>topic_11</th>\n",
       "      <th>topic_12</th>\n",
       "      <th>topic_13</th>\n",
       "      <th>topic_14</th>\n",
       "      <th>topic_15</th>\n",
       "      <th>topic_16</th>\n",
       "      <th>topic_17</th>\n",
       "      <th>topic_18</th>\n",
       "      <th>topic_19</th>\n",
       "    </tr>\n",
       "  </thead>\n",
       "  <tbody>\n",
       "    <tr>\n",
       "      <th>0</th>\n",
       "      <td>u105138</td>\n",
       "      <td>0.572729</td>\n",
       "      <td>0.233365</td>\n",
       "      <td>0.024705</td>\n",
       "      <td>0.016667</td>\n",
       "      <td>0.017901</td>\n",
       "      <td>0.167015</td>\n",
       "      <td>0.034456</td>\n",
       "      <td>0.025980</td>\n",
       "      <td>0.310778</td>\n",
       "      <td>...</td>\n",
       "      <td>0.111763</td>\n",
       "      <td>0.518828</td>\n",
       "      <td>0.308071</td>\n",
       "      <td>0.039062</td>\n",
       "      <td>0.015912</td>\n",
       "      <td>0.070299</td>\n",
       "      <td>0.268291</td>\n",
       "      <td>0.120379</td>\n",
       "      <td>0.0</td>\n",
       "      <td>0.000000</td>\n",
       "    </tr>\n",
       "    <tr>\n",
       "      <th>1</th>\n",
       "      <td>u108690</td>\n",
       "      <td>0.247396</td>\n",
       "      <td>0.129632</td>\n",
       "      <td>0.000000</td>\n",
       "      <td>0.063677</td>\n",
       "      <td>0.000000</td>\n",
       "      <td>0.135531</td>\n",
       "      <td>0.050249</td>\n",
       "      <td>0.098944</td>\n",
       "      <td>0.163132</td>\n",
       "      <td>...</td>\n",
       "      <td>0.000000</td>\n",
       "      <td>0.335086</td>\n",
       "      <td>0.376006</td>\n",
       "      <td>0.018402</td>\n",
       "      <td>0.000000</td>\n",
       "      <td>0.084687</td>\n",
       "      <td>0.153379</td>\n",
       "      <td>0.234371</td>\n",
       "      <td>0.0</td>\n",
       "      <td>0.016214</td>\n",
       "    </tr>\n",
       "    <tr>\n",
       "      <th>2</th>\n",
       "      <td>u108339</td>\n",
       "      <td>0.042400</td>\n",
       "      <td>0.253684</td>\n",
       "      <td>0.108750</td>\n",
       "      <td>0.093932</td>\n",
       "      <td>0.014224</td>\n",
       "      <td>0.083991</td>\n",
       "      <td>0.019568</td>\n",
       "      <td>0.032587</td>\n",
       "      <td>0.049708</td>\n",
       "      <td>...</td>\n",
       "      <td>0.027097</td>\n",
       "      <td>0.412103</td>\n",
       "      <td>0.268190</td>\n",
       "      <td>0.050544</td>\n",
       "      <td>0.000000</td>\n",
       "      <td>0.075652</td>\n",
       "      <td>0.151290</td>\n",
       "      <td>0.212787</td>\n",
       "      <td>0.0</td>\n",
       "      <td>0.069881</td>\n",
       "    </tr>\n",
       "  </tbody>\n",
       "</table>\n",
       "<p>3 rows × 21 columns</p>\n",
       "</div>"
      ],
      "text/plain": [
       "       uid   topic_0   topic_1   topic_2   topic_3   topic_4   topic_5  \\\n",
       "0  u105138  0.572729  0.233365  0.024705  0.016667  0.017901  0.167015   \n",
       "1  u108690  0.247396  0.129632  0.000000  0.063677  0.000000  0.135531   \n",
       "2  u108339  0.042400  0.253684  0.108750  0.093932  0.014224  0.083991   \n",
       "\n",
       "    topic_6   topic_7   topic_8  ...  topic_10  topic_11  topic_12  topic_13  \\\n",
       "0  0.034456  0.025980  0.310778  ...  0.111763  0.518828  0.308071  0.039062   \n",
       "1  0.050249  0.098944  0.163132  ...  0.000000  0.335086  0.376006  0.018402   \n",
       "2  0.019568  0.032587  0.049708  ...  0.027097  0.412103  0.268190  0.050544   \n",
       "\n",
       "   topic_14  topic_15  topic_16  topic_17  topic_18  topic_19  \n",
       "0  0.015912  0.070299  0.268291  0.120379       0.0  0.000000  \n",
       "1  0.000000  0.084687  0.153379  0.234371       0.0  0.016214  \n",
       "2  0.000000  0.075652  0.151290  0.212787       0.0  0.069881  \n",
       "\n",
       "[3 rows x 21 columns]"
      ]
     },
     "execution_count": 39,
     "metadata": {},
     "output_type": "execute_result"
    }
   ],
   "source": [
    "user_embeddings = pd.DataFrame([i for i in users['articles'].apply(lambda x: get_user_embedding(x), 1)])\n",
    "user_embeddings.columns = ['topic_{}'.format(i) for i in range(N_topic)]\n",
    "user_embeddings['uid'] = users['uid'].values\n",
    "user_embeddings = user_embeddings[['uid']+['topic_{}'.format(i) for i in range(N_topic)]]\n",
    "user_embeddings.head(3)"
   ]
  },
  {
   "cell_type": "markdown",
   "id": "20ed98f5",
   "metadata": {
    "id": "dZNF_ZXSMIG8"
   },
   "source": [
    "Датасет готов - можно попробовать обучить модель. Загрузим нашу разметку"
   ]
  },
  {
   "cell_type": "code",
   "execution_count": 40,
   "id": "67029c33",
   "metadata": {
    "colab": {
     "base_uri": "https://localhost:8080/",
     "height": 141
    },
    "id": "L2mVHGMPMIG9",
    "outputId": "37549854-3775-4ece-de2e-097611d592b5"
   },
   "outputs": [
    {
     "data": {
      "text/html": [
       "<div>\n",
       "<style scoped>\n",
       "    .dataframe tbody tr th:only-of-type {\n",
       "        vertical-align: middle;\n",
       "    }\n",
       "\n",
       "    .dataframe tbody tr th {\n",
       "        vertical-align: top;\n",
       "    }\n",
       "\n",
       "    .dataframe thead th {\n",
       "        text-align: right;\n",
       "    }\n",
       "</style>\n",
       "<table border=\"1\" class=\"dataframe\">\n",
       "  <thead>\n",
       "    <tr style=\"text-align: right;\">\n",
       "      <th></th>\n",
       "      <th>uid</th>\n",
       "      <th>churn</th>\n",
       "    </tr>\n",
       "  </thead>\n",
       "  <tbody>\n",
       "    <tr>\n",
       "      <th>0</th>\n",
       "      <td>u107120</td>\n",
       "      <td>0</td>\n",
       "    </tr>\n",
       "    <tr>\n",
       "      <th>1</th>\n",
       "      <td>u102277</td>\n",
       "      <td>0</td>\n",
       "    </tr>\n",
       "    <tr>\n",
       "      <th>2</th>\n",
       "      <td>u102444</td>\n",
       "      <td>0</td>\n",
       "    </tr>\n",
       "  </tbody>\n",
       "</table>\n",
       "</div>"
      ],
      "text/plain": [
       "       uid  churn\n",
       "0  u107120      0\n",
       "1  u102277      0\n",
       "2  u102444      0"
      ]
     },
     "execution_count": 40,
     "metadata": {},
     "output_type": "execute_result"
    }
   ],
   "source": [
    "target = pd.read_csv(path+\"users_churn.csv\")\n",
    "target.head(3)"
   ]
  },
  {
   "cell_type": "code",
   "execution_count": 41,
   "id": "01d42f92",
   "metadata": {
    "colab": {
     "base_uri": "https://localhost:8080/",
     "height": 161
    },
    "id": "qXzy3pA2MIG9",
    "outputId": "4154bfe8-14af-4263-af08-cff71c22747a",
    "scrolled": true
   },
   "outputs": [
    {
     "data": {
      "text/html": [
       "<div>\n",
       "<style scoped>\n",
       "    .dataframe tbody tr th:only-of-type {\n",
       "        vertical-align: middle;\n",
       "    }\n",
       "\n",
       "    .dataframe tbody tr th {\n",
       "        vertical-align: top;\n",
       "    }\n",
       "\n",
       "    .dataframe thead th {\n",
       "        text-align: right;\n",
       "    }\n",
       "</style>\n",
       "<table border=\"1\" class=\"dataframe\">\n",
       "  <thead>\n",
       "    <tr style=\"text-align: right;\">\n",
       "      <th></th>\n",
       "      <th>uid</th>\n",
       "      <th>topic_0</th>\n",
       "      <th>topic_1</th>\n",
       "      <th>topic_2</th>\n",
       "      <th>topic_3</th>\n",
       "      <th>topic_4</th>\n",
       "      <th>topic_5</th>\n",
       "      <th>topic_6</th>\n",
       "      <th>topic_7</th>\n",
       "      <th>topic_8</th>\n",
       "      <th>...</th>\n",
       "      <th>topic_11</th>\n",
       "      <th>topic_12</th>\n",
       "      <th>topic_13</th>\n",
       "      <th>topic_14</th>\n",
       "      <th>topic_15</th>\n",
       "      <th>topic_16</th>\n",
       "      <th>topic_17</th>\n",
       "      <th>topic_18</th>\n",
       "      <th>topic_19</th>\n",
       "      <th>churn</th>\n",
       "    </tr>\n",
       "  </thead>\n",
       "  <tbody>\n",
       "    <tr>\n",
       "      <th>0</th>\n",
       "      <td>u105138</td>\n",
       "      <td>0.572729</td>\n",
       "      <td>0.233365</td>\n",
       "      <td>0.024705</td>\n",
       "      <td>0.016667</td>\n",
       "      <td>0.017901</td>\n",
       "      <td>0.167015</td>\n",
       "      <td>0.034456</td>\n",
       "      <td>0.025980</td>\n",
       "      <td>0.310778</td>\n",
       "      <td>...</td>\n",
       "      <td>0.518828</td>\n",
       "      <td>0.308071</td>\n",
       "      <td>0.039062</td>\n",
       "      <td>0.015912</td>\n",
       "      <td>0.070299</td>\n",
       "      <td>0.268291</td>\n",
       "      <td>0.120379</td>\n",
       "      <td>0.0</td>\n",
       "      <td>0.000000</td>\n",
       "      <td>0</td>\n",
       "    </tr>\n",
       "    <tr>\n",
       "      <th>1</th>\n",
       "      <td>u108690</td>\n",
       "      <td>0.247396</td>\n",
       "      <td>0.129632</td>\n",
       "      <td>0.000000</td>\n",
       "      <td>0.063677</td>\n",
       "      <td>0.000000</td>\n",
       "      <td>0.135531</td>\n",
       "      <td>0.050249</td>\n",
       "      <td>0.098944</td>\n",
       "      <td>0.163132</td>\n",
       "      <td>...</td>\n",
       "      <td>0.335086</td>\n",
       "      <td>0.376006</td>\n",
       "      <td>0.018402</td>\n",
       "      <td>0.000000</td>\n",
       "      <td>0.084687</td>\n",
       "      <td>0.153379</td>\n",
       "      <td>0.234371</td>\n",
       "      <td>0.0</td>\n",
       "      <td>0.016214</td>\n",
       "      <td>1</td>\n",
       "    </tr>\n",
       "    <tr>\n",
       "      <th>2</th>\n",
       "      <td>u108339</td>\n",
       "      <td>0.042400</td>\n",
       "      <td>0.253684</td>\n",
       "      <td>0.108750</td>\n",
       "      <td>0.093932</td>\n",
       "      <td>0.014224</td>\n",
       "      <td>0.083991</td>\n",
       "      <td>0.019568</td>\n",
       "      <td>0.032587</td>\n",
       "      <td>0.049708</td>\n",
       "      <td>...</td>\n",
       "      <td>0.412103</td>\n",
       "      <td>0.268190</td>\n",
       "      <td>0.050544</td>\n",
       "      <td>0.000000</td>\n",
       "      <td>0.075652</td>\n",
       "      <td>0.151290</td>\n",
       "      <td>0.212787</td>\n",
       "      <td>0.0</td>\n",
       "      <td>0.069881</td>\n",
       "      <td>1</td>\n",
       "    </tr>\n",
       "  </tbody>\n",
       "</table>\n",
       "<p>3 rows × 22 columns</p>\n",
       "</div>"
      ],
      "text/plain": [
       "       uid   topic_0   topic_1   topic_2   topic_3   topic_4   topic_5  \\\n",
       "0  u105138  0.572729  0.233365  0.024705  0.016667  0.017901  0.167015   \n",
       "1  u108690  0.247396  0.129632  0.000000  0.063677  0.000000  0.135531   \n",
       "2  u108339  0.042400  0.253684  0.108750  0.093932  0.014224  0.083991   \n",
       "\n",
       "    topic_6   topic_7   topic_8  ...  topic_11  topic_12  topic_13  topic_14  \\\n",
       "0  0.034456  0.025980  0.310778  ...  0.518828  0.308071  0.039062  0.015912   \n",
       "1  0.050249  0.098944  0.163132  ...  0.335086  0.376006  0.018402  0.000000   \n",
       "2  0.019568  0.032587  0.049708  ...  0.412103  0.268190  0.050544  0.000000   \n",
       "\n",
       "   topic_15  topic_16  topic_17  topic_18  topic_19  churn  \n",
       "0  0.070299  0.268291  0.120379       0.0  0.000000      0  \n",
       "1  0.084687  0.153379  0.234371       0.0  0.016214      1  \n",
       "2  0.075652  0.151290  0.212787       0.0  0.069881      1  \n",
       "\n",
       "[3 rows x 22 columns]"
      ]
     },
     "execution_count": 41,
     "metadata": {},
     "output_type": "execute_result"
    }
   ],
   "source": [
    "X = pd.merge(user_embeddings, target, 'left')\n",
    "X.head(3)"
   ]
  },
  {
   "cell_type": "code",
   "execution_count": 42,
   "id": "fd49b331",
   "metadata": {
    "id": "Un-dl_vDMIHM"
   },
   "outputs": [],
   "source": [
    "from sklearn.linear_model import LogisticRegression\n",
    "from sklearn.model_selection import train_test_split\n",
    "#import itertools\n",
    "\n",
    "import matplotlib.pyplot as plt\n",
    "\n",
    "%matplotlib inline"
   ]
  },
  {
   "cell_type": "code",
   "execution_count": 43,
   "id": "fffa7b19",
   "metadata": {
    "id": "rzq-WEIJMIHO"
   },
   "outputs": [],
   "source": [
    "#разделим данные на train/test\n",
    "X_train, X_test, y_train, y_test = train_test_split(X[['topic_{}'.format(i) for i in range(N_topic)]], \n",
    "                                                    X['churn'], random_state=0, test_size=0.25)"
   ]
  },
  {
   "cell_type": "code",
   "execution_count": 44,
   "id": "9886ba2e",
   "metadata": {
    "colab": {
     "base_uri": "https://localhost:8080/"
    },
    "id": "EBQsn00QMIHO",
    "outputId": "e0a19c74-7e39-41c3-aa44-c8dfe2c013aa"
   },
   "outputs": [
    {
     "data": {
      "text/plain": [
       "LogisticRegression()"
      ]
     },
     "execution_count": 44,
     "metadata": {},
     "output_type": "execute_result"
    }
   ],
   "source": [
    "logreg = LogisticRegression(C=1.0)\n",
    "#обучим наш пайплайн\n",
    "logreg.fit(X_train, y_train)"
   ]
  },
  {
   "cell_type": "code",
   "execution_count": 45,
   "id": "97757318",
   "metadata": {
    "colab": {
     "base_uri": "https://localhost:8080/"
    },
    "id": "GqftFfoOMIHP",
    "outputId": "430b1955-dfa0-4906-c418-35afab116e5d"
   },
   "outputs": [
    {
     "data": {
      "text/plain": [
       "array([0.2253908 , 0.01888645, 0.56580606, 0.00776285, 0.07118766,\n",
       "       0.13638866, 0.02241726, 0.43155533, 0.00752796, 0.04623406])"
      ]
     },
     "execution_count": 45,
     "metadata": {},
     "output_type": "execute_result"
    }
   ],
   "source": [
    "#наши прогнозы для тестовой выборки\n",
    "preds = logreg.predict_proba(X_test)[:, 1]\n",
    "preds[:10]"
   ]
  },
  {
   "cell_type": "code",
   "execution_count": 46,
   "id": "8017c725",
   "metadata": {
    "id": "nQKM7kKtMIHU"
   },
   "outputs": [],
   "source": [
    "from sklearn.metrics import f1_score, roc_auc_score, precision_score, classification_report, precision_recall_curve, confusion_matrix"
   ]
  },
  {
   "cell_type": "code",
   "execution_count": 47,
   "id": "5eeb4dcb",
   "metadata": {
    "id": "J04r8edvMIHV"
   },
   "outputs": [],
   "source": [
    "\n",
    "precision, recall, thresholds = precision_recall_curve(y_test.values, preds)\n"
   ]
  },
  {
   "cell_type": "code",
   "execution_count": 48,
   "id": "03dfa360",
   "metadata": {
    "colab": {
     "base_uri": "https://localhost:8080/"
    },
    "id": "a_M4X_aj_1Q-",
    "outputId": "6f3dfc31-d558-4edb-a946-da8fa65abc76"
   },
   "outputs": [
    {
     "name": "stdout",
     "output_type": "stream",
     "text": [
      "Best Threshold=0.311299, F-Score=0.758, Precision=0.721, Recall=0.800\n"
     ]
    }
   ],
   "source": [
    "n=-1\n",
    "fscore = (2 * precision[:n] * recall[:n]) / (precision[:n] + recall[:n])\n",
    "\n",
    "# locate the index of the largest f score\n",
    "ix = np.argmax(fscore)\n",
    "print('Best Threshold=%f, F-Score=%.3f, Precision=%.3f, Recall=%.3f' % (thresholds[ix], \n",
    "                                                                        fscore[ix],\n",
    "                                                                        precision[ix],\n",
    "                                                                        recall[ix]))"
   ]
  },
  {
   "cell_type": "code",
   "execution_count": 49,
   "id": "4ba3a793",
   "metadata": {},
   "outputs": [
    {
     "data": {
      "text/plain": [
       "0.9657794057794057"
      ]
     },
     "execution_count": 49,
     "metadata": {},
     "output_type": "execute_result"
    }
   ],
   "source": [
    "roc_auc= roc_auc_score(y_test, preds)\n",
    "roc_auc"
   ]
  },
  {
   "cell_type": "code",
   "execution_count": 50,
   "id": "71639fc0",
   "metadata": {},
   "outputs": [
    {
     "data": {
      "text/plain": [
       "['max', '0.311', '0.758', '0.721', '0.800', 0.9657794057794057]"
      ]
     },
     "execution_count": 50,
     "metadata": {},
     "output_type": "execute_result"
    }
   ],
   "source": [
    "metrics_list=[]\n",
    "embedding_max = ['max', format(thresholds[ix], \".3f\"), format(fscore[ix], \".3f\"), format(precision[ix],\".3f\"), format(recall[ix], \".3f\"), roc_auc]\n",
    "embedding_max"
   ]
  },
  {
   "cell_type": "code",
   "execution_count": 51,
   "id": "62639ab9",
   "metadata": {
    "scrolled": true
   },
   "outputs": [
    {
     "data": {
      "image/png": "[encoded data removed]",
      "text/plain": [
       "<Figure size 432x288 with 1 Axes>"
      ]
     },
     "metadata": {
      "needs_background": "light"
     },
     "output_type": "display_data"
    }
   ],
   "source": [
    "plt.plot( preds[:100], label = 'predict')\n",
    "plt.plot(y_test.values[:100], label = 'true')\n",
    "plt.title('ответ модели при использовании \\n max значения в get_user_embedding')\n",
    "plt.xlabel(' № примера')\n",
    "plt.ylabel(' выход')\n",
    "plt.legend()\n",
    "plt.grid('On')\n",
    "plt.show()"
   ]
  },
  {
   "cell_type": "markdown",
   "id": "d9766d7f",
   "metadata": {},
   "source": [
    "## использование медианы в embedding"
   ]
  },
  {
   "cell_type": "code",
   "execution_count": 52,
   "id": "0c05c6d1",
   "metadata": {},
   "outputs": [],
   "source": [
    "def get_user_embedding(user_articles_list):\n",
    "    user_articles_list = eval(user_articles_list)\n",
    "    user_vector = np.array([doc_dict[doc_id] for doc_id in user_articles_list])\n",
    "    #print(user_vector)\n",
    "    user_vector1 = np.median(user_vector, 0)  # можно не средний\n",
    "    return user_vector1 #,user_vector"
   ]
  },
  {
   "cell_type": "markdown",
   "id": "f3ef2b7b",
   "metadata": {
    "id": "tk9q6qrVMIG7"
   },
   "source": [
    "Теперь получим эмбединги для всех пользователей и проверим их качество на конкретной downstream-задаче"
   ]
  },
  {
   "cell_type": "code",
   "execution_count": 53,
   "id": "8ee34c1d",
   "metadata": {
    "colab": {
     "base_uri": "https://localhost:8080/",
     "height": 161
    },
    "id": "2gJ71BPbMIG8",
    "outputId": "8f24d27c-9af2-4c13-e366-bec6954b48eb"
   },
   "outputs": [
    {
     "data": {
      "text/html": [
       "<div>\n",
       "<style scoped>\n",
       "    .dataframe tbody tr th:only-of-type {\n",
       "        vertical-align: middle;\n",
       "    }\n",
       "\n",
       "    .dataframe tbody tr th {\n",
       "        vertical-align: top;\n",
       "    }\n",
       "\n",
       "    .dataframe thead th {\n",
       "        text-align: right;\n",
       "    }\n",
       "</style>\n",
       "<table border=\"1\" class=\"dataframe\">\n",
       "  <thead>\n",
       "    <tr style=\"text-align: right;\">\n",
       "      <th></th>\n",
       "      <th>uid</th>\n",
       "      <th>topic_0</th>\n",
       "      <th>topic_1</th>\n",
       "      <th>topic_2</th>\n",
       "      <th>topic_3</th>\n",
       "      <th>topic_4</th>\n",
       "      <th>topic_5</th>\n",
       "      <th>topic_6</th>\n",
       "      <th>topic_7</th>\n",
       "      <th>topic_8</th>\n",
       "      <th>...</th>\n",
       "      <th>topic_10</th>\n",
       "      <th>topic_11</th>\n",
       "      <th>topic_12</th>\n",
       "      <th>topic_13</th>\n",
       "      <th>topic_14</th>\n",
       "      <th>topic_15</th>\n",
       "      <th>topic_16</th>\n",
       "      <th>topic_17</th>\n",
       "      <th>topic_18</th>\n",
       "      <th>topic_19</th>\n",
       "    </tr>\n",
       "  </thead>\n",
       "  <tbody>\n",
       "    <tr>\n",
       "      <th>0</th>\n",
       "      <td>u105138</td>\n",
       "      <td>0.000000</td>\n",
       "      <td>0.000000</td>\n",
       "      <td>0.0</td>\n",
       "      <td>0.000000</td>\n",
       "      <td>0.0</td>\n",
       "      <td>0.000000</td>\n",
       "      <td>0.0</td>\n",
       "      <td>0.0</td>\n",
       "      <td>0.114817</td>\n",
       "      <td>...</td>\n",
       "      <td>0.0</td>\n",
       "      <td>0.205629</td>\n",
       "      <td>0.164228</td>\n",
       "      <td>0.000000</td>\n",
       "      <td>0.0</td>\n",
       "      <td>0.0</td>\n",
       "      <td>0.081676</td>\n",
       "      <td>0.000000</td>\n",
       "      <td>0.0</td>\n",
       "      <td>0.000000</td>\n",
       "    </tr>\n",
       "    <tr>\n",
       "      <th>1</th>\n",
       "      <td>u108690</td>\n",
       "      <td>0.048728</td>\n",
       "      <td>0.047229</td>\n",
       "      <td>0.0</td>\n",
       "      <td>0.000000</td>\n",
       "      <td>0.0</td>\n",
       "      <td>0.005802</td>\n",
       "      <td>0.0</td>\n",
       "      <td>0.0</td>\n",
       "      <td>0.040909</td>\n",
       "      <td>...</td>\n",
       "      <td>0.0</td>\n",
       "      <td>0.197783</td>\n",
       "      <td>0.251727</td>\n",
       "      <td>0.000000</td>\n",
       "      <td>0.0</td>\n",
       "      <td>0.0</td>\n",
       "      <td>0.048615</td>\n",
       "      <td>0.131450</td>\n",
       "      <td>0.0</td>\n",
       "      <td>0.000000</td>\n",
       "    </tr>\n",
       "    <tr>\n",
       "      <th>2</th>\n",
       "      <td>u108339</td>\n",
       "      <td>0.000000</td>\n",
       "      <td>0.178083</td>\n",
       "      <td>0.0</td>\n",
       "      <td>0.010523</td>\n",
       "      <td>0.0</td>\n",
       "      <td>0.000000</td>\n",
       "      <td>0.0</td>\n",
       "      <td>0.0</td>\n",
       "      <td>0.018099</td>\n",
       "      <td>...</td>\n",
       "      <td>0.0</td>\n",
       "      <td>0.245449</td>\n",
       "      <td>0.128232</td>\n",
       "      <td>0.005543</td>\n",
       "      <td>0.0</td>\n",
       "      <td>0.0</td>\n",
       "      <td>0.030373</td>\n",
       "      <td>0.096394</td>\n",
       "      <td>0.0</td>\n",
       "      <td>0.005023</td>\n",
       "    </tr>\n",
       "  </tbody>\n",
       "</table>\n",
       "<p>3 rows × 21 columns</p>\n",
       "</div>"
      ],
      "text/plain": [
       "       uid   topic_0   topic_1  topic_2   topic_3  topic_4   topic_5  topic_6  \\\n",
       "0  u105138  0.000000  0.000000      0.0  0.000000      0.0  0.000000      0.0   \n",
       "1  u108690  0.048728  0.047229      0.0  0.000000      0.0  0.005802      0.0   \n",
       "2  u108339  0.000000  0.178083      0.0  0.010523      0.0  0.000000      0.0   \n",
       "\n",
       "   topic_7   topic_8  ...  topic_10  topic_11  topic_12  topic_13  topic_14  \\\n",
       "0      0.0  0.114817  ...       0.0  0.205629  0.164228  0.000000       0.0   \n",
       "1      0.0  0.040909  ...       0.0  0.197783  0.251727  0.000000       0.0   \n",
       "2      0.0  0.018099  ...       0.0  0.245449  0.128232  0.005543       0.0   \n",
       "\n",
       "   topic_15  topic_16  topic_17  topic_18  topic_19  \n",
       "0       0.0  0.081676  0.000000       0.0  0.000000  \n",
       "1       0.0  0.048615  0.131450       0.0  0.000000  \n",
       "2       0.0  0.030373  0.096394       0.0  0.005023  \n",
       "\n",
       "[3 rows x 21 columns]"
      ]
     },
     "execution_count": 53,
     "metadata": {},
     "output_type": "execute_result"
    }
   ],
   "source": [
    "user_embeddings = pd.DataFrame([i for i in users['articles'].apply(lambda x: get_user_embedding(x), 1)])\n",
    "user_embeddings.columns = ['topic_{}'.format(i) for i in range(N_topic)]\n",
    "user_embeddings['uid'] = users['uid'].values\n",
    "user_embeddings = user_embeddings[['uid']+['topic_{}'.format(i) for i in range(N_topic)]]\n",
    "user_embeddings.head(3)"
   ]
  },
  {
   "cell_type": "markdown",
   "id": "b76d0bd4",
   "metadata": {
    "id": "dZNF_ZXSMIG8"
   },
   "source": [
    "Датасет готов - можно попробовать обучить модель. Загрузим нашу разметку"
   ]
  },
  {
   "cell_type": "code",
   "execution_count": 54,
   "id": "b0611593",
   "metadata": {
    "colab": {
     "base_uri": "https://localhost:8080/",
     "height": 141
    },
    "id": "L2mVHGMPMIG9",
    "outputId": "37549854-3775-4ece-de2e-097611d592b5"
   },
   "outputs": [
    {
     "data": {
      "text/html": [
       "<div>\n",
       "<style scoped>\n",
       "    .dataframe tbody tr th:only-of-type {\n",
       "        vertical-align: middle;\n",
       "    }\n",
       "\n",
       "    .dataframe tbody tr th {\n",
       "        vertical-align: top;\n",
       "    }\n",
       "\n",
       "    .dataframe thead th {\n",
       "        text-align: right;\n",
       "    }\n",
       "</style>\n",
       "<table border=\"1\" class=\"dataframe\">\n",
       "  <thead>\n",
       "    <tr style=\"text-align: right;\">\n",
       "      <th></th>\n",
       "      <th>uid</th>\n",
       "      <th>churn</th>\n",
       "    </tr>\n",
       "  </thead>\n",
       "  <tbody>\n",
       "    <tr>\n",
       "      <th>0</th>\n",
       "      <td>u107120</td>\n",
       "      <td>0</td>\n",
       "    </tr>\n",
       "    <tr>\n",
       "      <th>1</th>\n",
       "      <td>u102277</td>\n",
       "      <td>0</td>\n",
       "    </tr>\n",
       "    <tr>\n",
       "      <th>2</th>\n",
       "      <td>u102444</td>\n",
       "      <td>0</td>\n",
       "    </tr>\n",
       "  </tbody>\n",
       "</table>\n",
       "</div>"
      ],
      "text/plain": [
       "       uid  churn\n",
       "0  u107120      0\n",
       "1  u102277      0\n",
       "2  u102444      0"
      ]
     },
     "execution_count": 54,
     "metadata": {},
     "output_type": "execute_result"
    }
   ],
   "source": [
    "target = pd.read_csv(path+\"users_churn.csv\")\n",
    "target.head(3)"
   ]
  },
  {
   "cell_type": "code",
   "execution_count": 55,
   "id": "6f735232",
   "metadata": {
    "colab": {
     "base_uri": "https://localhost:8080/",
     "height": 161
    },
    "id": "qXzy3pA2MIG9",
    "outputId": "4154bfe8-14af-4263-af08-cff71c22747a",
    "scrolled": true
   },
   "outputs": [
    {
     "data": {
      "text/html": [
       "<div>\n",
       "<style scoped>\n",
       "    .dataframe tbody tr th:only-of-type {\n",
       "        vertical-align: middle;\n",
       "    }\n",
       "\n",
       "    .dataframe tbody tr th {\n",
       "        vertical-align: top;\n",
       "    }\n",
       "\n",
       "    .dataframe thead th {\n",
       "        text-align: right;\n",
       "    }\n",
       "</style>\n",
       "<table border=\"1\" class=\"dataframe\">\n",
       "  <thead>\n",
       "    <tr style=\"text-align: right;\">\n",
       "      <th></th>\n",
       "      <th>uid</th>\n",
       "      <th>topic_0</th>\n",
       "      <th>topic_1</th>\n",
       "      <th>topic_2</th>\n",
       "      <th>topic_3</th>\n",
       "      <th>topic_4</th>\n",
       "      <th>topic_5</th>\n",
       "      <th>topic_6</th>\n",
       "      <th>topic_7</th>\n",
       "      <th>topic_8</th>\n",
       "      <th>...</th>\n",
       "      <th>topic_11</th>\n",
       "      <th>topic_12</th>\n",
       "      <th>topic_13</th>\n",
       "      <th>topic_14</th>\n",
       "      <th>topic_15</th>\n",
       "      <th>topic_16</th>\n",
       "      <th>topic_17</th>\n",
       "      <th>topic_18</th>\n",
       "      <th>topic_19</th>\n",
       "      <th>churn</th>\n",
       "    </tr>\n",
       "  </thead>\n",
       "  <tbody>\n",
       "    <tr>\n",
       "      <th>0</th>\n",
       "      <td>u105138</td>\n",
       "      <td>0.000000</td>\n",
       "      <td>0.000000</td>\n",
       "      <td>0.0</td>\n",
       "      <td>0.000000</td>\n",
       "      <td>0.0</td>\n",
       "      <td>0.000000</td>\n",
       "      <td>0.0</td>\n",
       "      <td>0.0</td>\n",
       "      <td>0.114817</td>\n",
       "      <td>...</td>\n",
       "      <td>0.205629</td>\n",
       "      <td>0.164228</td>\n",
       "      <td>0.000000</td>\n",
       "      <td>0.0</td>\n",
       "      <td>0.0</td>\n",
       "      <td>0.081676</td>\n",
       "      <td>0.000000</td>\n",
       "      <td>0.0</td>\n",
       "      <td>0.000000</td>\n",
       "      <td>0</td>\n",
       "    </tr>\n",
       "    <tr>\n",
       "      <th>1</th>\n",
       "      <td>u108690</td>\n",
       "      <td>0.048728</td>\n",
       "      <td>0.047229</td>\n",
       "      <td>0.0</td>\n",
       "      <td>0.000000</td>\n",
       "      <td>0.0</td>\n",
       "      <td>0.005802</td>\n",
       "      <td>0.0</td>\n",
       "      <td>0.0</td>\n",
       "      <td>0.040909</td>\n",
       "      <td>...</td>\n",
       "      <td>0.197783</td>\n",
       "      <td>0.251727</td>\n",
       "      <td>0.000000</td>\n",
       "      <td>0.0</td>\n",
       "      <td>0.0</td>\n",
       "      <td>0.048615</td>\n",
       "      <td>0.131450</td>\n",
       "      <td>0.0</td>\n",
       "      <td>0.000000</td>\n",
       "      <td>1</td>\n",
       "    </tr>\n",
       "    <tr>\n",
       "      <th>2</th>\n",
       "      <td>u108339</td>\n",
       "      <td>0.000000</td>\n",
       "      <td>0.178083</td>\n",
       "      <td>0.0</td>\n",
       "      <td>0.010523</td>\n",
       "      <td>0.0</td>\n",
       "      <td>0.000000</td>\n",
       "      <td>0.0</td>\n",
       "      <td>0.0</td>\n",
       "      <td>0.018099</td>\n",
       "      <td>...</td>\n",
       "      <td>0.245449</td>\n",
       "      <td>0.128232</td>\n",
       "      <td>0.005543</td>\n",
       "      <td>0.0</td>\n",
       "      <td>0.0</td>\n",
       "      <td>0.030373</td>\n",
       "      <td>0.096394</td>\n",
       "      <td>0.0</td>\n",
       "      <td>0.005023</td>\n",
       "      <td>1</td>\n",
       "    </tr>\n",
       "  </tbody>\n",
       "</table>\n",
       "<p>3 rows × 22 columns</p>\n",
       "</div>"
      ],
      "text/plain": [
       "       uid   topic_0   topic_1  topic_2   topic_3  topic_4   topic_5  topic_6  \\\n",
       "0  u105138  0.000000  0.000000      0.0  0.000000      0.0  0.000000      0.0   \n",
       "1  u108690  0.048728  0.047229      0.0  0.000000      0.0  0.005802      0.0   \n",
       "2  u108339  0.000000  0.178083      0.0  0.010523      0.0  0.000000      0.0   \n",
       "\n",
       "   topic_7   topic_8  ...  topic_11  topic_12  topic_13  topic_14  topic_15  \\\n",
       "0      0.0  0.114817  ...  0.205629  0.164228  0.000000       0.0       0.0   \n",
       "1      0.0  0.040909  ...  0.197783  0.251727  0.000000       0.0       0.0   \n",
       "2      0.0  0.018099  ...  0.245449  0.128232  0.005543       0.0       0.0   \n",
       "\n",
       "   topic_16  topic_17  topic_18  topic_19  churn  \n",
       "0  0.081676  0.000000       0.0  0.000000      0  \n",
       "1  0.048615  0.131450       0.0  0.000000      1  \n",
       "2  0.030373  0.096394       0.0  0.005023      1  \n",
       "\n",
       "[3 rows x 22 columns]"
      ]
     },
     "execution_count": 55,
     "metadata": {},
     "output_type": "execute_result"
    }
   ],
   "source": [
    "X = pd.merge(user_embeddings, target, 'left')\n",
    "X.head(3)"
   ]
  },
  {
   "cell_type": "code",
   "execution_count": 56,
   "id": "3dce4234",
   "metadata": {
    "id": "Un-dl_vDMIHM"
   },
   "outputs": [],
   "source": [
    "from sklearn.linear_model import LogisticRegression\n",
    "from sklearn.model_selection import train_test_split\n",
    "#import itertools\n",
    "\n",
    "import matplotlib.pyplot as plt\n",
    "\n",
    "%matplotlib inline"
   ]
  },
  {
   "cell_type": "code",
   "execution_count": 57,
   "id": "11658182",
   "metadata": {
    "id": "rzq-WEIJMIHO"
   },
   "outputs": [],
   "source": [
    "#разделим данные на train/test\n",
    "X_train, X_test, y_train, y_test = train_test_split(X[['topic_{}'.format(i) for i in range(N_topic)]], \n",
    "                                                    X['churn'], random_state=0, test_size=0.25)"
   ]
  },
  {
   "cell_type": "code",
   "execution_count": 58,
   "id": "0507b827",
   "metadata": {
    "colab": {
     "base_uri": "https://localhost:8080/"
    },
    "id": "EBQsn00QMIHO",
    "outputId": "e0a19c74-7e39-41c3-aa44-c8dfe2c013aa"
   },
   "outputs": [
    {
     "data": {
      "text/plain": [
       "LogisticRegression()"
      ]
     },
     "execution_count": 58,
     "metadata": {},
     "output_type": "execute_result"
    }
   ],
   "source": [
    "logreg = LogisticRegression(C=1.0)\n",
    "#обучим наш пайплайн\n",
    "logreg.fit(X_train, y_train)"
   ]
  },
  {
   "cell_type": "code",
   "execution_count": 59,
   "id": "2baf56c3",
   "metadata": {
    "colab": {
     "base_uri": "https://localhost:8080/"
    },
    "id": "GqftFfoOMIHP",
    "outputId": "430b1955-dfa0-4906-c418-35afab116e5d"
   },
   "outputs": [
    {
     "data": {
      "text/plain": [
       "array([0.30110343, 0.1091184 , 0.59567467, 0.40741139, 0.00832416,\n",
       "       0.03241971, 0.04897828, 0.17141834, 0.04805823, 0.09780677])"
      ]
     },
     "execution_count": 59,
     "metadata": {},
     "output_type": "execute_result"
    }
   ],
   "source": [
    "#наши прогнозы для тестовой выборки\n",
    "preds = logreg.predict_proba(X_test)[:, 1]\n",
    "preds[:10]"
   ]
  },
  {
   "cell_type": "code",
   "execution_count": 60,
   "id": "b74976ab",
   "metadata": {
    "id": "nQKM7kKtMIHU"
   },
   "outputs": [],
   "source": [
    "from sklearn.metrics import f1_score, roc_auc_score, precision_score, classification_report, precision_recall_curve, confusion_matrix"
   ]
  },
  {
   "cell_type": "code",
   "execution_count": 61,
   "id": "d84cd4c8",
   "metadata": {
    "id": "J04r8edvMIHV"
   },
   "outputs": [],
   "source": [
    "\n",
    "precision, recall, thresholds = precision_recall_curve(y_test.values, preds)\n"
   ]
  },
  {
   "cell_type": "code",
   "execution_count": 62,
   "id": "d02efb07",
   "metadata": {
    "colab": {
     "base_uri": "https://localhost:8080/"
    },
    "id": "a_M4X_aj_1Q-",
    "outputId": "6f3dfc31-d558-4edb-a946-da8fa65abc76"
   },
   "outputs": [
    {
     "name": "stdout",
     "output_type": "stream",
     "text": [
      "Best Threshold=0.276106, F-Score=0.684, Precision=0.625, Recall=0.755\n"
     ]
    }
   ],
   "source": [
    "n=-1\n",
    "fscore = (2 * precision[:n] * recall[:n]) / (precision[:n] + recall[:n])\n",
    "\n",
    "# locate the index of the largest f score\n",
    "ix = np.argmax(fscore)\n",
    "print('Best Threshold=%f, F-Score=%.3f, Precision=%.3f, Recall=%.3f' % (thresholds[ix], \n",
    "                                                                        fscore[ix],\n",
    "                                                                        precision[ix],\n",
    "                                                                        recall[ix]))"
   ]
  },
  {
   "cell_type": "code",
   "execution_count": 63,
   "id": "01bbbbcb",
   "metadata": {},
   "outputs": [
    {
     "data": {
      "text/plain": [
       "0.954192685621257"
      ]
     },
     "execution_count": 63,
     "metadata": {},
     "output_type": "execute_result"
    }
   ],
   "source": [
    "roc_auc = roc_auc_score(y_test, preds)\n",
    "roc_auc"
   ]
  },
  {
   "cell_type": "code",
   "execution_count": 64,
   "id": "0ed4ab52",
   "metadata": {},
   "outputs": [
    {
     "data": {
      "text/plain": [
       "['mediana', '0.276', '0.684', '0.625', '0.755', 0.954192685621257]"
      ]
     },
     "execution_count": 64,
     "metadata": {},
     "output_type": "execute_result"
    }
   ],
   "source": [
    "embedding_median = ['mediana', format(thresholds[ix], \".3f\"), format(fscore[ix], \".3f\"), format(precision[ix],\".3f\"), format(recall[ix], \".3f\"), roc_auc]\n",
    "embedding_median"
   ]
  },
  {
   "cell_type": "code",
   "execution_count": 65,
   "id": "6ba1491d",
   "metadata": {
    "scrolled": true
   },
   "outputs": [
    {
     "data": {
      "image/png": "[encoded data removed]",
      "text/plain": [
       "<Figure size 432x288 with 1 Axes>"
      ]
     },
     "metadata": {
      "needs_background": "light"
     },
     "output_type": "display_data"
    }
   ],
   "source": [
    "plt.plot( preds[:100], label = 'predict')\n",
    "plt.plot(y_test.values[:100], label = 'true')\n",
    "plt.title('ответ модели при использовании \\n median значения в get_user_embedding')\n",
    "plt.xlabel(' № примера')\n",
    "plt.ylabel(' выход')\n",
    "plt.legend()\n",
    "plt.grid('On')\n",
    "plt.show()"
   ]
  },
  {
   "cell_type": "markdown",
   "id": "9fce341e",
   "metadata": {},
   "source": [
    "## Использование mean в get_user_embedding"
   ]
  },
  {
   "cell_type": "code",
   "execution_count": 66,
   "id": "6d64af2d",
   "metadata": {},
   "outputs": [],
   "source": [
    "def get_user_embedding(user_articles_list):\n",
    "    user_articles_list = eval(user_articles_list)\n",
    "    user_vector = np.array([doc_dict[doc_id] for doc_id in user_articles_list])\n",
    "    #print(user_vector)\n",
    "    user_vector1 = np.mean(user_vector, 0)  # можно не средний\n",
    "    return user_vector1 #,user_vector"
   ]
  },
  {
   "cell_type": "code",
   "execution_count": 67,
   "id": "a7badde9",
   "metadata": {
    "colab": {
     "base_uri": "https://localhost:8080/",
     "height": 161
    },
    "id": "2gJ71BPbMIG8",
    "outputId": "8f24d27c-9af2-4c13-e366-bec6954b48eb"
   },
   "outputs": [
    {
     "data": {
      "text/html": [
       "<div>\n",
       "<style scoped>\n",
       "    .dataframe tbody tr th:only-of-type {\n",
       "        vertical-align: middle;\n",
       "    }\n",
       "\n",
       "    .dataframe tbody tr th {\n",
       "        vertical-align: top;\n",
       "    }\n",
       "\n",
       "    .dataframe thead th {\n",
       "        text-align: right;\n",
       "    }\n",
       "</style>\n",
       "<table border=\"1\" class=\"dataframe\">\n",
       "  <thead>\n",
       "    <tr style=\"text-align: right;\">\n",
       "      <th></th>\n",
       "      <th>uid</th>\n",
       "      <th>topic_0</th>\n",
       "      <th>topic_1</th>\n",
       "      <th>topic_2</th>\n",
       "      <th>topic_3</th>\n",
       "      <th>topic_4</th>\n",
       "      <th>topic_5</th>\n",
       "      <th>topic_6</th>\n",
       "      <th>topic_7</th>\n",
       "      <th>topic_8</th>\n",
       "      <th>...</th>\n",
       "      <th>topic_10</th>\n",
       "      <th>topic_11</th>\n",
       "      <th>topic_12</th>\n",
       "      <th>topic_13</th>\n",
       "      <th>topic_14</th>\n",
       "      <th>topic_15</th>\n",
       "      <th>topic_16</th>\n",
       "      <th>topic_17</th>\n",
       "      <th>topic_18</th>\n",
       "      <th>topic_19</th>\n",
       "    </tr>\n",
       "  </thead>\n",
       "  <tbody>\n",
       "    <tr>\n",
       "      <th>0</th>\n",
       "      <td>u105138</td>\n",
       "      <td>0.098721</td>\n",
       "      <td>0.038894</td>\n",
       "      <td>0.004117</td>\n",
       "      <td>0.002778</td>\n",
       "      <td>0.002984</td>\n",
       "      <td>0.030386</td>\n",
       "      <td>0.005743</td>\n",
       "      <td>0.008067</td>\n",
       "      <td>0.122300</td>\n",
       "      <td>...</td>\n",
       "      <td>0.018627</td>\n",
       "      <td>0.244119</td>\n",
       "      <td>0.159003</td>\n",
       "      <td>0.012682</td>\n",
       "      <td>0.005251</td>\n",
       "      <td>0.020217</td>\n",
       "      <td>0.103730</td>\n",
       "      <td>0.020063</td>\n",
       "      <td>0.0</td>\n",
       "      <td>0.000000</td>\n",
       "    </tr>\n",
       "    <tr>\n",
       "      <th>1</th>\n",
       "      <td>u108690</td>\n",
       "      <td>0.079407</td>\n",
       "      <td>0.058181</td>\n",
       "      <td>0.000000</td>\n",
       "      <td>0.016222</td>\n",
       "      <td>0.000000</td>\n",
       "      <td>0.039752</td>\n",
       "      <td>0.015694</td>\n",
       "      <td>0.021551</td>\n",
       "      <td>0.067924</td>\n",
       "      <td>...</td>\n",
       "      <td>0.000000</td>\n",
       "      <td>0.194826</td>\n",
       "      <td>0.217404</td>\n",
       "      <td>0.003067</td>\n",
       "      <td>0.000000</td>\n",
       "      <td>0.026917</td>\n",
       "      <td>0.057703</td>\n",
       "      <td>0.143030</td>\n",
       "      <td>0.0</td>\n",
       "      <td>0.005179</td>\n",
       "    </tr>\n",
       "    <tr>\n",
       "      <th>2</th>\n",
       "      <td>u108339</td>\n",
       "      <td>0.009835</td>\n",
       "      <td>0.189732</td>\n",
       "      <td>0.018125</td>\n",
       "      <td>0.022739</td>\n",
       "      <td>0.002371</td>\n",
       "      <td>0.017164</td>\n",
       "      <td>0.006319</td>\n",
       "      <td>0.008486</td>\n",
       "      <td>0.018690</td>\n",
       "      <td>...</td>\n",
       "      <td>0.004516</td>\n",
       "      <td>0.249190</td>\n",
       "      <td>0.157554</td>\n",
       "      <td>0.013261</td>\n",
       "      <td>0.000000</td>\n",
       "      <td>0.012609</td>\n",
       "      <td>0.053103</td>\n",
       "      <td>0.088398</td>\n",
       "      <td>0.0</td>\n",
       "      <td>0.020423</td>\n",
       "    </tr>\n",
       "  </tbody>\n",
       "</table>\n",
       "<p>3 rows × 21 columns</p>\n",
       "</div>"
      ],
      "text/plain": [
       "       uid   topic_0   topic_1   topic_2   topic_3   topic_4   topic_5  \\\n",
       "0  u105138  0.098721  0.038894  0.004117  0.002778  0.002984  0.030386   \n",
       "1  u108690  0.079407  0.058181  0.000000  0.016222  0.000000  0.039752   \n",
       "2  u108339  0.009835  0.189732  0.018125  0.022739  0.002371  0.017164   \n",
       "\n",
       "    topic_6   topic_7   topic_8  ...  topic_10  topic_11  topic_12  topic_13  \\\n",
       "0  0.005743  0.008067  0.122300  ...  0.018627  0.244119  0.159003  0.012682   \n",
       "1  0.015694  0.021551  0.067924  ...  0.000000  0.194826  0.217404  0.003067   \n",
       "2  0.006319  0.008486  0.018690  ...  0.004516  0.249190  0.157554  0.013261   \n",
       "\n",
       "   topic_14  topic_15  topic_16  topic_17  topic_18  topic_19  \n",
       "0  0.005251  0.020217  0.103730  0.020063       0.0  0.000000  \n",
       "1  0.000000  0.026917  0.057703  0.143030       0.0  0.005179  \n",
       "2  0.000000  0.012609  0.053103  0.088398       0.0  0.020423  \n",
       "\n",
       "[3 rows x 21 columns]"
      ]
     },
     "execution_count": 67,
     "metadata": {},
     "output_type": "execute_result"
    }
   ],
   "source": [
    "user_embeddings = pd.DataFrame([i for i in users['articles'].apply(lambda x: get_user_embedding(x), 1)])\n",
    "user_embeddings.columns = ['topic_{}'.format(i) for i in range(N_topic)]\n",
    "user_embeddings['uid'] = users['uid'].values\n",
    "user_embeddings = user_embeddings[['uid']+['topic_{}'.format(i) for i in range(N_topic)]]\n",
    "user_embeddings.head(3)"
   ]
  },
  {
   "cell_type": "markdown",
   "id": "d3343c4f",
   "metadata": {
    "id": "dZNF_ZXSMIG8"
   },
   "source": [
    "Датасет готов - можно попробовать обучить модель. Загрузим нашу разметку"
   ]
  },
  {
   "cell_type": "code",
   "execution_count": 68,
   "id": "89e42d81",
   "metadata": {
    "colab": {
     "base_uri": "https://localhost:8080/",
     "height": 141
    },
    "id": "L2mVHGMPMIG9",
    "outputId": "37549854-3775-4ece-de2e-097611d592b5"
   },
   "outputs": [
    {
     "data": {
      "text/html": [
       "<div>\n",
       "<style scoped>\n",
       "    .dataframe tbody tr th:only-of-type {\n",
       "        vertical-align: middle;\n",
       "    }\n",
       "\n",
       "    .dataframe tbody tr th {\n",
       "        vertical-align: top;\n",
       "    }\n",
       "\n",
       "    .dataframe thead th {\n",
       "        text-align: right;\n",
       "    }\n",
       "</style>\n",
       "<table border=\"1\" class=\"dataframe\">\n",
       "  <thead>\n",
       "    <tr style=\"text-align: right;\">\n",
       "      <th></th>\n",
       "      <th>uid</th>\n",
       "      <th>churn</th>\n",
       "    </tr>\n",
       "  </thead>\n",
       "  <tbody>\n",
       "    <tr>\n",
       "      <th>0</th>\n",
       "      <td>u107120</td>\n",
       "      <td>0</td>\n",
       "    </tr>\n",
       "    <tr>\n",
       "      <th>1</th>\n",
       "      <td>u102277</td>\n",
       "      <td>0</td>\n",
       "    </tr>\n",
       "    <tr>\n",
       "      <th>2</th>\n",
       "      <td>u102444</td>\n",
       "      <td>0</td>\n",
       "    </tr>\n",
       "  </tbody>\n",
       "</table>\n",
       "</div>"
      ],
      "text/plain": [
       "       uid  churn\n",
       "0  u107120      0\n",
       "1  u102277      0\n",
       "2  u102444      0"
      ]
     },
     "execution_count": 68,
     "metadata": {},
     "output_type": "execute_result"
    }
   ],
   "source": [
    "target = pd.read_csv(path+\"users_churn.csv\")\n",
    "target.head(3)"
   ]
  },
  {
   "cell_type": "code",
   "execution_count": 69,
   "id": "bac414f3",
   "metadata": {
    "colab": {
     "base_uri": "https://localhost:8080/",
     "height": 161
    },
    "id": "qXzy3pA2MIG9",
    "outputId": "4154bfe8-14af-4263-af08-cff71c22747a",
    "scrolled": true
   },
   "outputs": [
    {
     "data": {
      "text/html": [
       "<div>\n",
       "<style scoped>\n",
       "    .dataframe tbody tr th:only-of-type {\n",
       "        vertical-align: middle;\n",
       "    }\n",
       "\n",
       "    .dataframe tbody tr th {\n",
       "        vertical-align: top;\n",
       "    }\n",
       "\n",
       "    .dataframe thead th {\n",
       "        text-align: right;\n",
       "    }\n",
       "</style>\n",
       "<table border=\"1\" class=\"dataframe\">\n",
       "  <thead>\n",
       "    <tr style=\"text-align: right;\">\n",
       "      <th></th>\n",
       "      <th>uid</th>\n",
       "      <th>topic_0</th>\n",
       "      <th>topic_1</th>\n",
       "      <th>topic_2</th>\n",
       "      <th>topic_3</th>\n",
       "      <th>topic_4</th>\n",
       "      <th>topic_5</th>\n",
       "      <th>topic_6</th>\n",
       "      <th>topic_7</th>\n",
       "      <th>topic_8</th>\n",
       "      <th>...</th>\n",
       "      <th>topic_11</th>\n",
       "      <th>topic_12</th>\n",
       "      <th>topic_13</th>\n",
       "      <th>topic_14</th>\n",
       "      <th>topic_15</th>\n",
       "      <th>topic_16</th>\n",
       "      <th>topic_17</th>\n",
       "      <th>topic_18</th>\n",
       "      <th>topic_19</th>\n",
       "      <th>churn</th>\n",
       "    </tr>\n",
       "  </thead>\n",
       "  <tbody>\n",
       "    <tr>\n",
       "      <th>0</th>\n",
       "      <td>u105138</td>\n",
       "      <td>0.098721</td>\n",
       "      <td>0.038894</td>\n",
       "      <td>0.004117</td>\n",
       "      <td>0.002778</td>\n",
       "      <td>0.002984</td>\n",
       "      <td>0.030386</td>\n",
       "      <td>0.005743</td>\n",
       "      <td>0.008067</td>\n",
       "      <td>0.122300</td>\n",
       "      <td>...</td>\n",
       "      <td>0.244119</td>\n",
       "      <td>0.159003</td>\n",
       "      <td>0.012682</td>\n",
       "      <td>0.005251</td>\n",
       "      <td>0.020217</td>\n",
       "      <td>0.103730</td>\n",
       "      <td>0.020063</td>\n",
       "      <td>0.0</td>\n",
       "      <td>0.000000</td>\n",
       "      <td>0</td>\n",
       "    </tr>\n",
       "    <tr>\n",
       "      <th>1</th>\n",
       "      <td>u108690</td>\n",
       "      <td>0.079407</td>\n",
       "      <td>0.058181</td>\n",
       "      <td>0.000000</td>\n",
       "      <td>0.016222</td>\n",
       "      <td>0.000000</td>\n",
       "      <td>0.039752</td>\n",
       "      <td>0.015694</td>\n",
       "      <td>0.021551</td>\n",
       "      <td>0.067924</td>\n",
       "      <td>...</td>\n",
       "      <td>0.194826</td>\n",
       "      <td>0.217404</td>\n",
       "      <td>0.003067</td>\n",
       "      <td>0.000000</td>\n",
       "      <td>0.026917</td>\n",
       "      <td>0.057703</td>\n",
       "      <td>0.143030</td>\n",
       "      <td>0.0</td>\n",
       "      <td>0.005179</td>\n",
       "      <td>1</td>\n",
       "    </tr>\n",
       "    <tr>\n",
       "      <th>2</th>\n",
       "      <td>u108339</td>\n",
       "      <td>0.009835</td>\n",
       "      <td>0.189732</td>\n",
       "      <td>0.018125</td>\n",
       "      <td>0.022739</td>\n",
       "      <td>0.002371</td>\n",
       "      <td>0.017164</td>\n",
       "      <td>0.006319</td>\n",
       "      <td>0.008486</td>\n",
       "      <td>0.018690</td>\n",
       "      <td>...</td>\n",
       "      <td>0.249190</td>\n",
       "      <td>0.157554</td>\n",
       "      <td>0.013261</td>\n",
       "      <td>0.000000</td>\n",
       "      <td>0.012609</td>\n",
       "      <td>0.053103</td>\n",
       "      <td>0.088398</td>\n",
       "      <td>0.0</td>\n",
       "      <td>0.020423</td>\n",
       "      <td>1</td>\n",
       "    </tr>\n",
       "  </tbody>\n",
       "</table>\n",
       "<p>3 rows × 22 columns</p>\n",
       "</div>"
      ],
      "text/plain": [
       "       uid   topic_0   topic_1   topic_2   topic_3   topic_4   topic_5  \\\n",
       "0  u105138  0.098721  0.038894  0.004117  0.002778  0.002984  0.030386   \n",
       "1  u108690  0.079407  0.058181  0.000000  0.016222  0.000000  0.039752   \n",
       "2  u108339  0.009835  0.189732  0.018125  0.022739  0.002371  0.017164   \n",
       "\n",
       "    topic_6   topic_7   topic_8  ...  topic_11  topic_12  topic_13  topic_14  \\\n",
       "0  0.005743  0.008067  0.122300  ...  0.244119  0.159003  0.012682  0.005251   \n",
       "1  0.015694  0.021551  0.067924  ...  0.194826  0.217404  0.003067  0.000000   \n",
       "2  0.006319  0.008486  0.018690  ...  0.249190  0.157554  0.013261  0.000000   \n",
       "\n",
       "   topic_15  topic_16  topic_17  topic_18  topic_19  churn  \n",
       "0  0.020217  0.103730  0.020063       0.0  0.000000      0  \n",
       "1  0.026917  0.057703  0.143030       0.0  0.005179      1  \n",
       "2  0.012609  0.053103  0.088398       0.0  0.020423      1  \n",
       "\n",
       "[3 rows x 22 columns]"
      ]
     },
     "execution_count": 69,
     "metadata": {},
     "output_type": "execute_result"
    }
   ],
   "source": [
    "X = pd.merge(user_embeddings, target, 'left')\n",
    "X.head(3)"
   ]
  },
  {
   "cell_type": "code",
   "execution_count": 70,
   "id": "ebe6f1da",
   "metadata": {
    "id": "Un-dl_vDMIHM"
   },
   "outputs": [],
   "source": [
    "from sklearn.linear_model import LogisticRegression\n",
    "from sklearn.model_selection import train_test_split\n",
    "#import itertools\n",
    "\n",
    "import matplotlib.pyplot as plt\n",
    "\n",
    "%matplotlib inline"
   ]
  },
  {
   "cell_type": "code",
   "execution_count": 71,
   "id": "da054299",
   "metadata": {
    "id": "rzq-WEIJMIHO"
   },
   "outputs": [],
   "source": [
    "#разделим данные на train/test\n",
    "X_train, X_test, y_train, y_test = train_test_split(X[['topic_{}'.format(i) for i in range(N_topic)]], \n",
    "                                                    X['churn'], random_state=0, test_size=0.25)"
   ]
  },
  {
   "cell_type": "code",
   "execution_count": 72,
   "id": "0d781614",
   "metadata": {
    "colab": {
     "base_uri": "https://localhost:8080/"
    },
    "id": "EBQsn00QMIHO",
    "outputId": "e0a19c74-7e39-41c3-aa44-c8dfe2c013aa"
   },
   "outputs": [
    {
     "data": {
      "text/plain": [
       "LogisticRegression()"
      ]
     },
     "execution_count": 72,
     "metadata": {},
     "output_type": "execute_result"
    }
   ],
   "source": [
    "logreg = LogisticRegression(C=1.0)\n",
    "#обучим наш пайплайн\n",
    "logreg.fit(X_train, y_train)"
   ]
  },
  {
   "cell_type": "code",
   "execution_count": 73,
   "id": "20365242",
   "metadata": {
    "colab": {
     "base_uri": "https://localhost:8080/"
    },
    "id": "GqftFfoOMIHP",
    "outputId": "430b1955-dfa0-4906-c418-35afab116e5d"
   },
   "outputs": [
    {
     "data": {
      "text/plain": [
       "array([0.11733874, 0.06444423, 0.54941274, 0.24901027, 0.00682277,\n",
       "       0.02916364, 0.07355761, 0.12492726, 0.01337971, 0.07694941])"
      ]
     },
     "execution_count": 73,
     "metadata": {},
     "output_type": "execute_result"
    }
   ],
   "source": [
    "#наши прогнозы для тестовой выборки\n",
    "preds = logreg.predict_proba(X_test)[:, 1]\n",
    "preds[:10]"
   ]
  },
  {
   "cell_type": "code",
   "execution_count": 74,
   "id": "3561ae09",
   "metadata": {
    "id": "nQKM7kKtMIHU"
   },
   "outputs": [],
   "source": [
    "from sklearn.metrics import f1_score, roc_auc_score, precision_score, classification_report, precision_recall_curve, confusion_matrix"
   ]
  },
  {
   "cell_type": "code",
   "execution_count": 75,
   "id": "47deea7d",
   "metadata": {
    "id": "J04r8edvMIHV"
   },
   "outputs": [],
   "source": [
    "\n",
    "precision, recall, thresholds = precision_recall_curve(y_test.values, preds)\n"
   ]
  },
  {
   "cell_type": "code",
   "execution_count": 76,
   "id": "075f8c0d",
   "metadata": {
    "colab": {
     "base_uri": "https://localhost:8080/"
    },
    "id": "a_M4X_aj_1Q-",
    "outputId": "6f3dfc31-d558-4edb-a946-da8fa65abc76"
   },
   "outputs": [
    {
     "name": "stdout",
     "output_type": "stream",
     "text": [
      "Best Threshold=0.263720, F-Score=0.680, Precision=0.600, Recall=0.784\n"
     ]
    }
   ],
   "source": [
    "n=-1\n",
    "fscore = (2 * precision[:n] * recall[:n]) / (precision[:n] + recall[:n])\n",
    "\n",
    "# locate the index of the largest f score\n",
    "ix = np.argmax(fscore)\n",
    "print('Best Threshold=%f, F-Score=%.3f, Precision=%.3f, Recall=%.3f' % (thresholds[ix], \n",
    "                                                                        fscore[ix],\n",
    "                                                                        precision[ix],\n",
    "                                                                        recall[ix]))"
   ]
  },
  {
   "cell_type": "code",
   "execution_count": 77,
   "id": "d2b15aa0",
   "metadata": {},
   "outputs": [
    {
     "data": {
      "text/plain": [
       "0.9497877783592069"
      ]
     },
     "execution_count": 77,
     "metadata": {},
     "output_type": "execute_result"
    }
   ],
   "source": [
    "roc_auc = roc_auc_score(y_test, preds)\n",
    "roc_auc"
   ]
  },
  {
   "cell_type": "code",
   "execution_count": 78,
   "id": "f8b8e2aa",
   "metadata": {
    "scrolled": true
   },
   "outputs": [
    {
     "data": {
      "image/png": "[encoded data removed]",
      "text/plain": [
       "<Figure size 432x288 with 1 Axes>"
      ]
     },
     "metadata": {
      "needs_background": "light"
     },
     "output_type": "display_data"
    }
   ],
   "source": [
    "plt.plot( preds[:100], label = 'predict')\n",
    "plt.plot(y_test.values[:100], label = 'true')\n",
    "plt.title('ответ модели при использовании \\n mean значения в get_user_embedding')\n",
    "plt.xlabel(' № примера')\n",
    "plt.ylabel(' выход')\n",
    "plt.legend()\n",
    "plt.grid('On')\n",
    "plt.show()"
   ]
  },
  {
   "cell_type": "code",
   "execution_count": 79,
   "id": "1ffee0c9",
   "metadata": {},
   "outputs": [
    {
     "data": {
      "text/plain": [
       "(None, None, None)"
      ]
     },
     "execution_count": 79,
     "metadata": {},
     "output_type": "execute_result"
    }
   ],
   "source": [
    "\n",
    "embedding_mean = ['mean', format(thresholds[ix], \".3f\"), format(fscore[ix], \".3f\"), format(precision[ix],\".3f\"), format(recall[ix], \".3f\"), roc_auc]\n",
    "embedding_mean\n",
    "metrics_list.append(embedding_max), metrics_list.append(embedding_median), metrics_list.append(embedding_mean)"
   ]
  },
  {
   "cell_type": "code",
   "execution_count": 80,
   "id": "7694a7c4",
   "metadata": {},
   "outputs": [],
   "source": [
    "metrics_list = pd.DataFrame(metrics_list, columns=['type', 'Best Threshold', 'F-Score', 'Precision', 'Recall', 'roc_auc'])"
   ]
  },
  {
   "cell_type": "code",
   "execution_count": 81,
   "id": "603bc8ef",
   "metadata": {},
   "outputs": [
    {
     "data": {
      "text/html": [
       "<div>\n",
       "<style scoped>\n",
       "    .dataframe tbody tr th:only-of-type {\n",
       "        vertical-align: middle;\n",
       "    }\n",
       "\n",
       "    .dataframe tbody tr th {\n",
       "        vertical-align: top;\n",
       "    }\n",
       "\n",
       "    .dataframe thead th {\n",
       "        text-align: right;\n",
       "    }\n",
       "</style>\n",
       "<table border=\"1\" class=\"dataframe\">\n",
       "  <thead>\n",
       "    <tr style=\"text-align: right;\">\n",
       "      <th></th>\n",
       "      <th>type</th>\n",
       "      <th>Best Threshold</th>\n",
       "      <th>F-Score</th>\n",
       "      <th>Precision</th>\n",
       "      <th>Recall</th>\n",
       "      <th>roc_auc</th>\n",
       "    </tr>\n",
       "  </thead>\n",
       "  <tbody>\n",
       "    <tr>\n",
       "      <th>0</th>\n",
       "      <td>max</td>\n",
       "      <td>0.311</td>\n",
       "      <td>0.758</td>\n",
       "      <td>0.721</td>\n",
       "      <td>0.800</td>\n",
       "      <td>0.965779</td>\n",
       "    </tr>\n",
       "    <tr>\n",
       "      <th>1</th>\n",
       "      <td>mediana</td>\n",
       "      <td>0.276</td>\n",
       "      <td>0.684</td>\n",
       "      <td>0.625</td>\n",
       "      <td>0.755</td>\n",
       "      <td>0.954193</td>\n",
       "    </tr>\n",
       "    <tr>\n",
       "      <th>2</th>\n",
       "      <td>mean</td>\n",
       "      <td>0.264</td>\n",
       "      <td>0.680</td>\n",
       "      <td>0.600</td>\n",
       "      <td>0.784</td>\n",
       "      <td>0.949788</td>\n",
       "    </tr>\n",
       "  </tbody>\n",
       "</table>\n",
       "</div>"
      ],
      "text/plain": [
       "      type Best Threshold F-Score Precision Recall   roc_auc\n",
       "0      max          0.311   0.758     0.721  0.800  0.965779\n",
       "1  mediana          0.276   0.684     0.625  0.755  0.954193\n",
       "2     mean          0.264   0.680     0.600  0.784  0.949788"
      ]
     },
     "execution_count": 81,
     "metadata": {},
     "output_type": "execute_result"
    }
   ],
   "source": [
    "metrics_list.head()"
   ]
  },
  {
   "cell_type": "markdown",
   "id": "8df811ae",
   "metadata": {},
   "source": [
    "**Выводы:** *По результатам обучения модели с разными методами embedding-а можем сделать вывод, что лучше всех себя показала первая моделька с использованием максимального значения всех векторов из пространства статей, качество такой модели по всем метрикам выше чем у остальных методов ee roc_auc составляет: 0.966.*"
   ]
  }
 ],
 "metadata": {
  "kernelspec": {
   "display_name": "Python 3",
   "language": "python",
   "name": "python3"
  },
  "language_info": {
   "codemirror_mode": {
    "name": "ipython",
    "version": 3
   },
   "file_extension": ".py",
   "mimetype": "text/x-python",
   "name": "python",
   "nbconvert_exporter": "python",
   "pygments_lexer": "ipython3",
   "version": "3.8.8"
  }
 },
 "nbformat": 4,
 "nbformat_minor": 5
}
