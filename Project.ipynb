{
 "cells": [
  {
   "cell_type": "markdown",
   "id": "89d90014",
   "metadata": {},
   "source": [
    "Имеются два набора данных с комментариями train и test. Необходимо:\n",
    "* сделать обзорный анализ выбранного датасета\n",
    "* сделать feature engineering\n",
    "* обучить несколько моделей, которые будут давать вероятностную оценку токсичности комментария. \n",
    "* выбрать лучшую модель\n",
    "* подобрать для лучшей модели гиперпараметры\n",
    "* После обучения модели, посчитать бизнес метрики исходя из следующих параметров: пропущенный токсичный комментарий обойдется в 150р., а заблокированный пользователь в 20р.\n",
    "* сравнить бизнес метрики, полученные при использовании модели и без использования модели\n",
    "* сохранить вероятностные оценки в отдельный файл"
   ]
  },
  {
   "cell_type": "markdown",
   "id": "09da4f4f",
   "metadata": {},
   "source": [
    "* [Подключение библиотек. Загрузка данных](#loading)\n",
    "* [1. EDA](#EDA)\n",
    "* [2. Обработка пропусков](#pass)\n",
    "* [3. Построение новых признаков](#new_feature)\n",
    "* [4. Построение графиков](#plot)\n",
    "* [5. Разбиение на train и valid](#splitting)\n",
    "* [6. Построение моделей](#model)\n",
    "* [7. Отбор лучшей модели](#best_model)\n",
    "* [8. Подбор гиперпараметров лучшей модели](#selection)\n",
    "* [9. Оценка экономической эффективности модели](#grade)\n",
    "* [10. Прогнозирование на тестовом датасете](#test)\n"
   ]
  },
  {
   "cell_type": "markdown",
   "id": "178f4127",
   "metadata": {},
   "source": [
    "## Подключение библиотек и скриптов<a id='loading'></a>"
   ]
  },
  {
   "cell_type": "code",
   "execution_count": 1,
   "id": "cc24d76c",
   "metadata": {},
   "outputs": [],
   "source": [
    "import pandas as pd\n",
    "import numpy as np\n",
    "from sklearn.pipeline import Pipeline, make_pipeline\n",
    "from sklearn.base import BaseEstimator, TransformerMixin\n",
    "from sklearn.linear_model import LogisticRegression\n",
    "from sklearn.model_selection import train_test_split, cross_val_score\n",
    "from sklearn.feature_extraction.text import TfidfVectorizer\n",
    "import itertools\n",
    "\n",
    "import warnings\n",
    "warnings.filterwarnings('ignore')\n",
    "import matplotlib.pyplot as plt\n",
    "\n",
    "import seaborn as sns\n",
    "\n",
    "\n",
    "%matplotlib inline"
   ]
  },
  {
   "cell_type": "code",
   "execution_count": 2,
   "id": "93629170",
   "metadata": {},
   "outputs": [],
   "source": [
    "TRAIN_DATASET_PATH = './train.csv'\n",
    "TEST_DATASET_PATH = './comments_to_score.csv'\n",
    "PREPARED_TRAIN_DATASET_PATH = './sample_submission.csv'"
   ]
  },
  {
   "cell_type": "code",
   "execution_count": 3,
   "id": "f73b9a3c",
   "metadata": {},
   "outputs": [],
   "source": [
    "test = pd.read_csv(TEST_DATASET_PATH, sep=',')\n",
    "train = pd.read_csv(TRAIN_DATASET_PATH)"
   ]
  },
  {
   "cell_type": "markdown",
   "id": "5afff896",
   "metadata": {},
   "source": [
    "*Посмотрим на наши данные*"
   ]
  },
  {
   "cell_type": "code",
   "execution_count": 4,
   "id": "c8787a96",
   "metadata": {},
   "outputs": [
    {
     "data": {
      "text/html": [
       "<div>\n",
       "<style scoped>\n",
       "    .dataframe tbody tr th:only-of-type {\n",
       "        vertical-align: middle;\n",
       "    }\n",
       "\n",
       "    .dataframe tbody tr th {\n",
       "        vertical-align: top;\n",
       "    }\n",
       "\n",
       "    .dataframe thead th {\n",
       "        text-align: right;\n",
       "    }\n",
       "</style>\n",
       "<table border=\"1\" class=\"dataframe\">\n",
       "  <thead>\n",
       "    <tr style=\"text-align: right;\">\n",
       "      <th></th>\n",
       "      <th>comment_id</th>\n",
       "      <th>text</th>\n",
       "    </tr>\n",
       "  </thead>\n",
       "  <tbody>\n",
       "    <tr>\n",
       "      <th>0</th>\n",
       "      <td>114890</td>\n",
       "      <td>\"\\n \\n\\nGjalexei, you asked about whether ther...</td>\n",
       "    </tr>\n",
       "    <tr>\n",
       "      <th>1</th>\n",
       "      <td>732895</td>\n",
       "      <td>Looks like be have an abuser , can you please ...</td>\n",
       "    </tr>\n",
       "    <tr>\n",
       "      <th>2</th>\n",
       "      <td>1139051</td>\n",
       "      <td>I confess to having complete (and apparently b...</td>\n",
       "    </tr>\n",
       "  </tbody>\n",
       "</table>\n",
       "</div>"
      ],
      "text/plain": [
       "   comment_id                                               text\n",
       "0      114890  \"\\n \\n\\nGjalexei, you asked about whether ther...\n",
       "1      732895  Looks like be have an abuser , can you please ...\n",
       "2     1139051  I confess to having complete (and apparently b..."
      ]
     },
     "execution_count": 4,
     "metadata": {},
     "output_type": "execute_result"
    }
   ],
   "source": [
    "test.head(3)"
   ]
  },
  {
   "cell_type": "code",
   "execution_count": 5,
   "id": "df5cca5a",
   "metadata": {},
   "outputs": [
    {
     "data": {
      "text/html": [
       "<div>\n",
       "<style scoped>\n",
       "    .dataframe tbody tr th:only-of-type {\n",
       "        vertical-align: middle;\n",
       "    }\n",
       "\n",
       "    .dataframe tbody tr th {\n",
       "        vertical-align: top;\n",
       "    }\n",
       "\n",
       "    .dataframe thead th {\n",
       "        text-align: right;\n",
       "    }\n",
       "</style>\n",
       "<table border=\"1\" class=\"dataframe\">\n",
       "  <thead>\n",
       "    <tr style=\"text-align: right;\">\n",
       "      <th></th>\n",
       "      <th>id</th>\n",
       "      <th>comment_text</th>\n",
       "      <th>toxic</th>\n",
       "      <th>severe_toxic</th>\n",
       "      <th>obscene</th>\n",
       "      <th>threat</th>\n",
       "      <th>insult</th>\n",
       "      <th>identity_hate</th>\n",
       "    </tr>\n",
       "  </thead>\n",
       "  <tbody>\n",
       "    <tr>\n",
       "      <th>0</th>\n",
       "      <td>0000997932d777bf</td>\n",
       "      <td>Explanation\\nWhy the edits made under my usern...</td>\n",
       "      <td>0</td>\n",
       "      <td>0</td>\n",
       "      <td>0</td>\n",
       "      <td>0</td>\n",
       "      <td>0</td>\n",
       "      <td>0</td>\n",
       "    </tr>\n",
       "    <tr>\n",
       "      <th>1</th>\n",
       "      <td>000103f0d9cfb60f</td>\n",
       "      <td>D'aww! He matches this background colour I'm s...</td>\n",
       "      <td>0</td>\n",
       "      <td>0</td>\n",
       "      <td>0</td>\n",
       "      <td>0</td>\n",
       "      <td>0</td>\n",
       "      <td>0</td>\n",
       "    </tr>\n",
       "    <tr>\n",
       "      <th>2</th>\n",
       "      <td>000113f07ec002fd</td>\n",
       "      <td>Hey man, I'm really not trying to edit war. It...</td>\n",
       "      <td>0</td>\n",
       "      <td>0</td>\n",
       "      <td>0</td>\n",
       "      <td>0</td>\n",
       "      <td>0</td>\n",
       "      <td>0</td>\n",
       "    </tr>\n",
       "  </tbody>\n",
       "</table>\n",
       "</div>"
      ],
      "text/plain": [
       "                 id                                       comment_text  toxic  \\\n",
       "0  0000997932d777bf  Explanation\\nWhy the edits made under my usern...      0   \n",
       "1  000103f0d9cfb60f  D'aww! He matches this background colour I'm s...      0   \n",
       "2  000113f07ec002fd  Hey man, I'm really not trying to edit war. It...      0   \n",
       "\n",
       "   severe_toxic  obscene  threat  insult  identity_hate  \n",
       "0             0        0       0       0              0  \n",
       "1             0        0       0       0              0  \n",
       "2             0        0       0       0              0  "
      ]
     },
     "execution_count": 5,
     "metadata": {},
     "output_type": "execute_result"
    }
   ],
   "source": [
    "train.head(3)"
   ]
  },
  {
   "cell_type": "markdown",
   "id": "bed0200a",
   "metadata": {},
   "source": [
    "*Переименную колонку comment_text на text, чтобы не в дальнейшем не изменять в функции* "
   ]
  },
  {
   "cell_type": "code",
   "execution_count": 6,
   "id": "65604904",
   "metadata": {},
   "outputs": [],
   "source": [
    "train.rename(columns={'comment_text':'text'}, inplace=True) \n"
   ]
  },
  {
   "cell_type": "markdown",
   "id": "41faa834",
   "metadata": {},
   "source": [
    "### 1. EDA<a class='EDA' id=EDA>"
   ]
  },
  {
   "cell_type": "code",
   "execution_count": 7,
   "id": "4f2b76bf",
   "metadata": {},
   "outputs": [
    {
     "data": {
      "text/html": [
       "<div>\n",
       "<style scoped>\n",
       "    .dataframe tbody tr th:only-of-type {\n",
       "        vertical-align: middle;\n",
       "    }\n",
       "\n",
       "    .dataframe tbody tr th {\n",
       "        vertical-align: top;\n",
       "    }\n",
       "\n",
       "    .dataframe thead th {\n",
       "        text-align: right;\n",
       "    }\n",
       "</style>\n",
       "<table border=\"1\" class=\"dataframe\">\n",
       "  <thead>\n",
       "    <tr style=\"text-align: right;\">\n",
       "      <th></th>\n",
       "      <th>id</th>\n",
       "      <th>text</th>\n",
       "      <th>toxic</th>\n",
       "      <th>severe_toxic</th>\n",
       "      <th>obscene</th>\n",
       "      <th>threat</th>\n",
       "      <th>insult</th>\n",
       "      <th>identity_hate</th>\n",
       "    </tr>\n",
       "  </thead>\n",
       "  <tbody>\n",
       "    <tr>\n",
       "      <th>0</th>\n",
       "      <td>0000997932d777bf</td>\n",
       "      <td>Explanation\\nWhy the edits made under my usern...</td>\n",
       "      <td>0</td>\n",
       "      <td>0</td>\n",
       "      <td>0</td>\n",
       "      <td>0</td>\n",
       "      <td>0</td>\n",
       "      <td>0</td>\n",
       "    </tr>\n",
       "    <tr>\n",
       "      <th>1</th>\n",
       "      <td>000103f0d9cfb60f</td>\n",
       "      <td>D'aww! He matches this background colour I'm s...</td>\n",
       "      <td>0</td>\n",
       "      <td>0</td>\n",
       "      <td>0</td>\n",
       "      <td>0</td>\n",
       "      <td>0</td>\n",
       "      <td>0</td>\n",
       "    </tr>\n",
       "    <tr>\n",
       "      <th>2</th>\n",
       "      <td>000113f07ec002fd</td>\n",
       "      <td>Hey man, I'm really not trying to edit war. It...</td>\n",
       "      <td>0</td>\n",
       "      <td>0</td>\n",
       "      <td>0</td>\n",
       "      <td>0</td>\n",
       "      <td>0</td>\n",
       "      <td>0</td>\n",
       "    </tr>\n",
       "  </tbody>\n",
       "</table>\n",
       "</div>"
      ],
      "text/plain": [
       "                 id                                               text  toxic  \\\n",
       "0  0000997932d777bf  Explanation\\nWhy the edits made under my usern...      0   \n",
       "1  000103f0d9cfb60f  D'aww! He matches this background colour I'm s...      0   \n",
       "2  000113f07ec002fd  Hey man, I'm really not trying to edit war. It...      0   \n",
       "\n",
       "   severe_toxic  obscene  threat  insult  identity_hate  \n",
       "0             0        0       0       0              0  \n",
       "1             0        0       0       0              0  \n",
       "2             0        0       0       0              0  "
      ]
     },
     "execution_count": 7,
     "metadata": {},
     "output_type": "execute_result"
    }
   ],
   "source": [
    "train.head(3)"
   ]
  },
  {
   "cell_type": "markdown",
   "id": "4025ae81",
   "metadata": {},
   "source": [
    "#### Описание датасета\n",
    "* id - идентификационный номер комментария\n",
    "* text - текст комментария\n",
    "* toxic - токсичный комментарий или нет\n",
    "* severe_toxic - тяжелая форма токсичности / высокая токсичность комментария\n",
    "* obscene - не пристойный комментарий\t\n",
    "* threat - угроза\t\n",
    "* insult - оскорбление\t\n",
    "* identity_hate - выражение ненавести к личности"
   ]
  },
  {
   "cell_type": "markdown",
   "id": "b3407074",
   "metadata": {},
   "source": [
    "*Посмотрим на размерность выборок:*"
   ]
  },
  {
   "cell_type": "code",
   "execution_count": 8,
   "id": "0c79dd3b",
   "metadata": {},
   "outputs": [
    {
     "data": {
      "text/plain": [
       "((7537, 2), (159571, 8))"
      ]
     },
     "execution_count": 8,
     "metadata": {},
     "output_type": "execute_result"
    }
   ],
   "source": [
    "test.shape, train.shape"
   ]
  },
  {
   "cell_type": "code",
   "execution_count": 9,
   "id": "02322f9d",
   "metadata": {},
   "outputs": [
    {
     "data": {
      "text/html": [
       "<div>\n",
       "<style scoped>\n",
       "    .dataframe tbody tr th:only-of-type {\n",
       "        vertical-align: middle;\n",
       "    }\n",
       "\n",
       "    .dataframe tbody tr th {\n",
       "        vertical-align: top;\n",
       "    }\n",
       "\n",
       "    .dataframe thead th {\n",
       "        text-align: right;\n",
       "    }\n",
       "</style>\n",
       "<table border=\"1\" class=\"dataframe\">\n",
       "  <thead>\n",
       "    <tr style=\"text-align: right;\">\n",
       "      <th></th>\n",
       "      <th>comment_id</th>\n",
       "      <th>text</th>\n",
       "    </tr>\n",
       "  </thead>\n",
       "  <tbody>\n",
       "    <tr>\n",
       "      <th>0</th>\n",
       "      <td>114890</td>\n",
       "      <td>\"\\n \\n\\nGjalexei, you asked about whether ther...</td>\n",
       "    </tr>\n",
       "    <tr>\n",
       "      <th>1</th>\n",
       "      <td>732895</td>\n",
       "      <td>Looks like be have an abuser , can you please ...</td>\n",
       "    </tr>\n",
       "    <tr>\n",
       "      <th>2</th>\n",
       "      <td>1139051</td>\n",
       "      <td>I confess to having complete (and apparently b...</td>\n",
       "    </tr>\n",
       "  </tbody>\n",
       "</table>\n",
       "</div>"
      ],
      "text/plain": [
       "   comment_id                                               text\n",
       "0      114890  \"\\n \\n\\nGjalexei, you asked about whether ther...\n",
       "1      732895  Looks like be have an abuser , can you please ...\n",
       "2     1139051  I confess to having complete (and apparently b..."
      ]
     },
     "execution_count": 9,
     "metadata": {},
     "output_type": "execute_result"
    }
   ],
   "source": [
    "test.head(3)"
   ]
  },
  {
   "cell_type": "markdown",
   "id": "c7021b5a",
   "metadata": {},
   "source": [
    "*Тестовая выборка содержит только id и текст комментария. Вероятностную оценку токсичности комментария нам нужно найти*"
   ]
  },
  {
   "cell_type": "markdown",
   "id": "1f7fd25c",
   "metadata": {},
   "source": [
    "**Основные статистики тренировочной выборки:**"
   ]
  },
  {
   "cell_type": "code",
   "execution_count": 10,
   "id": "6fc94ccc",
   "metadata": {},
   "outputs": [
    {
     "data": {
      "text/html": [
       "<div>\n",
       "<style scoped>\n",
       "    .dataframe tbody tr th:only-of-type {\n",
       "        vertical-align: middle;\n",
       "    }\n",
       "\n",
       "    .dataframe tbody tr th {\n",
       "        vertical-align: top;\n",
       "    }\n",
       "\n",
       "    .dataframe thead th {\n",
       "        text-align: right;\n",
       "    }\n",
       "</style>\n",
       "<table border=\"1\" class=\"dataframe\">\n",
       "  <thead>\n",
       "    <tr style=\"text-align: right;\">\n",
       "      <th></th>\n",
       "      <th>toxic</th>\n",
       "      <th>severe_toxic</th>\n",
       "      <th>obscene</th>\n",
       "      <th>threat</th>\n",
       "      <th>insult</th>\n",
       "      <th>identity_hate</th>\n",
       "    </tr>\n",
       "  </thead>\n",
       "  <tbody>\n",
       "    <tr>\n",
       "      <th>count</th>\n",
       "      <td>159571.000000</td>\n",
       "      <td>159571.000000</td>\n",
       "      <td>159571.000000</td>\n",
       "      <td>159571.000000</td>\n",
       "      <td>159571.000000</td>\n",
       "      <td>159571.000000</td>\n",
       "    </tr>\n",
       "    <tr>\n",
       "      <th>mean</th>\n",
       "      <td>0.095844</td>\n",
       "      <td>0.009996</td>\n",
       "      <td>0.052948</td>\n",
       "      <td>0.002996</td>\n",
       "      <td>0.049364</td>\n",
       "      <td>0.008805</td>\n",
       "    </tr>\n",
       "    <tr>\n",
       "      <th>std</th>\n",
       "      <td>0.294379</td>\n",
       "      <td>0.099477</td>\n",
       "      <td>0.223931</td>\n",
       "      <td>0.054650</td>\n",
       "      <td>0.216627</td>\n",
       "      <td>0.093420</td>\n",
       "    </tr>\n",
       "    <tr>\n",
       "      <th>min</th>\n",
       "      <td>0.000000</td>\n",
       "      <td>0.000000</td>\n",
       "      <td>0.000000</td>\n",
       "      <td>0.000000</td>\n",
       "      <td>0.000000</td>\n",
       "      <td>0.000000</td>\n",
       "    </tr>\n",
       "    <tr>\n",
       "      <th>25%</th>\n",
       "      <td>0.000000</td>\n",
       "      <td>0.000000</td>\n",
       "      <td>0.000000</td>\n",
       "      <td>0.000000</td>\n",
       "      <td>0.000000</td>\n",
       "      <td>0.000000</td>\n",
       "    </tr>\n",
       "    <tr>\n",
       "      <th>50%</th>\n",
       "      <td>0.000000</td>\n",
       "      <td>0.000000</td>\n",
       "      <td>0.000000</td>\n",
       "      <td>0.000000</td>\n",
       "      <td>0.000000</td>\n",
       "      <td>0.000000</td>\n",
       "    </tr>\n",
       "    <tr>\n",
       "      <th>75%</th>\n",
       "      <td>0.000000</td>\n",
       "      <td>0.000000</td>\n",
       "      <td>0.000000</td>\n",
       "      <td>0.000000</td>\n",
       "      <td>0.000000</td>\n",
       "      <td>0.000000</td>\n",
       "    </tr>\n",
       "    <tr>\n",
       "      <th>max</th>\n",
       "      <td>1.000000</td>\n",
       "      <td>1.000000</td>\n",
       "      <td>1.000000</td>\n",
       "      <td>1.000000</td>\n",
       "      <td>1.000000</td>\n",
       "      <td>1.000000</td>\n",
       "    </tr>\n",
       "  </tbody>\n",
       "</table>\n",
       "</div>"
      ],
      "text/plain": [
       "               toxic   severe_toxic        obscene         threat  \\\n",
       "count  159571.000000  159571.000000  159571.000000  159571.000000   \n",
       "mean        0.095844       0.009996       0.052948       0.002996   \n",
       "std         0.294379       0.099477       0.223931       0.054650   \n",
       "min         0.000000       0.000000       0.000000       0.000000   \n",
       "25%         0.000000       0.000000       0.000000       0.000000   \n",
       "50%         0.000000       0.000000       0.000000       0.000000   \n",
       "75%         0.000000       0.000000       0.000000       0.000000   \n",
       "max         1.000000       1.000000       1.000000       1.000000   \n",
       "\n",
       "              insult  identity_hate  \n",
       "count  159571.000000  159571.000000  \n",
       "mean        0.049364       0.008805  \n",
       "std         0.216627       0.093420  \n",
       "min         0.000000       0.000000  \n",
       "25%         0.000000       0.000000  \n",
       "50%         0.000000       0.000000  \n",
       "75%         0.000000       0.000000  \n",
       "max         1.000000       1.000000  "
      ]
     },
     "execution_count": 10,
     "metadata": {},
     "output_type": "execute_result"
    }
   ],
   "source": [
    "train.describe()"
   ]
  },
  {
   "cell_type": "markdown",
   "id": "7f0e1c89",
   "metadata": {},
   "source": [
    "*Все признаки являются бинарными. Не адекватные значения в признаках не наблюдаются.*"
   ]
  },
  {
   "cell_type": "markdown",
   "id": "314c91a9",
   "metadata": {},
   "source": [
    "*Посмотрим на распределение классов*"
   ]
  },
  {
   "cell_type": "code",
   "execution_count": 11,
   "id": "d37671cf",
   "metadata": {},
   "outputs": [
    {
     "data": {
      "text/plain": [
       "0    144277\n",
       "1     15294\n",
       "Name: toxic, dtype: int64"
      ]
     },
     "execution_count": 11,
     "metadata": {},
     "output_type": "execute_result"
    }
   ],
   "source": [
    "train['toxic'].value_counts()"
   ]
  },
  {
   "cell_type": "markdown",
   "id": "2d695dd1",
   "metadata": {},
   "source": [
    "*Очень не равномерная выборка: 1 к 9*"
   ]
  },
  {
   "cell_type": "markdown",
   "id": "82230cb9",
   "metadata": {},
   "source": [
    "### 2. Обработка пропусков<a id='pass'>"
   ]
  },
  {
   "cell_type": "markdown",
   "id": "a69e4b9f",
   "metadata": {},
   "source": [
    "*Посмотрим на пропуски в выборке, и при необходимости заполним их.*"
   ]
  },
  {
   "cell_type": "code",
   "execution_count": 12,
   "id": "cce06d1f",
   "metadata": {},
   "outputs": [
    {
     "data": {
      "text/plain": [
       "id               0\n",
       "text             0\n",
       "toxic            0\n",
       "severe_toxic     0\n",
       "obscene          0\n",
       "threat           0\n",
       "insult           0\n",
       "identity_hate    0\n",
       "dtype: int64"
      ]
     },
     "execution_count": 12,
     "metadata": {},
     "output_type": "execute_result"
    }
   ],
   "source": [
    "train.isna().sum()"
   ]
  },
  {
   "cell_type": "markdown",
   "id": "d72aa7c9",
   "metadata": {},
   "source": [
    "### 3. Построение новых признаков<a class='new_feature' id='new_feature'>"
   ]
  },
  {
   "cell_type": "markdown",
   "id": "011c736b",
   "metadata": {},
   "source": [
    "*Т.к. нам нужно найти вероятностную оценку токсичности комментария, можно добавить несколько категорий токсичности. В итоге получим признак с категорией токсичности.*"
   ]
  },
  {
   "cell_type": "code",
   "execution_count": 13,
   "id": "682eb40d",
   "metadata": {},
   "outputs": [],
   "source": [
    "def identity_hate_to_cat(X):\n",
    "    X['identity_hate_cat'] = 0\n",
    "    X.loc[X['identity_hate'] == 1, 'identity_hate_cat'] = 0.2\n",
    "    return X\n",
    "\n",
    "def insult_to_cat(X):\n",
    "    X['insult_cat'] = 0\n",
    "    X.loc[X['insult'] == 1, 'insult_cat'] = 0.4\n",
    "    return X\n",
    "\n",
    "def threat_to_cat(X):\n",
    "    X['threat_cat'] = 0\n",
    "    X.loc[X['threat'] == 1, 'threat_cat'] = 0.6\n",
    "    return X\n",
    "\n",
    "def obscene_to_cat(X):\n",
    "    X['obscene_cat'] = 0\n",
    "    X.loc[X['obscene'] == 1, 'obscene_cat'] = 0.8\n",
    "    return X\n",
    "\n",
    "def severe_toxic_to_cat(X):\n",
    "    X['severe_toxic_cat'] = 0\n",
    "    X.loc[X['severe_toxic'] == 1, 'severe_toxic_cat'] = 1\n",
    "    return X\n",
    "\n",
    "def toxic_to_cat(X):\n",
    "    X['toxic_cat'] = X['severe_toxic_cat'] + X['obscene_cat'] + X['threat_cat'] + X['insult_cat'] + X['identity_hate_cat']\n",
    "    return X"
   ]
  },
  {
   "cell_type": "code",
   "execution_count": 14,
   "id": "7378c0af",
   "metadata": {},
   "outputs": [
    {
     "data": {
      "text/html": [
       "<div>\n",
       "<style scoped>\n",
       "    .dataframe tbody tr th:only-of-type {\n",
       "        vertical-align: middle;\n",
       "    }\n",
       "\n",
       "    .dataframe tbody tr th {\n",
       "        vertical-align: top;\n",
       "    }\n",
       "\n",
       "    .dataframe thead th {\n",
       "        text-align: right;\n",
       "    }\n",
       "</style>\n",
       "<table border=\"1\" class=\"dataframe\">\n",
       "  <thead>\n",
       "    <tr style=\"text-align: right;\">\n",
       "      <th></th>\n",
       "      <th>id</th>\n",
       "      <th>text</th>\n",
       "      <th>toxic</th>\n",
       "      <th>severe_toxic</th>\n",
       "      <th>obscene</th>\n",
       "      <th>threat</th>\n",
       "      <th>insult</th>\n",
       "      <th>identity_hate</th>\n",
       "      <th>identity_hate_cat</th>\n",
       "      <th>insult_cat</th>\n",
       "      <th>threat_cat</th>\n",
       "      <th>obscene_cat</th>\n",
       "      <th>severe_toxic_cat</th>\n",
       "      <th>toxic_cat</th>\n",
       "    </tr>\n",
       "  </thead>\n",
       "  <tbody>\n",
       "    <tr>\n",
       "      <th>159568</th>\n",
       "      <td>ffee36eab5c267c9</td>\n",
       "      <td>Spitzer \\n\\nUmm, theres no actual article for ...</td>\n",
       "      <td>0</td>\n",
       "      <td>0</td>\n",
       "      <td>0</td>\n",
       "      <td>0</td>\n",
       "      <td>0</td>\n",
       "      <td>0</td>\n",
       "      <td>0.0</td>\n",
       "      <td>0.0</td>\n",
       "      <td>0.0</td>\n",
       "      <td>0.0</td>\n",
       "      <td>0</td>\n",
       "      <td>0.0</td>\n",
       "    </tr>\n",
       "    <tr>\n",
       "      <th>159569</th>\n",
       "      <td>fff125370e4aaaf3</td>\n",
       "      <td>And it looks like it was actually you who put ...</td>\n",
       "      <td>0</td>\n",
       "      <td>0</td>\n",
       "      <td>0</td>\n",
       "      <td>0</td>\n",
       "      <td>0</td>\n",
       "      <td>0</td>\n",
       "      <td>0.0</td>\n",
       "      <td>0.0</td>\n",
       "      <td>0.0</td>\n",
       "      <td>0.0</td>\n",
       "      <td>0</td>\n",
       "      <td>0.0</td>\n",
       "    </tr>\n",
       "    <tr>\n",
       "      <th>159570</th>\n",
       "      <td>fff46fc426af1f9a</td>\n",
       "      <td>\"\\nAnd ... I really don't think you understand...</td>\n",
       "      <td>0</td>\n",
       "      <td>0</td>\n",
       "      <td>0</td>\n",
       "      <td>0</td>\n",
       "      <td>0</td>\n",
       "      <td>0</td>\n",
       "      <td>0.0</td>\n",
       "      <td>0.0</td>\n",
       "      <td>0.0</td>\n",
       "      <td>0.0</td>\n",
       "      <td>0</td>\n",
       "      <td>0.0</td>\n",
       "    </tr>\n",
       "  </tbody>\n",
       "</table>\n",
       "</div>"
      ],
      "text/plain": [
       "                      id                                               text  \\\n",
       "159568  ffee36eab5c267c9  Spitzer \\n\\nUmm, theres no actual article for ...   \n",
       "159569  fff125370e4aaaf3  And it looks like it was actually you who put ...   \n",
       "159570  fff46fc426af1f9a  \"\\nAnd ... I really don't think you understand...   \n",
       "\n",
       "        toxic  severe_toxic  obscene  threat  insult  identity_hate  \\\n",
       "159568      0             0        0       0       0              0   \n",
       "159569      0             0        0       0       0              0   \n",
       "159570      0             0        0       0       0              0   \n",
       "\n",
       "        identity_hate_cat  insult_cat  threat_cat  obscene_cat  \\\n",
       "159568                0.0         0.0         0.0          0.0   \n",
       "159569                0.0         0.0         0.0          0.0   \n",
       "159570                0.0         0.0         0.0          0.0   \n",
       "\n",
       "        severe_toxic_cat  toxic_cat  \n",
       "159568                 0        0.0  \n",
       "159569                 0        0.0  \n",
       "159570                 0        0.0  "
      ]
     },
     "execution_count": 14,
     "metadata": {},
     "output_type": "execute_result"
    }
   ],
   "source": [
    "identity_hate_to_cat(train)\n",
    "insult_to_cat(train)\n",
    "threat_to_cat(train)\n",
    "obscene_to_cat(train)\n",
    "severe_toxic_to_cat(train)\n",
    "toxic_to_cat(train)\n",
    "train.tail(3)"
   ]
  },
  {
   "cell_type": "code",
   "execution_count": 15,
   "id": "28b33901",
   "metadata": {},
   "outputs": [
    {
     "data": {
      "text/plain": [
       "0.0    149012\n",
       "1.2      3981\n",
       "0.8      2082\n",
       "0.4      1516\n",
       "2.2       989\n",
       "1.4       636\n",
       "2.4       265\n",
       "0.2       190\n",
       "0.6       162\n",
       "1.8       159\n",
       "0.6       135\n",
       "1.8       133\n",
       "1.0        98\n",
       "2.8        64\n",
       "2.0        56\n",
       "3.0        31\n",
       "1.4        27\n",
       "1.6        11\n",
       "1.6         7\n",
       "2.0         7\n",
       "1.2         6\n",
       "2.4         4\n",
       "Name: toxic_cat, dtype: int64"
      ]
     },
     "execution_count": 15,
     "metadata": {},
     "output_type": "execute_result"
    }
   ],
   "source": [
    "train['toxic_cat'].value_counts()"
   ]
  },
  {
   "cell_type": "code",
   "execution_count": 16,
   "id": "50ccb829",
   "metadata": {},
   "outputs": [
    {
     "data": {
      "text/plain": [
       "0    144277\n",
       "1     15294\n",
       "Name: toxic, dtype: int64"
      ]
     },
     "execution_count": 16,
     "metadata": {},
     "output_type": "execute_result"
    }
   ],
   "source": [
    "train['toxic'].value_counts()"
   ]
  },
  {
   "cell_type": "markdown",
   "id": "9d6d7ff4",
   "metadata": {},
   "source": [
    "### 4. Построение графиков<a class='plot' id='plot'>"
   ]
  },
  {
   "cell_type": "code",
   "execution_count": 17,
   "id": "5cd5c12b",
   "metadata": {},
   "outputs": [
    {
     "data": {
      "text/plain": [
       "<AxesSubplot:xlabel='toxic', ylabel='Density'>"
      ]
     },
     "execution_count": 17,
     "metadata": {},
     "output_type": "execute_result"
    },
    {
     "data": {
      "image/png": "[encoded data removed]",
      "text/plain": [
       "<Figure size 432x288 with 1 Axes>"
      ]
     },
     "metadata": {
      "needs_background": "light"
     },
     "output_type": "display_data"
    }
   ],
   "source": [
    "y = train['toxic']\n",
    "sns.distplot(y, bins=10)"
   ]
  },
  {
   "cell_type": "markdown",
   "id": "f87240ba",
   "metadata": {},
   "source": [
    "*Наблюдаем не равномерное распределение целевой переменной. Нулевые (не токсичные) комментарии преобладают.*"
   ]
  },
  {
   "cell_type": "markdown",
   "id": "7bebf92c",
   "metadata": {},
   "source": [
    "*Построим столбчатые диаграммы распределений для признаков*"
   ]
  },
  {
   "cell_type": "code",
   "execution_count": 18,
   "id": "4865023a",
   "metadata": {},
   "outputs": [],
   "source": [
    "\n",
    "df_num_features = train[['text', 'severe_toxic', 'obscene', 'threat', 'insult', 'identity_hate', \n",
    "                         'identity_hate_cat', 'insult_cat', 'threat_cat', 'obscene_cat', 'severe_toxic_cat', 'toxic_cat']]"
   ]
  },
  {
   "cell_type": "code",
   "execution_count": 19,
   "id": "19fcd595",
   "metadata": {},
   "outputs": [
    {
     "data": {
      "image/png": "[encoded data removed]",
      "text/plain": [
       "<Figure size 720x648 with 12 Axes>"
      ]
     },
     "metadata": {
      "needs_background": "light"
     },
     "output_type": "display_data"
    }
   ],
   "source": [
    "df_num_features.hist(figsize=(10,9), bins=6, grid=False);\n",
    "plt.tight_layout()\n",
    "plt.show()"
   ]
  },
  {
   "cell_type": "markdown",
   "id": "726a5915",
   "metadata": {},
   "source": [
    "*Можем наблюдать, что больше всего непристойных комментариев и с оскорблениями, т.к. токсичность этих признаков хорошо видна на графиках*"
   ]
  },
  {
   "cell_type": "markdown",
   "id": "18e1775f",
   "metadata": {},
   "source": [
    "##### матрица кореляций признаков<a class='anchor' id='matrix'>"
   ]
  },
  {
   "cell_type": "code",
   "execution_count": 20,
   "id": "7747fd14",
   "metadata": {},
   "outputs": [
    {
     "data": {
      "image/png": "[encoded data removed]",
      "text/plain": [
       "<Figure size 864x576 with 2 Axes>"
      ]
     },
     "metadata": {
      "needs_background": "light"
     },
     "output_type": "display_data"
    }
   ],
   "source": [
    "\n",
    "\n",
    "plt.figure(figsize = (12, 8))\n",
    "\n",
    "sns.set(font_scale=1.0)\n",
    "\n",
    "corr_matrix=train.corr()\n",
    "corr_matrix = np.round(corr_matrix, 2)\n",
    "corr_matrix[np.abs(corr_matrix) < 0.3] = 0\n",
    "\n",
    "sns.heatmap(corr_matrix, annot=True, linewidths=0.5, cmap='coolwarm')\n",
    "\n",
    "plt.title('Correlation matrix')\n",
    "plt.show()"
   ]
  },
  {
   "cell_type": "markdown",
   "id": "01dd6dcf",
   "metadata": {},
   "source": [
    "*Примерно половина всех признаков достаточно хорошо коррелируют друг с другом*"
   ]
  },
  {
   "cell_type": "markdown",
   "id": "d7898a99",
   "metadata": {},
   "source": [
    "### 5. Разбиение на train и valid<a class='splitting' id='splitting'>"
   ]
  },
  {
   "cell_type": "markdown",
   "id": "a1338a6f",
   "metadata": {},
   "source": [
    "*Подготовим данные для разбивки на тренировочную и валидационную выборки. Тестовая выборка у нас есть.*"
   ]
  },
  {
   "cell_type": "code",
   "execution_count": 21,
   "id": "e4263c06",
   "metadata": {},
   "outputs": [
    {
     "data": {
      "text/html": [
       "<div>\n",
       "<style scoped>\n",
       "    .dataframe tbody tr th:only-of-type {\n",
       "        vertical-align: middle;\n",
       "    }\n",
       "\n",
       "    .dataframe tbody tr th {\n",
       "        vertical-align: top;\n",
       "    }\n",
       "\n",
       "    .dataframe thead th {\n",
       "        text-align: right;\n",
       "    }\n",
       "</style>\n",
       "<table border=\"1\" class=\"dataframe\">\n",
       "  <thead>\n",
       "    <tr style=\"text-align: right;\">\n",
       "      <th></th>\n",
       "      <th>id</th>\n",
       "      <th>text</th>\n",
       "      <th>severe_toxic</th>\n",
       "      <th>obscene</th>\n",
       "      <th>threat</th>\n",
       "      <th>insult</th>\n",
       "      <th>identity_hate</th>\n",
       "      <th>identity_hate_cat</th>\n",
       "      <th>insult_cat</th>\n",
       "      <th>threat_cat</th>\n",
       "      <th>obscene_cat</th>\n",
       "      <th>severe_toxic_cat</th>\n",
       "      <th>toxic_cat</th>\n",
       "    </tr>\n",
       "  </thead>\n",
       "  <tbody>\n",
       "    <tr>\n",
       "      <th>0</th>\n",
       "      <td>0000997932d777bf</td>\n",
       "      <td>Explanation\\nWhy the edits made under my usern...</td>\n",
       "      <td>0</td>\n",
       "      <td>0</td>\n",
       "      <td>0</td>\n",
       "      <td>0</td>\n",
       "      <td>0</td>\n",
       "      <td>0.0</td>\n",
       "      <td>0.0</td>\n",
       "      <td>0.0</td>\n",
       "      <td>0.0</td>\n",
       "      <td>0</td>\n",
       "      <td>0.0</td>\n",
       "    </tr>\n",
       "    <tr>\n",
       "      <th>1</th>\n",
       "      <td>000103f0d9cfb60f</td>\n",
       "      <td>D'aww! He matches this background colour I'm s...</td>\n",
       "      <td>0</td>\n",
       "      <td>0</td>\n",
       "      <td>0</td>\n",
       "      <td>0</td>\n",
       "      <td>0</td>\n",
       "      <td>0.0</td>\n",
       "      <td>0.0</td>\n",
       "      <td>0.0</td>\n",
       "      <td>0.0</td>\n",
       "      <td>0</td>\n",
       "      <td>0.0</td>\n",
       "    </tr>\n",
       "    <tr>\n",
       "      <th>2</th>\n",
       "      <td>000113f07ec002fd</td>\n",
       "      <td>Hey man, I'm really not trying to edit war. It...</td>\n",
       "      <td>0</td>\n",
       "      <td>0</td>\n",
       "      <td>0</td>\n",
       "      <td>0</td>\n",
       "      <td>0</td>\n",
       "      <td>0.0</td>\n",
       "      <td>0.0</td>\n",
       "      <td>0.0</td>\n",
       "      <td>0.0</td>\n",
       "      <td>0</td>\n",
       "      <td>0.0</td>\n",
       "    </tr>\n",
       "  </tbody>\n",
       "</table>\n",
       "</div>"
      ],
      "text/plain": [
       "                 id                                               text  \\\n",
       "0  0000997932d777bf  Explanation\\nWhy the edits made under my usern...   \n",
       "1  000103f0d9cfb60f  D'aww! He matches this background colour I'm s...   \n",
       "2  000113f07ec002fd  Hey man, I'm really not trying to edit war. It...   \n",
       "\n",
       "   severe_toxic  obscene  threat  insult  identity_hate  identity_hate_cat  \\\n",
       "0             0        0       0       0              0                0.0   \n",
       "1             0        0       0       0              0                0.0   \n",
       "2             0        0       0       0              0                0.0   \n",
       "\n",
       "   insult_cat  threat_cat  obscene_cat  severe_toxic_cat  toxic_cat  \n",
       "0         0.0         0.0          0.0                 0        0.0  \n",
       "1         0.0         0.0          0.0                 0        0.0  \n",
       "2         0.0         0.0          0.0                 0        0.0  "
      ]
     },
     "execution_count": 21,
     "metadata": {},
     "output_type": "execute_result"
    }
   ],
   "source": [
    "x = train.drop('toxic', axis=1)\n",
    "x.head(3)"
   ]
  },
  {
   "cell_type": "markdown",
   "id": "02f5d707",
   "metadata": {},
   "source": [
    "Сделаем тренировочную и тестовую выборки"
   ]
  },
  {
   "cell_type": "code",
   "execution_count": 22,
   "id": "a3d22bbd",
   "metadata": {},
   "outputs": [],
   "source": [
    "#разделим данные на train/test\n",
    "X_train, X_valid, y_train, y_valid = train_test_split(x, y,\n",
    "                                                    random_state=0)"
   ]
  },
  {
   "cell_type": "code",
   "execution_count": 23,
   "id": "478b2cfc",
   "metadata": {},
   "outputs": [
    {
     "data": {
      "text/html": [
       "<div>\n",
       "<style scoped>\n",
       "    .dataframe tbody tr th:only-of-type {\n",
       "        vertical-align: middle;\n",
       "    }\n",
       "\n",
       "    .dataframe tbody tr th {\n",
       "        vertical-align: top;\n",
       "    }\n",
       "\n",
       "    .dataframe thead th {\n",
       "        text-align: right;\n",
       "    }\n",
       "</style>\n",
       "<table border=\"1\" class=\"dataframe\">\n",
       "  <thead>\n",
       "    <tr style=\"text-align: right;\">\n",
       "      <th></th>\n",
       "      <th>id</th>\n",
       "      <th>text</th>\n",
       "      <th>severe_toxic</th>\n",
       "      <th>obscene</th>\n",
       "      <th>threat</th>\n",
       "      <th>insult</th>\n",
       "      <th>identity_hate</th>\n",
       "      <th>identity_hate_cat</th>\n",
       "      <th>insult_cat</th>\n",
       "      <th>threat_cat</th>\n",
       "      <th>obscene_cat</th>\n",
       "      <th>severe_toxic_cat</th>\n",
       "      <th>toxic_cat</th>\n",
       "    </tr>\n",
       "  </thead>\n",
       "  <tbody>\n",
       "    <tr>\n",
       "      <th>143075</th>\n",
       "      <td>fd12f8b7fe7711de</td>\n",
       "      <td>Please do not add unsourced or original conten...</td>\n",
       "      <td>0</td>\n",
       "      <td>0</td>\n",
       "      <td>0</td>\n",
       "      <td>0</td>\n",
       "      <td>0</td>\n",
       "      <td>0.0</td>\n",
       "      <td>0.0</td>\n",
       "      <td>0.0</td>\n",
       "      <td>0.0</td>\n",
       "      <td>0</td>\n",
       "      <td>0.0</td>\n",
       "    </tr>\n",
       "    <tr>\n",
       "      <th>65320</th>\n",
       "      <td>aecd3c58cea43a2e</td>\n",
       "      <td>This page needs a new update of the UMW seal. ...</td>\n",
       "      <td>0</td>\n",
       "      <td>0</td>\n",
       "      <td>0</td>\n",
       "      <td>0</td>\n",
       "      <td>0</td>\n",
       "      <td>0.0</td>\n",
       "      <td>0.0</td>\n",
       "      <td>0.0</td>\n",
       "      <td>0.0</td>\n",
       "      <td>0</td>\n",
       "      <td>0.0</td>\n",
       "    </tr>\n",
       "    <tr>\n",
       "      <th>64545</th>\n",
       "      <td>acc1d1946d2c7259</td>\n",
       "      <td>\"\\n\\nOh, so sad! Why you always remind of me? ...</td>\n",
       "      <td>0</td>\n",
       "      <td>0</td>\n",
       "      <td>0</td>\n",
       "      <td>0</td>\n",
       "      <td>0</td>\n",
       "      <td>0.0</td>\n",
       "      <td>0.0</td>\n",
       "      <td>0.0</td>\n",
       "      <td>0.0</td>\n",
       "      <td>0</td>\n",
       "      <td>0.0</td>\n",
       "    </tr>\n",
       "  </tbody>\n",
       "</table>\n",
       "</div>"
      ],
      "text/plain": [
       "                      id                                               text  \\\n",
       "143075  fd12f8b7fe7711de  Please do not add unsourced or original conten...   \n",
       "65320   aecd3c58cea43a2e  This page needs a new update of the UMW seal. ...   \n",
       "64545   acc1d1946d2c7259  \"\\n\\nOh, so sad! Why you always remind of me? ...   \n",
       "\n",
       "        severe_toxic  obscene  threat  insult  identity_hate  \\\n",
       "143075             0        0       0       0              0   \n",
       "65320              0        0       0       0              0   \n",
       "64545              0        0       0       0              0   \n",
       "\n",
       "        identity_hate_cat  insult_cat  threat_cat  obscene_cat  \\\n",
       "143075                0.0         0.0         0.0          0.0   \n",
       "65320                 0.0         0.0         0.0          0.0   \n",
       "64545                 0.0         0.0         0.0          0.0   \n",
       "\n",
       "        severe_toxic_cat  toxic_cat  \n",
       "143075                 0        0.0  \n",
       "65320                  0        0.0  \n",
       "64545                  0        0.0  "
      ]
     },
     "execution_count": 23,
     "metadata": {},
     "output_type": "execute_result"
    }
   ],
   "source": [
    "X_train.head(3)"
   ]
  },
  {
   "cell_type": "markdown",
   "id": "7cdfeb96",
   "metadata": {},
   "source": [
    "### 6. Построение модели<a class='model' id='model'>"
   ]
  },
  {
   "cell_type": "markdown",
   "id": "c45ec3b0",
   "metadata": {},
   "source": [
    "Построим простое векторное представление текстов и обучим логистическую регрессию (параметр TFiDF max_features )"
   ]
  },
  {
   "cell_type": "markdown",
   "id": "092599bb",
   "metadata": {},
   "source": [
    "### модель 1. LogisticRegression"
   ]
  },
  {
   "cell_type": "code",
   "execution_count": 24,
   "id": "9f9e1093",
   "metadata": {},
   "outputs": [
    {
     "name": "stdout",
     "output_type": "stream",
     "text": [
      "CV score is 0.9536945169001401\n",
      "Wall time: 19.4 s\n"
     ]
    }
   ],
   "source": [
    "%%time\n",
    "from sklearn.ensemble import GradientBoostingRegressor\n",
    "\n",
    "#соберем наш простой pipeline, но нам понадобится написать класс для выбора нужного поля\n",
    "class FeatureSelector(BaseEstimator, TransformerMixin):\n",
    "    def __init__(self, column):\n",
    "        self.column = column\n",
    "\n",
    "    def fit(self, X, y=None):\n",
    "        return self\n",
    "\n",
    "    def transform(self, X, y=None):\n",
    "        return X[self.column]\n",
    "\n",
    "model = Pipeline([('comment_text_selector', FeatureSelector(column='text')), \n",
    "                     ('comment_text_tfidf', TfidfVectorizer(sublinear_tf=True,\n",
    "                                                            strip_accents='unicode',\n",
    "                                                            analyzer='word',\n",
    "                                                            token_pattern=r'\\w{1,}',\n",
    "                                                            stop_words='english',\n",
    "                                                            ngram_range=(1, 1),\n",
    "                                                            max_features=6000)), \n",
    "                     ('clf', LogisticRegression(C=0.1, solver='sag'))])\n",
    "\n",
    "#запустим кросс-валидацию\n",
    "cv_scores = cross_val_score(model, X_train, y_train, cv=3, scoring='roc_auc')\n",
    "cv_score = np.mean(cv_scores)\n",
    "print('CV score is {}'.format(cv_score))\n",
    "\n"
   ]
  },
  {
   "cell_type": "markdown",
   "id": "e2ee5dd7",
   "metadata": {},
   "source": [
    "#### Обучение\n"
   ]
  },
  {
   "cell_type": "code",
   "execution_count": 25,
   "id": "c4935fbd",
   "metadata": {},
   "outputs": [
    {
     "name": "stdout",
     "output_type": "stream",
     "text": [
      "Wall time: 8.7 s\n"
     ]
    }
   ],
   "source": [
    "%%time\n",
    "#обучим пайплайн на всем тренировочном датасете\n",
    "model.fit(X_train, y_train)\n",
    "y_score = model.predict_proba(X_valid)[:, 1]"
   ]
  },
  {
   "cell_type": "markdown",
   "id": "628c5d52",
   "metadata": {},
   "source": [
    "#### Оценка модели"
   ]
  },
  {
   "cell_type": "markdown",
   "id": "745950bf",
   "metadata": {},
   "source": [
    "Воспользуемся доступным в sklearn инструментарием, чтобы получить оптимальный порог"
   ]
  },
  {
   "cell_type": "code",
   "execution_count": 26,
   "id": "bda0ce30",
   "metadata": {},
   "outputs": [
    {
     "name": "stdout",
     "output_type": "stream",
     "text": [
      "Best Threshold=0.190682, F-Score=0.748, Precision=0.789, Recall=0.711\n"
     ]
    },
    {
     "data": {
      "text/plain": [
       "(None, None)"
      ]
     },
     "execution_count": 26,
     "metadata": {},
     "output_type": "execute_result"
    }
   ],
   "source": [
    "import numpy as np\n",
    "from sklearn.metrics import precision_recall_curve, roc_curve, roc_auc_score, confusion_matrix\n",
    "\n",
    "b=1\n",
    "\n",
    "precision, recall, thresholds = precision_recall_curve(y_valid.values, y_score)\n",
    "fscore = (1+b**2)*(precision * recall) / (b**2*precision + recall)\n",
    "# locate the index of the largest f score\n",
    "ix = np.argmax(fscore)\n",
    "print('Best Threshold=%f, F-Score=%.3f, Precision=%.3f, Recall=%.3f' % (thresholds[ix], \n",
    "                                                                        fscore[ix],\n",
    "                                                                        precision[ix],\n",
    "                                                                        recall[ix]))\n",
    "l1=[]\n",
    "l1.append('LogisticRegression')\n",
    "l1.append(format(thresholds[ix], '.3f')), l1.append(format(fscore[ix], '.3f')),  \n",
    "l1.append(format(precision[ix], '.3f')), l1.append(format(recall[ix], '.3f'))"
   ]
  },
  {
   "cell_type": "markdown",
   "id": "1bb1419f",
   "metadata": {},
   "source": [
    "Нарисуем roc кривую"
   ]
  },
  {
   "cell_type": "code",
   "execution_count": 27,
   "id": "cfa24bde",
   "metadata": {
    "scrolled": false
   },
   "outputs": [
    {
     "data": {
      "image/png": "[encoded data removed]",
      "text/plain": [
       "<Figure size 720x576 with 1 Axes>"
      ]
     },
     "metadata": {},
     "output_type": "display_data"
    }
   ],
   "source": [
    "sns.set(font_scale=1.5)\n",
    "sns.set_color_codes(\"muted\")\n",
    "\n",
    "plt.figure(figsize=(10, 8))\n",
    "# fpr, tpr, thresholds_ = roc_curve(y_test, y_score, pos_label=1) # при max_features=100\n",
    "# fpr1, tpr1, thresholds_ = roc_curve(y_test, y_score, pos_label=1) # при max_features=1000\n",
    "# fpr2, tpr2, thresholds_ = roc_curve(y_test, y_score, pos_label=1) # при max_features=2000\n",
    "# fpr3, tpr3, thresholds_ = roc_curve(y_test, y_score, pos_label=1) # при max_features=4000\n",
    "fpr4, tpr4, thresholds_ = roc_curve(y_valid, y_score, pos_label=1) # при max_features=6000\n",
    "\n",
    "# plt.plot(fpr, tpr, lw=lw,color = 'r', label='ROC curve max_features=100')\n",
    "# plt.plot(fpr1, tpr1, lw=2,color = 'b', label='ROC curve max_features=1000')\n",
    "# plt.plot(fpr2, tpr2, lw=1,color = 'g', label='ROC curve max_features=2000')\n",
    "# plt.plot(fpr3, tpr3, lw=2,color = 'y', label='ROC curve max_features=4000')\n",
    "plt.plot(fpr4, tpr4, lw=2,color = 'g', label='ROC curve max_features=6000')\n",
    "plt.plot([0, 1], [0, 1])\n",
    "plt.xlim([0.0, 1.0])\n",
    "plt.ylim([0.0, 1.05])\n",
    "plt.xlabel('False Positive Rate')\n",
    "plt.ylabel('True Positive Rate')\n",
    "plt.title('ROC curve')\n",
    "plt.legend()\n",
    "plt.savefig(\"ROC.png\")\n",
    "plt.show()"
   ]
  },
  {
   "cell_type": "markdown",
   "id": "aaf49ffe",
   "metadata": {},
   "source": [
    "*Лучше всего себя показала модель с max_features=6000*"
   ]
  },
  {
   "cell_type": "markdown",
   "id": "96f06a18",
   "metadata": {},
   "source": [
    "### модель 2. GradientBoostingClassifier"
   ]
  },
  {
   "cell_type": "code",
   "execution_count": 28,
   "id": "85a9f8ad",
   "metadata": {},
   "outputs": [
    {
     "name": "stdout",
     "output_type": "stream",
     "text": [
      "CV score is 0.8908426513464022\n",
      "Wall time: 2min 31s\n"
     ]
    }
   ],
   "source": [
    "%%time\n",
    "from sklearn.ensemble import GradientBoostingClassifier\n",
    "model2 = Pipeline([('comment_text_selector', FeatureSelector(column='text')), \n",
    "                     ('comment_text_tfidf', TfidfVectorizer(sublinear_tf=True,\n",
    "                                                            strip_accents='unicode',\n",
    "                                                            analyzer='word',\n",
    "                                                            token_pattern=r'\\w{1,}',\n",
    "                                                            stop_words='english',\n",
    "                                                            ngram_range=(1, 1),\n",
    "                                                            max_features=6000)), \n",
    "                     ('clf', GradientBoostingClassifier(random_state=42))])\n",
    "\n",
    "#запустим кросс-валидацию\n",
    "cv_scores = cross_val_score(model2, X_train, y_train, cv=3, scoring='roc_auc')\n",
    "cv_score = np.mean(cv_scores)\n",
    "print('CV score is {}'.format(cv_score))"
   ]
  },
  {
   "cell_type": "markdown",
   "id": "c78fd02a",
   "metadata": {},
   "source": [
    "#### Обучение\n"
   ]
  },
  {
   "cell_type": "code",
   "execution_count": 29,
   "id": "a0f51fb4",
   "metadata": {},
   "outputs": [
    {
     "name": "stdout",
     "output_type": "stream",
     "text": [
      "Wall time: 1min 25s\n"
     ]
    }
   ],
   "source": [
    "%%time\n",
    "#обучим пайплайн на всем тренировочном датасете\n",
    "model2.fit(X_train, y_train)\n",
    "y_score2 = model2.predict_proba(X_valid)[:, 1]"
   ]
  },
  {
   "cell_type": "markdown",
   "id": "58c00709",
   "metadata": {},
   "source": [
    "#### Оценка модели"
   ]
  },
  {
   "cell_type": "code",
   "execution_count": 30,
   "id": "51135842",
   "metadata": {},
   "outputs": [
    {
     "name": "stdout",
     "output_type": "stream",
     "text": [
      "Best Threshold=0.123819, F-Score=0.718, Precision=0.765, Recall=0.676\n"
     ]
    },
    {
     "data": {
      "text/plain": [
       "(None, None)"
      ]
     },
     "execution_count": 30,
     "metadata": {},
     "output_type": "execute_result"
    }
   ],
   "source": [
    "precision2, recall2, thresholds2 = precision_recall_curve(y_valid.values, y_score2)\n",
    "fscore2 = (1+b**2)*(precision2 * recall2) / (b**2*precision2 + recall2)\n",
    "# locate the index of the largest f score\n",
    "ix = np.argmax(fscore2)\n",
    "print('Best Threshold=%f, F-Score=%.3f, Precision=%.3f, Recall=%.3f' % (thresholds2[ix], \n",
    "                                                                        fscore2[ix],\n",
    "                                                                        precision2[ix],\n",
    "                                                                        recall2[ix]))\n",
    "l2=[]\n",
    "l2.append('GradientBoostingClassifier')\n",
    "l2.append(format(thresholds2[ix], '.3f')), l2.append(format(fscore2[ix], '.3f')),  \n",
    "l2.append(format(precision2[ix], '.3f')), l2.append(format(recall2[ix], '.3f'))"
   ]
  },
  {
   "cell_type": "markdown",
   "id": "ab925da0",
   "metadata": {},
   "source": [
    "### модель 3. RandomForestClassifier"
   ]
  },
  {
   "cell_type": "code",
   "execution_count": 31,
   "id": "7112f89f",
   "metadata": {},
   "outputs": [
    {
     "name": "stdout",
     "output_type": "stream",
     "text": [
      "CV score is 0.949785057348384\n",
      "Wall time: 6min 45s\n"
     ]
    }
   ],
   "source": [
    "%%time\n",
    "from sklearn.ensemble import RandomForestClassifier\n",
    "model3 = Pipeline([('comment_text_selector', FeatureSelector(column='text')), \n",
    "                     ('comment_text_tfidf', TfidfVectorizer(sublinear_tf=True,\n",
    "                                                            strip_accents='unicode',\n",
    "                                                            analyzer='word',\n",
    "                                                            token_pattern=r'\\w{1,}',\n",
    "                                                            stop_words='english',\n",
    "                                                            ngram_range=(1, 1),\n",
    "                                                            max_features=6000)), \n",
    "                     ('clf', RandomForestClassifier(random_state = 42))])\n",
    "\n",
    "#запустим кросс-валидацию\n",
    "cv_scores = cross_val_score(model3, X_train, y_train, cv=3, scoring='roc_auc')\n",
    "cv_score = np.mean(cv_scores)\n",
    "print('CV score is {}'.format(cv_score))"
   ]
  },
  {
   "cell_type": "markdown",
   "id": "09a794df",
   "metadata": {},
   "source": [
    "#### Обучение\n"
   ]
  },
  {
   "cell_type": "code",
   "execution_count": 32,
   "id": "f9f5bc96",
   "metadata": {},
   "outputs": [
    {
     "name": "stdout",
     "output_type": "stream",
     "text": [
      "Wall time: 4min 19s\n"
     ]
    }
   ],
   "source": [
    "%%time\n",
    "#обучим пайплайн на всем тренировочном датасете\n",
    "model3.fit(X_train, y_train)\n",
    "y_score3 = model3.predict_proba(X_valid)[:, 1]"
   ]
  },
  {
   "cell_type": "markdown",
   "id": "da46d3f2",
   "metadata": {},
   "source": [
    "#### Оценка модели"
   ]
  },
  {
   "cell_type": "code",
   "execution_count": 33,
   "id": "b85135dc",
   "metadata": {},
   "outputs": [
    {
     "name": "stdout",
     "output_type": "stream",
     "text": [
      "Best Threshold=0.414286, F-Score=0.755, Precision=0.799, Recall=0.716\n"
     ]
    },
    {
     "data": {
      "text/plain": [
       "(None, None)"
      ]
     },
     "execution_count": 33,
     "metadata": {},
     "output_type": "execute_result"
    }
   ],
   "source": [
    "precision3, recall3, thresholds3 = precision_recall_curve(y_valid.values, y_score3)\n",
    "fscore3 = (1+b**2)*(precision3 * recall3) / (b**2*precision3 + recall3)\n",
    "# locate the index of the largest f score\n",
    "ix = np.argmax(fscore3)\n",
    "print('Best Threshold=%f, F-Score=%.3f, Precision=%.3f, Recall=%.3f' % (thresholds3[ix], \n",
    "                                                                        fscore3[ix],\n",
    "                                                                        precision3[ix],\n",
    "                                                                        recall3[ix]))\n",
    "l3=[]\n",
    "l3.append('RandomForestClassifier')\n",
    "l3.append(format(thresholds3[ix], '.3f')), l3.append(format(fscore3[ix], '.3f')),  \n",
    "l3.append(format(precision3[ix], '.3f')), l3.append(format(recall3[ix], '.3f'))"
   ]
  },
  {
   "cell_type": "markdown",
   "id": "e7738b59",
   "metadata": {},
   "source": [
    "### 4 модель"
   ]
  },
  {
   "cell_type": "code",
   "execution_count": 45,
   "id": "8fcb2044",
   "metadata": {},
   "outputs": [
    {
     "name": "stdout",
     "output_type": "stream",
     "text": [
      "[14:46:26] WARNING: C:/Users/Administrator/workspace/xgboost-win64_release_1.5.0/src/learner.cc:1115: Starting in XGBoost 1.3.0, the default evaluation metric used with the objective 'binary:logistic' was changed from 'error' to 'logloss'. Explicitly set eval_metric if you'd like to restore the old behavior.\n",
      "[14:46:45] WARNING: C:/Users/Administrator/workspace/xgboost-win64_release_1.5.0/src/learner.cc:1115: Starting in XGBoost 1.3.0, the default evaluation metric used with the objective 'binary:logistic' was changed from 'error' to 'logloss'. Explicitly set eval_metric if you'd like to restore the old behavior.\n",
      "[14:47:04] WARNING: C:/Users/Administrator/workspace/xgboost-win64_release_1.5.0/src/learner.cc:1115: Starting in XGBoost 1.3.0, the default evaluation metric used with the objective 'binary:logistic' was changed from 'error' to 'logloss'. Explicitly set eval_metric if you'd like to restore the old behavior.\n",
      "CV score is 0.9442691781896722\n",
      "Wall time: 1min\n"
     ]
    }
   ],
   "source": [
    "%%time\n",
    "import xgboost as xgb\n",
    "\n",
    "\n",
    "model4 = Pipeline([('comment_text_selector', FeatureSelector(column='text')), \n",
    "                     ('comment_text_tfidf', TfidfVectorizer(sublinear_tf=True,\n",
    "                                                            strip_accents='unicode',\n",
    "                                                            analyzer='word',\n",
    "                                                            token_pattern=r'\\w{1,}',\n",
    "                                                            stop_words='english',\n",
    "                                                            ngram_range=(1, 1),\n",
    "                                                            max_features=6000)), \n",
    "                     ('clf', xgb.XGBClassifier(random_state=42))])\n",
    "\n",
    "#запустим кросс-валидацию\n",
    "cv_scores = cross_val_score(model4, X_train, y_train, cv=3, scoring='roc_auc')\n",
    "cv_score = np.mean(cv_scores)\n",
    "print('CV score is {}'.format(cv_score))"
   ]
  },
  {
   "cell_type": "code",
   "execution_count": 46,
   "id": "f65d8c71",
   "metadata": {},
   "outputs": [
    {
     "name": "stdout",
     "output_type": "stream",
     "text": [
      "[14:48:20] WARNING: C:/Users/Administrator/workspace/xgboost-win64_release_1.5.0/src/learner.cc:1115: Starting in XGBoost 1.3.0, the default evaluation metric used with the objective 'binary:logistic' was changed from 'error' to 'logloss'. Explicitly set eval_metric if you'd like to restore the old behavior.\n",
      "Wall time: 32 s\n"
     ]
    }
   ],
   "source": [
    "%%time\n",
    "#обучим пайплайн на всем тренировочном датасете\n",
    "model4.fit(X_train, y_train)\n",
    "y_score4 = model4.predict_proba(X_valid)[:, 1]"
   ]
  },
  {
   "cell_type": "code",
   "execution_count": 51,
   "id": "e42cc048",
   "metadata": {},
   "outputs": [
    {
     "name": "stdout",
     "output_type": "stream",
     "text": [
      "Best Threshold=0.216778, F-Score=0.758, Precision=0.791, Recall=0.728\n"
     ]
    },
    {
     "data": {
      "text/plain": [
       "(None, None)"
      ]
     },
     "execution_count": 51,
     "metadata": {},
     "output_type": "execute_result"
    }
   ],
   "source": [
    "precision4, recall4, thresholds4 = precision_recall_curve(y_valid.values, y_score4)\n",
    "fscore4 = (1+b**2)*(precision4 * recall4) / (b**2*precision4 + recall4)\n",
    "# locate the index of the largest f score\n",
    "ix = np.argmax(fscore4)\n",
    "print('Best Threshold=%f, F-Score=%.3f, Precision=%.3f, Recall=%.3f' % (thresholds4[ix], \n",
    "                                                                        fscore4[ix],\n",
    "                                                                        precision4[ix],\n",
    "                                                                        recall4[ix]))\n",
    "l4=[]\n",
    "l4.append('XGBClassifier')\n",
    "l4.append(format(thresholds4[ix], '.3f')), l4.append(format(fscore4[ix], '.3f')),  \n",
    "l4.append(format(precision4[ix], '.3f')), l4.append(format(recall4[ix], '.3f'))"
   ]
  },
  {
   "cell_type": "markdown",
   "id": "cfda2138",
   "metadata": {},
   "source": [
    "### 7. Отбор лучшей модели<a class='best_model' id='best_model'>"
   ]
  },
  {
   "cell_type": "code",
   "execution_count": 52,
   "id": "1fd77279",
   "metadata": {},
   "outputs": [
    {
     "data": {
      "text/html": [
       "<div>\n",
       "<style scoped>\n",
       "    .dataframe tbody tr th:only-of-type {\n",
       "        vertical-align: middle;\n",
       "    }\n",
       "\n",
       "    .dataframe tbody tr th {\n",
       "        vertical-align: top;\n",
       "    }\n",
       "\n",
       "    .dataframe thead th {\n",
       "        text-align: right;\n",
       "    }\n",
       "</style>\n",
       "<table border=\"1\" class=\"dataframe\">\n",
       "  <thead>\n",
       "    <tr style=\"text-align: right;\">\n",
       "      <th></th>\n",
       "      <th>Model</th>\n",
       "      <th>Threshold</th>\n",
       "      <th>F-Score</th>\n",
       "      <th>Precision</th>\n",
       "      <th>Recall</th>\n",
       "    </tr>\n",
       "  </thead>\n",
       "  <tbody>\n",
       "    <tr>\n",
       "      <th>3</th>\n",
       "      <td>XGBClassifier</td>\n",
       "      <td>0.217</td>\n",
       "      <td>0.758</td>\n",
       "      <td>0.791</td>\n",
       "      <td>0.728</td>\n",
       "    </tr>\n",
       "    <tr>\n",
       "      <th>2</th>\n",
       "      <td>RandomForestClassifier</td>\n",
       "      <td>0.414</td>\n",
       "      <td>0.755</td>\n",
       "      <td>0.799</td>\n",
       "      <td>0.716</td>\n",
       "    </tr>\n",
       "    <tr>\n",
       "      <th>0</th>\n",
       "      <td>LogisticRegression</td>\n",
       "      <td>0.191</td>\n",
       "      <td>0.748</td>\n",
       "      <td>0.789</td>\n",
       "      <td>0.711</td>\n",
       "    </tr>\n",
       "    <tr>\n",
       "      <th>1</th>\n",
       "      <td>GradientBoostingClassifier</td>\n",
       "      <td>0.124</td>\n",
       "      <td>0.718</td>\n",
       "      <td>0.765</td>\n",
       "      <td>0.676</td>\n",
       "    </tr>\n",
       "  </tbody>\n",
       "</table>\n",
       "</div>"
      ],
      "text/plain": [
       "                        Model Threshold F-Score Precision Recall\n",
       "3               XGBClassifier     0.217   0.758     0.791  0.728\n",
       "2      RandomForestClassifier     0.414   0.755     0.799  0.716\n",
       "0          LogisticRegression     0.191   0.748     0.789  0.711\n",
       "1  GradientBoostingClassifier     0.124   0.718     0.765  0.676"
      ]
     },
     "execution_count": 52,
     "metadata": {},
     "output_type": "execute_result"
    }
   ],
   "source": [
    "my_list = list()\n",
    "my_list.append(l1), my_list.append(l2), my_list.append(l3), my_list.append(l4)\n",
    "my_list = pd.DataFrame(my_list, columns=['Model','Threshold', 'F-Score', 'Precision', 'Recall'])\n",
    "my_list.sort_values('F-Score', ascending=False)"
   ]
  },
  {
   "cell_type": "markdown",
   "id": "1454f68a",
   "metadata": {},
   "source": [
    "*Лучше всего себя показала модель XGBClassifier. F-Score составил 0,758. Если сравнивать RandomForestClassifier и  LogisticRegression, то  у модели RandomForestClassifier времени для построения пайплайна и обучения модели ушло достаточно много: чуть более 10 минут. При этом у LogisticRegression на все ушло около 30 секунд, а метрика F-Score не значительно хуже и составила 0,748, что на 0,007(или на 0,9%) меньше RandomForestClassifier.* "
   ]
  },
  {
   "cell_type": "markdown",
   "id": "bba43750",
   "metadata": {},
   "source": [
    "### 8. Подбор гиперпараметров лучшей модели<a id='selection'>"
   ]
  },
  {
   "cell_type": "code",
   "execution_count": 63,
   "id": "3153c8a3",
   "metadata": {},
   "outputs": [],
   "source": [
    "params={'clf__eta':[0.1,0.3,0.6,0.9],\n",
    "        'clf__subsample':[0.3,0.5,0.7],\n",
    "        'clf__max_depth':[None]\n",
    "        }"
   ]
  },
  {
   "cell_type": "code",
   "execution_count": 65,
   "id": "9134e422",
   "metadata": {},
   "outputs": [
    {
     "name": "stdout",
     "output_type": "stream",
     "text": [
      "Wall time: 7min 12s\n"
     ]
    },
    {
     "data": {
      "text/plain": [
       "{'clf__eta': 0.1, 'clf__max_depth': None, 'clf__subsample': 0.5}"
      ]
     },
     "execution_count": 65,
     "metadata": {},
     "output_type": "execute_result"
    }
   ],
   "source": [
    "%%time\n",
    "from sklearn.model_selection import GridSearchCV, RandomizedSearchCV\n",
    "\n",
    "grid = GridSearchCV(model4,\n",
    "                    param_grid=params,\n",
    "                    cv=3,\n",
    "                    n_jobs=-1,\n",
    "                    refit=False)\n",
    "\n",
    "search = grid.fit(X_train, y_train)\n",
    "search.best_params_"
   ]
  },
  {
   "cell_type": "markdown",
   "id": "9ed3070a",
   "metadata": {},
   "source": [
    "*Далее обучу модель с лучшими параметрами для получения лучшей метрики*"
   ]
  },
  {
   "cell_type": "code",
   "execution_count": 68,
   "id": "896b4aad",
   "metadata": {},
   "outputs": [
    {
     "name": "stdout",
     "output_type": "stream",
     "text": [
      "[15:26:27] WARNING: C:/Users/Administrator/workspace/xgboost-win64_release_1.5.0/src/learner.cc:576: \n",
      "Parameters: { \"clf__eta\" } might not be used.\n",
      "\n",
      "  This could be a false alarm, with some parameters getting used by language bindings but\n",
      "  then being mistakenly passed down to XGBoost core, or some parameter actually being used\n",
      "  but getting flagged wrongly here. Please open an issue if you find any such cases.\n",
      "\n",
      "\n",
      "[15:26:27] WARNING: C:/Users/Administrator/workspace/xgboost-win64_release_1.5.0/src/learner.cc:1115: Starting in XGBoost 1.3.0, the default evaluation metric used with the objective 'binary:logistic' was changed from 'error' to 'logloss'. Explicitly set eval_metric if you'd like to restore the old behavior.\n",
      "[15:26:41] WARNING: C:/Users/Administrator/workspace/xgboost-win64_release_1.5.0/src/learner.cc:576: \n",
      "Parameters: { \"clf__eta\" } might not be used.\n",
      "\n",
      "  This could be a false alarm, with some parameters getting used by language bindings but\n",
      "  then being mistakenly passed down to XGBoost core, or some parameter actually being used\n",
      "  but getting flagged wrongly here. Please open an issue if you find any such cases.\n",
      "\n",
      "\n",
      "[15:26:41] WARNING: C:/Users/Administrator/workspace/xgboost-win64_release_1.5.0/src/learner.cc:1115: Starting in XGBoost 1.3.0, the default evaluation metric used with the objective 'binary:logistic' was changed from 'error' to 'logloss'. Explicitly set eval_metric if you'd like to restore the old behavior.\n",
      "[15:26:55] WARNING: C:/Users/Administrator/workspace/xgboost-win64_release_1.5.0/src/learner.cc:576: \n",
      "Parameters: { \"clf__eta\" } might not be used.\n",
      "\n",
      "  This could be a false alarm, with some parameters getting used by language bindings but\n",
      "  then being mistakenly passed down to XGBoost core, or some parameter actually being used\n",
      "  but getting flagged wrongly here. Please open an issue if you find any such cases.\n",
      "\n",
      "\n",
      "[15:26:55] WARNING: C:/Users/Administrator/workspace/xgboost-win64_release_1.5.0/src/learner.cc:1115: Starting in XGBoost 1.3.0, the default evaluation metric used with the objective 'binary:logistic' was changed from 'error' to 'logloss'. Explicitly set eval_metric if you'd like to restore the old behavior.\n",
      "CV score is 0.9454628494369595\n",
      "Wall time: 45.3 s\n"
     ]
    }
   ],
   "source": [
    "%%time\n",
    "from sklearn.ensemble import RandomForestClassifier\n",
    "model4 = Pipeline([('comment_text_selector', FeatureSelector(column='text')), \n",
    "                     ('comment_text_tfidf', TfidfVectorizer(sublinear_tf=True,\n",
    "                                                            strip_accents='unicode',\n",
    "                                                            analyzer='word',\n",
    "                                                            token_pattern=r'\\w{1,}',\n",
    "                                                            stop_words='english',\n",
    "                                                            ngram_range=(1, 1),\n",
    "                                                            max_features=6000)), \n",
    "                     ('clf', xgb.XGBClassifier(clf__eta= 0.1, clf__max_depth= None, subsample= 0.5, random_state=42))])\n",
    "\n",
    "#запустим кросс-валидацию\n",
    "cv_scores = cross_val_score(model4, X_train, y_train, cv=3, scoring='roc_auc')\n",
    "cv_score = np.mean(cv_scores)\n",
    "print('CV score is {}'.format(cv_score))"
   ]
  },
  {
   "cell_type": "markdown",
   "id": "751368fd",
   "metadata": {},
   "source": [
    "#### Обучение"
   ]
  },
  {
   "cell_type": "code",
   "execution_count": 69,
   "id": "69c90483",
   "metadata": {},
   "outputs": [
    {
     "name": "stdout",
     "output_type": "stream",
     "text": [
      "[15:28:00] WARNING: C:/Users/Administrator/workspace/xgboost-win64_release_1.5.0/src/learner.cc:576: \n",
      "Parameters: { \"clf__eta\" } might not be used.\n",
      "\n",
      "  This could be a false alarm, with some parameters getting used by language bindings but\n",
      "  then being mistakenly passed down to XGBoost core, or some parameter actually being used\n",
      "  but getting flagged wrongly here. Please open an issue if you find any such cases.\n",
      "\n",
      "\n",
      "[15:28:01] WARNING: C:/Users/Administrator/workspace/xgboost-win64_release_1.5.0/src/learner.cc:1115: Starting in XGBoost 1.3.0, the default evaluation metric used with the objective 'binary:logistic' was changed from 'error' to 'logloss'. Explicitly set eval_metric if you'd like to restore the old behavior.\n",
      "Wall time: 24.1 s\n"
     ]
    }
   ],
   "source": [
    "%%time\n",
    "#обучим пайплайн на всем тренировочном датасете\n",
    "model4.fit(X_train, y_train)\n",
    "y_score4 = model4.predict_proba(X_valid)[:, 1]"
   ]
  },
  {
   "cell_type": "markdown",
   "id": "0a157088",
   "metadata": {},
   "source": [
    "#### Оценка модели"
   ]
  },
  {
   "cell_type": "code",
   "execution_count": 70,
   "id": "78bf9c0d",
   "metadata": {},
   "outputs": [
    {
     "name": "stdout",
     "output_type": "stream",
     "text": [
      "Best Threshold=0.273098, F-Score=0.760, Precision=0.819, Recall=0.709\n"
     ]
    }
   ],
   "source": [
    "precision4, recall4, thresholds4 = precision_recall_curve(y_valid.values, y_score4)\n",
    "fscore4 = (1+b**2)*(precision4 * recall4) / (b**2*precision4 + recall4)\n",
    "# locate the index of the largest f score\n",
    "ix = np.argmax(fscore4)\n",
    "print('Best Threshold=%f, F-Score=%.3f, Precision=%.3f, Recall=%.3f' % (thresholds4[ix], \n",
    "                                                                        fscore4[ix],\n",
    "                                                                        precision4[ix],\n",
    "                                                                        recall4[ix]))"
   ]
  },
  {
   "cell_type": "markdown",
   "id": "697cba84",
   "metadata": {},
   "source": [
    "### 9. Оценка экономической эффективности модели<a id='grade'>"
   ]
  },
  {
   "cell_type": "markdown",
   "id": "d22e4ef1",
   "metadata": {},
   "source": [
    "Отрисуем матрицу ошибок"
   ]
  },
  {
   "cell_type": "code",
   "execution_count": 71,
   "id": "7ca14c53",
   "metadata": {},
   "outputs": [],
   "source": [
    "def plot_confusion_matrix(cm, classes,\n",
    "                          normalize=False,\n",
    "                          title='Confusion matrix',\n",
    "                          cmap=plt.cm.Blues):\n",
    "    \"\"\"\n",
    "    This function prints and plots the confusion matrix.\n",
    "    Normalization can be applied by setting `normalize=True`.\n",
    "    \"\"\"\n",
    "    plt.imshow(cm, interpolation='nearest', cmap=cmap)\n",
    "    plt.title(title)\n",
    "    plt.colorbar()\n",
    "    tick_marks = np.arange(len(classes))\n",
    "    plt.xticks(tick_marks, classes, rotation=45)\n",
    "    plt.yticks(tick_marks, classes)\n",
    "\n",
    "    if normalize:\n",
    "        cm = cm.astype('float') / cm.sum(axis=1)[:, np.newaxis]\n",
    "        print(\"Normalized confusion matrix\")\n",
    "    else:\n",
    "        print('Confusion matrix, without normalization')\n",
    "\n",
    "    print(cm)\n",
    "\n",
    "    thresh = cm.max() / 2.\n",
    "    for i, j in itertools.product(range(cm.shape[0]), range(cm.shape[1])):\n",
    "        plt.text(j, i, cm[i, j],\n",
    "                 horizontalalignment=\"center\",\n",
    "                 color=\"white\" if cm[i, j] > thresh else \"black\")\n",
    "\n",
    "    plt.tight_layout()\n",
    "    plt.ylabel('True label')\n",
    "    plt.xlabel('Predicted label')"
   ]
  },
  {
   "cell_type": "code",
   "execution_count": 72,
   "id": "62271a49",
   "metadata": {},
   "outputs": [
    {
     "name": "stdout",
     "output_type": "stream",
     "text": [
      "Confusion matrix, without normalization\n",
      "[[35440   605]\n",
      " [ 1119  2729]]\n"
     ]
    },
    {
     "data": {
      "image/png": "[encoded data removed]",
      "text/plain": [
       "<Figure size 720x576 with 2 Axes>"
      ]
     },
     "metadata": {},
     "output_type": "display_data"
    }
   ],
   "source": [
    "#мы уже нашли ранее \"оптимальный\" порог, когда максимизировали f_score\n",
    "font = {'size' : 15}\n",
    "\n",
    "plt.rc('font', **font)\n",
    "\n",
    "cnf_matrix = confusion_matrix(y_valid, y_score4>thresholds4[ix])\n",
    "plt.figure(figsize=(10, 8))\n",
    "plot_confusion_matrix(cnf_matrix, classes=['Nontoxic', 'toxic'],\n",
    "                      title='Confusion matrix')\n",
    "plt.savefig(\"conf_matrix.png\")\n",
    "plt.show()"
   ]
  },
  {
   "cell_type": "markdown",
   "id": "f43dd7c9",
   "metadata": {},
   "source": [
    "Посчитаем FPR, TPR"
   ]
  },
  {
   "cell_type": "code",
   "execution_count": 73,
   "id": "73851b1f",
   "metadata": {},
   "outputs": [],
   "source": [
    "TN = cnf_matrix[0][0]\n",
    "FN = cnf_matrix[1][0]\n",
    "TP = cnf_matrix[1][1]\n",
    "FP = cnf_matrix[0][1]"
   ]
  },
  {
   "cell_type": "markdown",
   "id": "1068b647",
   "metadata": {},
   "source": [
    "Посчитаем нужные нам метрики"
   ]
  },
  {
   "cell_type": "code",
   "execution_count": 74,
   "id": "a024a237",
   "metadata": {},
   "outputs": [
    {
     "data": {
      "text/plain": [
       "(0.7091995841995842, 0.016784574837009295, 0.9832154251629907)"
      ]
     },
     "execution_count": 74,
     "metadata": {},
     "output_type": "execute_result"
    }
   ],
   "source": [
    "TPR = TP/(TP+FN)\n",
    "FPR = FP/(FP+TN)\n",
    "TNR = TN/(FP+TN)\n",
    "TPR, FPR, TNR"
   ]
  },
  {
   "cell_type": "markdown",
   "id": "250b6209",
   "metadata": {},
   "source": [
    "False Positive Rate составил всего лишь 0.016.\n",
    "\n",
    "Это означает, что только 1.6 процента всех комментариев будут помечены как токсичные некорректно"
   ]
  },
  {
   "cell_type": "markdown",
   "id": "736706a9",
   "metadata": {},
   "source": [
    "Глобальные выводы:\n",
    "\n",
    "1. TNR = 0.98 -> модель может автоматически фильтровать 98% токсичных комментариев\n",
    "2. TPR = 0.71 -> доля ошибочно классифицированных как токсичных (хотя это нормальные комментарии), не будет превышать при этом 1.6 процентов"
   ]
  },
  {
   "cell_type": "markdown",
   "id": "d7658756",
   "metadata": {},
   "source": [
    "Пусть:\n",
    " - пропущенный комментарий стоит 150 р\n",
    " - заблокировать пользователя обойдется в 20 р\n",
    "\n",
    "Определим где больше потерь:"
   ]
  },
  {
   "cell_type": "code",
   "execution_count": 75,
   "id": "47e060f6",
   "metadata": {},
   "outputs": [
    {
     "data": {
      "image/png": "[encoded data removed]",
      "text/plain": [
       "<Figure size 1152x288 with 1 Axes>"
      ]
     },
     "metadata": {},
     "output_type": "display_data"
    }
   ],
   "source": [
    "plt.figure(figsize=(16,4))\n",
    "\n",
    "plt.plot(y_score4[:100] , '--*g', label = 'выход модели')\n",
    "plt.plot(y_score4[:100]>thresholds4[ix], '-*b', label = 'вероятностная оценка')\n",
    "plt.plot(y_valid.values[:100], '^k', label = 'истиная классификация')\n",
    "plt.grid('on')\n",
    "\n",
    "plt.plot([0,100],[thresholds4[ix],thresholds4[ix]],'r', label = 'уровень классификации')\n",
    "\n",
    "\n",
    "plt.legend()\n",
    "plt.show()"
   ]
  },
  {
   "cell_type": "markdown",
   "id": "efd0fa7a",
   "metadata": {},
   "source": [
    "На графике видим, что модель предсказывает хорошо"
   ]
  },
  {
   "cell_type": "code",
   "execution_count": 77,
   "id": "0e9bfccd",
   "metadata": {},
   "outputs": [
    {
     "name": "stdout",
     "output_type": "stream",
     "text": [
      "порог:  0.2730981   потери при использовании ML: 179950\n",
      "потери без ML: 500100\n",
      "разница (без ML - с ML):  320150\n"
     ]
    }
   ],
   "source": [
    "cnf_matrix = confusion_matrix(y_valid, y_score4>thresholds4[ix])\n",
    "\n",
    "\n",
    "pay_toxic = cnf_matrix[1,0]*150 + cnf_matrix[0,1]*20\n",
    "pay_toxic2 = (cnf_matrix[0,1]+cnf_matrix[1,1])*150\n",
    "print('порог: ', thresholds4[ix], '  потери при использовании ML:',pay_toxic)\n",
    "print('потери без ML:',pay_toxic2)\n",
    "print('разница (без ML - с ML): ',pay_toxic2 - pay_toxic)"
   ]
  },
  {
   "cell_type": "code",
   "execution_count": 86,
   "id": "b7812dfd",
   "metadata": {
    "scrolled": true
   },
   "outputs": [
    {
     "data": {
      "image/png": "[encoded data removed]",
      "text/plain": [
       "<Figure size 432x288 with 1 Axes>"
      ]
     },
     "metadata": {},
     "output_type": "display_data"
    }
   ],
   "source": [
    "pay_toxic_th =[]\n",
    "trh_level = np.linspace(0,1,10).tolist()\n",
    "for trh in trh_level:\n",
    "    cnf_matrix = confusion_matrix(y_valid, y_score4>trh)\n",
    "    pay_toxic_th.append( cnf_matrix[1,0]*150 + cnf_matrix[0,1]*20)\n",
    "    \n",
    "plt.plot(trh_level,pay_toxic_th)\n",
    "plt.ylabel('руб.')\n",
    "plt.xlabel('порог')\n",
    "plt.title('потери')\n",
    "plt.show()"
   ]
  },
  {
   "cell_type": "markdown",
   "id": "6c52608f",
   "metadata": {},
   "source": [
    "Меньше всего потерь при пороге примерно 0,16. Посчитаем бизнес метрики с этим порогом:"
   ]
  },
  {
   "cell_type": "code",
   "execution_count": 89,
   "id": "48f4c976",
   "metadata": {},
   "outputs": [
    {
     "name": "stdout",
     "output_type": "stream",
     "text": [
      "Confusion matrix, without normalization\n",
      "[[34829  1216]\n",
      " [  880  2968]]\n"
     ]
    },
    {
     "data": {
      "image/png": "[encoded data removed]",
      "text/plain": [
       "<Figure size 720x576 with 2 Axes>"
      ]
     },
     "metadata": {},
     "output_type": "display_data"
    }
   ],
   "source": [
    "font = {'size' : 15}\n",
    "\n",
    "plt.rc('font', **font)\n",
    "\n",
    "cnf_matrix = confusion_matrix(y_valid, y_score4>0.16)\n",
    "plt.figure(figsize=(10, 8))\n",
    "plot_confusion_matrix(cnf_matrix, classes=['Nontoxic', 'toxic'],\n",
    "                      title='Confusion matrix')\n",
    "plt.savefig(\"conf_matrix.png\")\n",
    "plt.show()"
   ]
  },
  {
   "cell_type": "markdown",
   "id": "3244233e",
   "metadata": {},
   "source": [
    "с порогом 0,16 Фальшиво позитивных стало больше, а Фальшиво-негативных чуть меньшн. Посчитаем на сколько хуже или лучше стали бизнес метрики:"
   ]
  },
  {
   "cell_type": "code",
   "execution_count": 95,
   "id": "b3941e84",
   "metadata": {},
   "outputs": [],
   "source": [
    "TN = cnf_matrix[0][0]\n",
    "FN = cnf_matrix[1][0]\n",
    "TP = cnf_matrix[1][1]\n",
    "FP = cnf_matrix[0][1]"
   ]
  },
  {
   "cell_type": "markdown",
   "id": "c044e30b",
   "metadata": {},
   "source": [
    "Посчитаем нужные нам метрики"
   ]
  },
  {
   "cell_type": "code",
   "execution_count": 91,
   "id": "43e32fb1",
   "metadata": {},
   "outputs": [
    {
     "data": {
      "text/plain": [
       "(0.7713097713097713, 0.03373560826744347, 0.9662643917325565)"
      ]
     },
     "execution_count": 91,
     "metadata": {},
     "output_type": "execute_result"
    }
   ],
   "source": [
    "TPR = TP/(TP+FN)\n",
    "FPR = FP/(FP+TN)\n",
    "TNR = TN/(FP+TN)\n",
    "TPR, FPR, TNR"
   ]
  },
  {
   "cell_type": "markdown",
   "id": "16f3d83e",
   "metadata": {},
   "source": [
    "False Positive Rate составил 0.03, не значительно больше. Всего 3 процента всех комментариев будут помечены как токсичные некорректно"
   ]
  },
  {
   "cell_type": "code",
   "execution_count": 96,
   "id": "2ff3a0ff",
   "metadata": {},
   "outputs": [
    {
     "name": "stdout",
     "output_type": "stream",
     "text": [
      "порог:  0.16   потери при использовании ML: 156320\n",
      "потери без ML: 627600\n",
      "разница (без ML - с ML):  471280\n"
     ]
    }
   ],
   "source": [
    "cnf_matrix = confusion_matrix(y_valid, y_score4>0.16)\n",
    "\n",
    "\n",
    "pay_toxic = cnf_matrix[1,0]*150 + cnf_matrix[0,1]*20\n",
    "pay_toxic2 = (cnf_matrix[0,1]+cnf_matrix[1,1])*150\n",
    "print('порог: ', 0.16, '  потери при использовании ML:',pay_toxic)\n",
    "print('потери без ML:',pay_toxic2)\n",
    "print('разница (без ML - с ML): ',pay_toxic2 - pay_toxic)"
   ]
  },
  {
   "cell_type": "markdown",
   "id": "4d78930f",
   "metadata": {},
   "source": [
    "Таким образом выбрав лучшую модель, обучив ее и подобрав лучший порог, получили лучшие бизнес метрики. Экономия, при использовании модели в итоге составит 471 280 р."
   ]
  },
  {
   "cell_type": "markdown",
   "id": "cfc2ed36",
   "metadata": {},
   "source": [
    "## 10. Прогнозирование на тестовом датасете<a id='test'>"
   ]
  },
  {
   "cell_type": "code",
   "execution_count": 97,
   "id": "f178d103",
   "metadata": {},
   "outputs": [
    {
     "data": {
      "text/html": [
       "<div>\n",
       "<style scoped>\n",
       "    .dataframe tbody tr th:only-of-type {\n",
       "        vertical-align: middle;\n",
       "    }\n",
       "\n",
       "    .dataframe tbody tr th {\n",
       "        vertical-align: top;\n",
       "    }\n",
       "\n",
       "    .dataframe thead th {\n",
       "        text-align: right;\n",
       "    }\n",
       "</style>\n",
       "<table border=\"1\" class=\"dataframe\">\n",
       "  <thead>\n",
       "    <tr style=\"text-align: right;\">\n",
       "      <th></th>\n",
       "      <th>comment_id</th>\n",
       "      <th>text</th>\n",
       "    </tr>\n",
       "  </thead>\n",
       "  <tbody>\n",
       "    <tr>\n",
       "      <th>0</th>\n",
       "      <td>114890</td>\n",
       "      <td>\"\\n \\n\\nGjalexei, you asked about whether ther...</td>\n",
       "    </tr>\n",
       "    <tr>\n",
       "      <th>1</th>\n",
       "      <td>732895</td>\n",
       "      <td>Looks like be have an abuser , can you please ...</td>\n",
       "    </tr>\n",
       "    <tr>\n",
       "      <th>2</th>\n",
       "      <td>1139051</td>\n",
       "      <td>I confess to having complete (and apparently b...</td>\n",
       "    </tr>\n",
       "    <tr>\n",
       "      <th>3</th>\n",
       "      <td>1434512</td>\n",
       "      <td>\"\\n\\nFreud's ideas are certainly much discusse...</td>\n",
       "    </tr>\n",
       "    <tr>\n",
       "      <th>4</th>\n",
       "      <td>2084821</td>\n",
       "      <td>It is not just you. This is a laundry list of ...</td>\n",
       "    </tr>\n",
       "    <tr>\n",
       "      <th>...</th>\n",
       "      <td>...</td>\n",
       "      <td>...</td>\n",
       "    </tr>\n",
       "    <tr>\n",
       "      <th>7532</th>\n",
       "      <td>504235362</td>\n",
       "      <td>Go away, you annoying vandal.</td>\n",
       "    </tr>\n",
       "    <tr>\n",
       "      <th>7533</th>\n",
       "      <td>504235566</td>\n",
       "      <td>This user is a vandal.</td>\n",
       "    </tr>\n",
       "    <tr>\n",
       "      <th>7534</th>\n",
       "      <td>504308177</td>\n",
       "      <td>\" \\n\\nSorry to sound like a pain, but one by f...</td>\n",
       "    </tr>\n",
       "    <tr>\n",
       "      <th>7535</th>\n",
       "      <td>504570375</td>\n",
       "      <td>Well it's pretty fucking irrelevant now I'm un...</td>\n",
       "    </tr>\n",
       "    <tr>\n",
       "      <th>7536</th>\n",
       "      <td>504598250</td>\n",
       "      <td>The team name is Great Britain and Northern Ir...</td>\n",
       "    </tr>\n",
       "  </tbody>\n",
       "</table>\n",
       "<p>7537 rows × 2 columns</p>\n",
       "</div>"
      ],
      "text/plain": [
       "      comment_id                                               text\n",
       "0         114890  \"\\n \\n\\nGjalexei, you asked about whether ther...\n",
       "1         732895  Looks like be have an abuser , can you please ...\n",
       "2        1139051  I confess to having complete (and apparently b...\n",
       "3        1434512  \"\\n\\nFreud's ideas are certainly much discusse...\n",
       "4        2084821  It is not just you. This is a laundry list of ...\n",
       "...          ...                                                ...\n",
       "7532   504235362                      Go away, you annoying vandal.\n",
       "7533   504235566                           This user is a vandal.  \n",
       "7534   504308177  \" \\n\\nSorry to sound like a pain, but one by f...\n",
       "7535   504570375  Well it's pretty fucking irrelevant now I'm un...\n",
       "7536   504598250  The team name is Great Britain and Northern Ir...\n",
       "\n",
       "[7537 rows x 2 columns]"
      ]
     },
     "execution_count": 97,
     "metadata": {},
     "output_type": "execute_result"
    }
   ],
   "source": [
    "test"
   ]
  },
  {
   "cell_type": "code",
   "execution_count": 99,
   "id": "764172df",
   "metadata": {},
   "outputs": [
    {
     "data": {
      "text/plain": [
       "array([0.0058882 , 0.03464114, 0.00645959, ..., 0.03160464, 0.90814394,\n",
       "       0.04773532], dtype=float32)"
      ]
     },
     "execution_count": 99,
     "metadata": {},
     "output_type": "execute_result"
    }
   ],
   "source": [
    "predicts = model4.predict_proba(test)[:, 1]\n",
    "predicts"
   ]
  },
  {
   "cell_type": "code",
   "execution_count": 100,
   "id": "5e3eb188",
   "metadata": {},
   "outputs": [
    {
     "data": {
      "text/html": [
       "<div>\n",
       "<style scoped>\n",
       "    .dataframe tbody tr th:only-of-type {\n",
       "        vertical-align: middle;\n",
       "    }\n",
       "\n",
       "    .dataframe tbody tr th {\n",
       "        vertical-align: top;\n",
       "    }\n",
       "\n",
       "    .dataframe thead th {\n",
       "        text-align: right;\n",
       "    }\n",
       "</style>\n",
       "<table border=\"1\" class=\"dataframe\">\n",
       "  <thead>\n",
       "    <tr style=\"text-align: right;\">\n",
       "      <th></th>\n",
       "      <th>comment_id</th>\n",
       "      <th>score</th>\n",
       "    </tr>\n",
       "  </thead>\n",
       "  <tbody>\n",
       "    <tr>\n",
       "      <th>0</th>\n",
       "      <td>114890</td>\n",
       "      <td>0.023036</td>\n",
       "    </tr>\n",
       "    <tr>\n",
       "      <th>1</th>\n",
       "      <td>732895</td>\n",
       "      <td>0.034162</td>\n",
       "    </tr>\n",
       "    <tr>\n",
       "      <th>2</th>\n",
       "      <td>1139051</td>\n",
       "      <td>0.038069</td>\n",
       "    </tr>\n",
       "    <tr>\n",
       "      <th>3</th>\n",
       "      <td>1434512</td>\n",
       "      <td>0.028939</td>\n",
       "    </tr>\n",
       "    <tr>\n",
       "      <th>4</th>\n",
       "      <td>2084821</td>\n",
       "      <td>0.499551</td>\n",
       "    </tr>\n",
       "  </tbody>\n",
       "</table>\n",
       "</div>"
      ],
      "text/plain": [
       "   comment_id     score\n",
       "0      114890  0.023036\n",
       "1      732895  0.034162\n",
       "2     1139051  0.038069\n",
       "3     1434512  0.028939\n",
       "4     2084821  0.499551"
      ]
     },
     "execution_count": 100,
     "metadata": {},
     "output_type": "execute_result"
    }
   ],
   "source": [
    "submit=pd.read_csv(PREPARED_TRAIN_DATASET_PATH, sep=',')\n",
    "submit.head()"
   ]
  },
  {
   "cell_type": "code",
   "execution_count": 101,
   "id": "9767bbaf",
   "metadata": {},
   "outputs": [
    {
     "data": {
      "text/plain": [
       "(7537,)"
      ]
     },
     "execution_count": 101,
     "metadata": {},
     "output_type": "execute_result"
    }
   ],
   "source": [
    "predicts.shape"
   ]
  },
  {
   "cell_type": "code",
   "execution_count": 102,
   "id": "99b26f8a",
   "metadata": {},
   "outputs": [],
   "source": [
    "submit['score'] = predicts"
   ]
  },
  {
   "cell_type": "code",
   "execution_count": 103,
   "id": "d1516c80",
   "metadata": {},
   "outputs": [
    {
     "data": {
      "text/plain": [
       "(7537, 2)"
      ]
     },
     "execution_count": 103,
     "metadata": {},
     "output_type": "execute_result"
    }
   ],
   "source": [
    "submit.shape"
   ]
  },
  {
   "cell_type": "markdown",
   "id": "28f2c69e",
   "metadata": {},
   "source": [
    "Сохраним полученные вероятностные оценки в файл."
   ]
  },
  {
   "cell_type": "code",
   "execution_count": 104,
   "id": "22f27d73",
   "metadata": {},
   "outputs": [],
   "source": [
    "submit.to_csv(PREPARED_TRAIN_DATASET_PATH, index=False)"
   ]
  }
 ],
 "metadata": {
  "kernelspec": {
   "display_name": "Python 3",
   "language": "python",
   "name": "python3"
  },
  "language_info": {
   "codemirror_mode": {
    "name": "ipython",
    "version": 3
   },
   "file_extension": ".py",
   "mimetype": "text/x-python",
   "name": "python",
   "nbconvert_exporter": "python",
   "pygments_lexer": "ipython3",
   "version": "3.8.8"
  }
 },
 "nbformat": 4,
 "nbformat_minor": 5
}
